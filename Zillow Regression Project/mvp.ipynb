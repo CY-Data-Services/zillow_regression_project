{
 "cells": [
  {
   "cell_type": "markdown",
   "metadata": {},
   "source": [
    "# Zillow Regression Project"
   ]
  },
  {
   "cell_type": "markdown",
   "metadata": {},
   "source": [
    "<div class=\"alert alert-block alert-success\"></div>"
   ]
  },
  {
   "cell_type": "markdown",
   "metadata": {},
   "source": [
    "## Executive Summary\n",
    "\n",
    "##### Key Findings from Explore \n",
    "- Top 5 variables for modeling (bedroomcnt, bathroomcnt, calculatedfinishedsquarefeet, garage, zip_cc)\n",
    "- Validated using SlectKBest and RFE\n",
    "- Variables passed F-Test with p-value < 0.05, indicating 95% certainty the indipendent variables explains the relationship (r-value)  \n",
    "- Chi Squared Test for Independence: bedroomcnt and bathroomcnt \n",
    "  - Rejected Null: 95% Confidence Variabes show dependence     \n",
    "- Independent T-Test: Preformed on fireplace and total square feet \n",
    "  - Rejected Null: 95% Confidence that there is a difference (in terms of square footage) between houses with or without a fireplace   \n",
    "  \n",
    "##### Key Findings from Modeling \n",
    "- 4 models: Linear Regression, LassoLars, Polynomial Features, TweedieRegressor   \n",
    "  - Target = taxvaluedollarcnt   \n",
    "- Best Performing Model:\n",
    "    - Second Iteration (5 Features, degree = 2)\n",
    "    - Features = bedroomcnt, bathroomcnt, calculatedfinishedsquarefeet, garage, zip_cc\n",
    "    - Model = Polynomial Feature Model\n",
    "    - Avg. RMSE of $447039.41\n",
    "    - **31% Improvement over baseline**\n",
    "    - Effect On Model - RFE Features Improve Preformance\n",
    "    \n",
    "##### Additional requested Tax Rate information is in the [this_notebook](https://github.com/CY-Data-Services/zillow_regression_project/blob/main/Zillow%20Regression%20Project/Additional_Information.ipynb)"
   ]
  },
  {
   "cell_type": "markdown",
   "metadata": {},
   "source": [
    "### Problem Statement\n",
    "\n",
    "We want to be able to predict the values of single unit properties that the tax district assesses using the property data from those whose last transaction was during the \"hot months\" (in terms of real estate demand) of May and June in 2017.\n",
    "\n",
    "#### Addidtional Reporting Requested\n",
    "\n",
    "1. What state and county are these properties in?\n",
    "2. Tax Rate for each property\n",
    "3. Distribution of tax rates for each county\n",
    "4. How much does the tax rate vary by county?\n",
    "5. What tax rate do the bulk of the properties sit around?\n",
    "\n",
    "This model will allow us to predict tax assessment values which is helpful when considering property purchase. \n"
   ]
  },
  {
   "cell_type": "markdown",
   "metadata": {},
   "source": [
    "### Work Plan\n",
    "**Work Flow**   \n",
    "Acquire data from Codeup Zillow database, clean and prepare   \n",
    "Explore 3 variables for modeling (bedroomcnt, bathroomcnt, and calculatedfinishedsquarefeet)  \n",
    "Use Chi Squared Test for Independence on bedroomcnt and bathroomcnt to determine dependence of features  \n",
    "Construct a model to predict single unit property tax assessment value   \n",
    "Evaluate model effectiveness  \n",
    "Summarize Conclusions and next steps  \n",
    "\n",
    "**Machine Learning(ML) Condsiderations**   \n",
    "Model type is a Regression ML model  \n",
    "Use all four common regression model types: Linear Regression, LassoLars, Polynomial Features, TweedieRegressor  \n",
    "Models require numeric data must be scaled   \n",
    "Establish Baseline based on target mean, if model Root Mean Squared Error (RMSE) is lower than the baseline the model performs better\n"
   ]
  },
  {
   "cell_type": "markdown",
   "metadata": {},
   "source": [
    "<div class=\"alert alert-block alert-success\"></div>"
   ]
  },
  {
   "cell_type": "markdown",
   "metadata": {},
   "source": [
    "## Imports"
   ]
  },
  {
   "cell_type": "code",
   "execution_count": 1,
   "metadata": {},
   "outputs": [],
   "source": [
    "import src.acquire\n",
    "import src.prepare\n",
    "import src.explore\n",
    "import src.model\n",
    "import pandas as pd\n",
    "import numpy as np\n",
    "import seaborn as sns\n",
    "import matplotlib.pyplot as plt\n",
    "from math import sqrt\n",
    "from scipy import stats\n",
    "\n",
    "import warnings\n",
    "warnings.filterwarnings(\"ignore\")\n",
    "\n",
    "from statsmodels.formula.api import ols\n",
    "from sklearn.metrics import mean_squared_error, r2_score, explained_variance_score\n",
    "from sklearn.feature_selection import f_regression, SelectKBest, RFE \n",
    "from sklearn.linear_model import LinearRegression, LassoLars, TweedieRegressor\n",
    "from sklearn.preprocessing import PolynomialFeatures"
   ]
  },
  {
   "cell_type": "markdown",
   "metadata": {},
   "source": [
    "<div class=\"alert alert-block alert-success\"></div>"
   ]
  },
  {
   "cell_type": "markdown",
   "metadata": {},
   "source": [
    "## Acquire the Data"
   ]
  },
  {
   "cell_type": "markdown",
   "metadata": {},
   "source": [
    "### SQL Query synopsis\n",
    "\n",
    "Select all columns from actual 2017 and join predictions 2017 to get the transaction date and filter for the months of May and June 2017 only. Then filter the results for only property use types that meet the deffinition of a single unit property. \n",
    "\n",
    "**Determine deffinition of single property**\n",
    "used article by James Chen Updated Sep 11, 2020 What Is a Housing Unit?\n",
    "\"The term housing unit refers to a single unit within a larger structure that can be used by an individual or household to eat, sleep, and live. The unit can be in any type of residence such as a house, apartment, mobile home, or may also be a single unit in a group of rooms. Essentially, a housing unit is deemed to be a separate living quarter where the occupants live and eat separately from other residents of the structure or building. They also have direct access from the building's exterior or through a common hallway.\"\n",
    "\n",
    "    https://www.investopedia.com/terms/h/housingunits.asp\n",
    "\n",
    "**Identify Properties in the Database: Based on the above definition some categories do not fit brief**    \n",
    "Propertylandusetypeid | propertylandusedesc    \n",
    "  **No**        31           Commercial/Office/Residential Mixed Used  (not a residence)   \n",
    "  **No**        46           Multi-Story Store                         (not a residence)   \n",
    "  **No**        47           Store/Office (Mixed Use)                  (not a residence)   \n",
    "            246          Duplex (2 Units, Any Combination)   \n",
    "            247          Triplex (3 Units, Any Combination)   \n",
    "            248          Quadruplex (4 Units, Any Combination)   \n",
    "            260          Residential General   \n",
    "            261          Single Family Residential   \n",
    "            262          Rural Residence   \n",
    "            263          Mobile Home   \n",
    "            264          Townhouse   \n",
    "            265          Cluster Home    \n",
    "            266          Condominium   \n",
    "  **No**        267          Cooperative                               (become shareholder not owner)   \n",
    "            268          Row House\n",
    "            269          Planned Unit Development   \n",
    "  **No**        270          Residential Common Area                   (propterty feature)   \n",
    "  **No**        271          Timeshare                                 (become shareholder not owner)  \n",
    "            273          Bungalow\n",
    "            274          Zero Lot Line   \n",
    "            275          Manufactured, Modular, Prefabricated Homes   \n",
    "            276          Patio Home    \n",
    "            279          Inferred Single Family Residential\n",
    "  **No**        290          Vacant Land - General                     (not a residence)   \n",
    "  **No**        291          Residential Vacant Land                   (not a residence)   "
   ]
  },
  {
   "cell_type": "markdown",
   "metadata": {},
   "source": [
    "<div class=\"alert alert-block alert-success\"></div>"
   ]
  },
  {
   "cell_type": "markdown",
   "metadata": {},
   "source": [
    "## Prepare the Data\n",
    "\n",
    "**Feature Selection**   \n",
    "What Data do we need in our inital df?   \n",
    "\n",
    "parcelid 20931 non-null int64 Listing Number - Unique id, Drop   \n",
    "id 20931 non-null int64 Listing ID - Drop   \n",
    "airconditioningtypeid 6779 non-null float64 - Too Many null-values - Drop  \n",
    "architecturalstyletypeid 52 non-null float64 - Too Many null-values - Drop   \n",
    "basementsqft 16 non-null float64 16 non-values - Drop for Explore   \n",
    "bathroomcnt 20931 non-null float64 **Use**   \n",
    "bedroomcnt 20931 non-null float64 **Use** - Combine bath/bed (feature engeneering)   \n",
    "buildingclasstypeid 0 non-null object - All Values Null - Drop   \n",
    "buildingqualitytypeid 13257 non-null float64 - Too Many null-values - Drop   \n",
    "calculatedbathnbr 20771 non-null float64 - Repeat of barthromcnt - Drop   \n",
    "decktypeid 174 non-null float64 - Too Many null-values - Drop   \n",
    "finishedfloor1squarefeet 1738 non-null float64 - Repeat Column - Drop   \n",
    "calculatedfinishedsquarefeet 20868 non-null float64 **Use** - Drop nulls   \n",
    "finishedsquarefeet12 20024 non-null float64 - Repeat Column - Drop for Explore   \n",
    "finishedsquarefeet13 17 non-null float64 - Repeat Column - Drop    \n",
    "finishedsquarefeet15 736 non-null float64 - Repeat Column - Drop    \n",
    "finishedsquarefeet50 1738 non-null float64 - Repeat Column - Drop    \n",
    "finishedsquarefeet6 91 non-null float64 - Repeat Column - Drop    \n",
    "fips 20931 non-null float64 - **Use** - use for additional notebook    \n",
    "fireplacecnt 2422 non-null float64 **Use** - change null to 0   \n",
    "fullbathcnt 20771 non-null float64 - Repeat of bathroom - Drop   \n",
    "garagecarcnt 7075 non-null float64 **Use** - Rename as garage, change null to 0   \n",
    "garagetotalsqft 7075 non-null float64 - garagesqft verifys that they exist - Drop   \n",
    "hashottuborspa 461 non-null float64 **Use** - change null to 0, for no ht or spa   \n",
    "heatingorsystemtypeid 13285 non-null float64 - Too Many null-values - Drop   \n",
    "latitude 20931 non-null float64 - **Use**n - use for additional notebook   \n",
    "longitude 20931 non-null float64 - **Use** - use for additional notebook   \n",
    "lotsizesquarefeet 18742 non-null float64 - Too Large for Modeling, Scaling?   \n",
    "poolcnt 4496 non-null float64 Use **Use** - change null to 0, for no pool   \n",
    "poolsizesum 251 non-null float64 - Repeat Column - Drop    \n",
    "pooltypeid10 121 non-null float64 - Repeat Column - Drop    \n",
    "pooltypeid2 340 non-null float64 - Repeat Column - Drop    \n",
    "pooltypeid7 4154 non-null float64 - Repeat Column - Drop   \n",
    "propertycountylandusecode 20931 non-null object - Repeat Column - Drop       \n",
    "propertylandusetypeid 20931 non-null float64 **Use** - Categories   \n",
    "propertyzoningdesc 13437 non-null object - Too Many null-values - Drop   \n",
    "rawcensustractandblock 20931 non-null float64 - Repeat Column - Drop   \n",
    "regionidcity 20503 non-null float64 - Repeat info(zip) - Drop   \n",
    "regionidcounty 20931 non-null float64 Repeat info(zip) - Drop   \n",
    "regionidneighborhood 8443 non-null float64 - Too Many null-values - Drop    \n",
    "regionidzip 20916 non-null float64 **Use** - latered to categorical   \n",
    "roomcnt 20931 non-null float64 **Use**   \n",
    "storytypeid 16 non-null float64 - Too Many null-values - Drop   \n",
    "threequarterbathnbr 2800 non-null float64 - Repeat info(bathroom) - Drop   \n",
    "typeconstructiontypeid 56 non-null float64 - Too Many null-values - Drop    \n",
    "unitcnt 13476 non-null float64 - Repeat info() - Drop    \n",
    "yardbuildingsqft17 701 non-null float64 - Too Many null-values - Drop    \n",
    "yardbuildingsqft26 25 non-null float64 - Too Many null-values - Drop    \n",
    "yearbuilt 20850 non-null float64 **Use** - Drop null values, convert to year, category, then drop     \n",
    "numberofstories 4917 non-null float64 - Too Many null-values - Drop    \n",
    "fireplaceflag 51 non-null float64 - Repeat info(firepls) - Drop    \n",
    "structuretaxvaluedollarcnt 20897 non-null float64 - Correlates w/Target - Drop   \n",
    "taxvaluedollarcnt 20930 non-null float64 **Target Variable**   \n",
    "assessmentyear 20931 non-null float64 - Filtered in SQL - Drop    \n",
    "landtaxvaluedollarcnt 20930 non-null float64 - Correlates w/Target - Drop   \n",
    "taxamount 20931 non-null float64 - **Use** - use for additional notebook    \n",
    "taxdelinquencyflag 703 non-null object - Correlates w/Target - Drop    \n",
    "taxdelinquencyyear 703 non-null float64 - Correlates w/Target - Drop    \n",
    "censustractandblock 20852 non-null float64 - Repeat Column - Drop    \n",
    "id 20931 non-null int64 - Repeat Column - Drop    \n",
    "logerror 20931 non-null float64 - Calculation - Drop    \n",
    "transactiondate 20931 non-null object - Filtered in SQL - Drop    "
   ]
  },
  {
   "cell_type": "markdown",
   "metadata": {},
   "source": [
    "### Clean the Data\n",
    "\n",
    "Rename columns for clarity: fireplace, hottub, garage    \n",
    "Replace NaN values with 0 because property did not have feature if NaN was used     \n",
    "Convert zip, parcelid, year to categorical values and assign codes using .astype and .cat     \n",
    "Drop all columns except those needed for explore and modeling stages   \n",
    "Drop outliers identified during tax rate calculation, total 14 oberservations, see Additional Information Notebook for strategy synopsis    \n",
    "Drop any remaining null values   \n",
    "Split data into train, validate, test   \n",
    "Define dataframe for exploration (X_train_explore) based on train   \n",
    "Define dataframes for scaling (X_train, X_validate, X_test) dropping target values and non-feature columns   \n",
    "Define target dataframe for modeling (y_train, y_validate, y_test)   \n",
    "Fit the scaler (MinMaxScaler used) to the X_train dataframe   \n",
    "Transform the dataframes to return X_train_scaled, X_validate_scaled, X_test_scaled   \n"
   ]
  },
  {
   "cell_type": "markdown",
   "metadata": {},
   "source": [
    "### Load created dataframes"
   ]
  },
  {
   "cell_type": "code",
   "execution_count": 2,
   "metadata": {},
   "outputs": [
    {
     "data": {
      "text/plain": [
       "((12216, 12), (5236, 12), (4364, 12))"
      ]
     },
     "execution_count": 2,
     "metadata": {},
     "output_type": "execute_result"
    }
   ],
   "source": [
    "path='zillow_df.csv'\n",
    "\n",
    "df, X_train_explore, \\\n",
    "    X_train_scaled, y_train, \\\n",
    "    X_validate_scaled, y_validate, \\\n",
    "    X_test_scaled, y_test = src.prepare.wrangle_zillow(path)\n",
    "\n",
    "X_train_scaled.shape, X_validate_scaled.shape, X_test_scaled.shape"
   ]
  },
  {
   "cell_type": "markdown",
   "metadata": {},
   "source": [
    "<div class=\"alert alert-block alert-success\"></div>"
   ]
  },
  {
   "cell_type": "markdown",
   "metadata": {},
   "source": [
    "## Explore the Data"
   ]
  },
  {
   "cell_type": "code",
   "execution_count": 53,
   "metadata": {},
   "outputs": [
    {
     "data": {
      "text/plain": [
       "<Figure size 1152x504 with 0 Axes>"
      ]
     },
     "metadata": {},
     "output_type": "display_data"
    },
    {
     "data": {
      "image/png": "[encoded data removed]",
      "text/plain": [
       "<Figure size 432x432 with 3 Axes>"
      ]
     },
     "metadata": {
      "needs_background": "light"
     },
     "output_type": "display_data"
    }
   ],
   "source": [
    "# Visualize relationship between square feet and tax value (Continuous and Continuous)\n",
    "plt.figure(figsize=(16,7))\n",
    "sns.jointplot(x='calculatedfinishedsquarefeet',y='taxvaluedollarcnt', data=X_train_explore)\n",
    "## plt.title('Tax value by square footage') ## No way to add this where it looks ok\n",
    "plt.show()"
   ]
  },
  {
   "cell_type": "code",
   "execution_count": 4,
   "metadata": {},
   "outputs": [
    {
     "data": {
      "image/png": "[encoded data removed]",
      "text/plain": [
       "<Figure size 1152x504 with 1 Axes>"
      ]
     },
     "metadata": {
      "needs_background": "light"
     },
     "output_type": "display_data"
    }
   ],
   "source": [
    "# Visualize relationship between bedroom count and tax value (Continuous and Categorical)\n",
    "X_train_explore['bedroom_bin'] = pd.cut(X_train_explore.bedroomcnt, bins=[0, 4, 8, 12], labels=['4', '8', '12'])\n",
    "plt.figure(figsize=(16,7))\n",
    "sns.boxplot(data=X_train_explore, y='taxvaluedollarcnt', x='bedroom_bin')\n",
    "plt.title('Tax value by bedrooms')\n",
    "plt.show()"
   ]
  },
  {
   "cell_type": "code",
   "execution_count": 5,
   "metadata": {},
   "outputs": [
    {
     "data": {
      "image/png": "[encoded data removed]",
      "text/plain": [
       "<Figure size 1152x504 with 1 Axes>"
      ]
     },
     "metadata": {
      "needs_background": "light"
     },
     "output_type": "display_data"
    }
   ],
   "source": [
    "# Visualize relationship between bathroom count and tax value (Continuous and Categorical)\n",
    "X_train_explore['bathroom_bin'] = pd.cut(X_train_explore.bathroomcnt, bins=[0, 3, 6, 9], labels=['3', '6', '9'])\n",
    "plt.figure(figsize=(16,7))\n",
    "sns.boxplot(data=X_train_explore, y='taxvaluedollarcnt', x='bathroom_bin')\n",
    "plt.title('Tax value by bathrooms')\n",
    "plt.show()"
   ]
  },
  {
   "cell_type": "code",
   "execution_count": 6,
   "metadata": {},
   "outputs": [
    {
     "data": {
      "image/png": "[encoded data removed]",
      "text/plain": [
       "<Figure size 432x288 with 1 Axes>"
      ]
     },
     "metadata": {
      "needs_background": "light"
     },
     "output_type": "display_data"
    }
   ],
   "source": [
    "# Histogram of Bedrooms (Continuous and Categorical)\n",
    "\n",
    "X_train_explore.bedroom_bin.value_counts().sort_index().plot.bar()\n",
    "plt.title('# of Bedrooms')\n",
    "plt.ylabel('Tax Value ($)')\n",
    "plt.xticks(rotation=0)\n",
    "plt.show()"
   ]
  },
  {
   "cell_type": "code",
   "execution_count": 7,
   "metadata": {},
   "outputs": [
    {
     "data": {
      "image/png": "[encoded data removed]",
      "text/plain": [
       "<Figure size 432x288 with 1 Axes>"
      ]
     },
     "metadata": {
      "needs_background": "light"
     },
     "output_type": "display_data"
    }
   ],
   "source": [
    "# Histogram of Bedrooms (Continuous and Categorical)\n",
    "X_train_explore.bathroom_bin.value_counts().sort_index().plot.bar()\n",
    "plt.title('# of Bathrooms')\n",
    "plt.ylabel('Tax Value ($)')\n",
    "plt.xticks(rotation=0)\n",
    "plt.show()"
   ]
  },
  {
   "cell_type": "code",
   "execution_count": 8,
   "metadata": {},
   "outputs": [
    {
     "data": {
      "image/png": "[encoded data removed]",
      "text/plain": [
       "<Figure size 1152x504 with 2 Axes>"
      ]
     },
     "metadata": {
      "needs_background": "light"
     },
     "output_type": "display_data"
    }
   ],
   "source": [
    "# Heatmap of bined values (Categorical and Categorical)\n",
    "plt.figure(figsize=(16,7))\n",
    "ctab = pd.crosstab(X_train_explore.bathroom_bin, X_train_explore.bedroom_bin, normalize=True)\n",
    "sns.heatmap(ctab, cmap='Purples', annot=True, fmt='.1%')\n",
    "plt.title('Heatmap bedrooms by bathrooms')\n",
    "plt.show()"
   ]
  },
  {
   "cell_type": "markdown",
   "metadata": {},
   "source": [
    "***\n",
    "\n",
    "#### Takeaway:\n",
    "\n",
    "1. The only feature that appears to correlate wth the target in a linear fashion is calculatedfinishedsqure feet\n",
    "2. Most housese have 3 or less bathrooms\n",
    "3. Most houses have 3 or less bedrooms\n",
    "4. High degree of correlation between bedrooms and bathrooms (in lower range of values), relationship to explore\n",
    "\n",
    "***"
   ]
  },
  {
   "cell_type": "markdown",
   "metadata": {},
   "source": [
    "<div class=\"alert alert-block alert-success\"></div>"
   ]
  },
  {
   "cell_type": "markdown",
   "metadata": {},
   "source": [
    "## Hypothesis Testing"
   ]
  },
  {
   "cell_type": "markdown",
   "metadata": {},
   "source": [
    "#### Chi Squared Test For Independence:\n",
    "\n",
    "**Hypothesis: There is a relationship between # of bedrooms and # of bathrooms that would make them a good canidate for future feature engeneering.**\n",
    "\n",
    "Null Hypothesis: $H_{0}$: Number of Bedrooms and Number of Bathrooms are independent\n",
    "\n",
    "Alternative Hypothesis: $H_{a}$: Number of Bedrooms and Number of Bathrooms are dependent\n",
    "\n"
   ]
  },
  {
   "cell_type": "code",
   "execution_count": 9,
   "metadata": {},
   "outputs": [
    {
     "name": "stdout",
     "output_type": "stream",
     "text": [
      "We reject the null hypothesis\n",
      "chi^2 = 16327.1250\n",
      "p     = 0.0000\n"
     ]
    }
   ],
   "source": [
    "# Hypothesis Test\n",
    "\n",
    "alpha = 0.05\n",
    "contingency_table = pd.crosstab(X_train_explore.bedroomcnt, X_train_explore.bathroomcnt)\n",
    "\n",
    "chi2, p, degf, expected = stats.chi2_contingency(contingency_table)\n",
    "\n",
    "if p < alpha:\n",
    "    print(\"We reject the null hypothesis\")\n",
    "    print(f'chi^2 = {chi2:.4f}')\n",
    "    print(f'p     = {p:.4f}')\n",
    "else:\n",
    "    print(\"We fail to reject the null hypothesis\")"
   ]
  },
  {
   "cell_type": "markdown",
   "metadata": {},
   "source": [
    "#### Two Sample, two tailed T-Test: Does a large home correlate to haveing a fireplace?\n",
    "\n",
    "**Hypothesis: There is a relationship between square footage and fireplaces that would make them a good canidate for future feature engeneering.**\n",
    "\n",
    "Null Hypothesis: $H_{0}$: In terms of squre footage there is no difference between houses with or without a fireplace\n",
    "\n",
    "Alternative Hypothesis: $H_{a}$: In terms of squre footage there is a difference between houses with or without a fireplace"
   ]
  },
  {
   "cell_type": "code",
   "execution_count": 10,
   "metadata": {},
   "outputs": [
    {
     "data": {
      "image/png": "[encoded data removed]",
      "text/plain": [
       "<Figure size 432x288 with 1 Axes>"
      ]
     },
     "metadata": {
      "needs_background": "light"
     },
     "output_type": "display_data"
    },
    {
     "data": {
      "image/png": "[encoded data removed]",
      "text/plain": [
       "<Figure size 432x288 with 1 Axes>"
      ]
     },
     "metadata": {
      "needs_background": "light"
     },
     "output_type": "display_data"
    }
   ],
   "source": [
    "#Plot Distribution (normalize distribution)\n",
    "fireplace = X_train_explore[X_train_explore.fireplace == 1]\n",
    "no_fireplace = X_train_explore[X_train_explore.fireplace == 0]\n",
    "\n",
    "fireplace['calculatedfinishedsquarefeet'].hist()\n",
    "plt.title('Distribution of fireplace and square footage')\n",
    "plt.show()\n",
    "no_fireplace['calculatedfinishedsquarefeet'].hist()\n",
    "plt.title('Distribution of NO fireplace and square footage')\n",
    "plt.show()"
   ]
  },
  {
   "cell_type": "code",
   "execution_count": 11,
   "metadata": {},
   "outputs": [
    {
     "name": "stdout",
     "output_type": "stream",
     "text": [
      "406973.90039156756\n",
      "916075.9647187777\n"
     ]
    }
   ],
   "source": [
    "# Variance (2 Sample T-Test)\n",
    "print(fireplace.calculatedfinishedsquarefeet.var())\n",
    "print(no_fireplace.calculatedfinishedsquarefeet.var())"
   ]
  },
  {
   "cell_type": "code",
   "execution_count": 12,
   "metadata": {},
   "outputs": [
    {
     "name": "stdout",
     "output_type": "stream",
     "text": [
      "We reject the null hypothesis\n",
      "t = 5.5944\n",
      "p = 0.0000\n"
     ]
    }
   ],
   "source": [
    "#Compute T-Test\n",
    "t, p = stats.ttest_ind(fireplace.calculatedfinishedsquarefeet, no_fireplace.calculatedfinishedsquarefeet, equal_var=False)\n",
    "t, p\n",
    "\n",
    "#Decide\n",
    "if p < alpha and t > 0:\n",
    "    print(\"We reject the null hypothesis\")\n",
    "    print(f't = {t:.4f}')\n",
    "    print(f'p = {p:.4f}')\n",
    "else:\n",
    "    print(\"We fail to reject the null hypothesis\")"
   ]
  },
  {
   "cell_type": "markdown",
   "metadata": {},
   "source": [
    "***\n",
    "\n",
    "#### Takeaway:\n",
    "\n",
    "- Reject null, there is a difference between houses with or without a fireplace\n",
    "- Fireplace and square footage are correlated\n",
    "\n",
    "***"
   ]
  },
  {
   "cell_type": "markdown",
   "metadata": {},
   "source": [
    "<div class=\"alert alert-block alert-success\"></div>"
   ]
  },
  {
   "cell_type": "markdown",
   "metadata": {},
   "source": [
    "## Evaluate Linear Features\n",
    "This verifies the features we chose are statistically significant   \n",
    "(Calculated for MVP features)"
   ]
  },
  {
   "cell_type": "markdown",
   "metadata": {},
   "source": [
    "### First up lets use SelectKBest to see what our best features are\n",
    "\n",
    "Select the K best features using a statistical test to compare each X with y and find which X's have the strongest relationship with y"
   ]
  },
  {
   "cell_type": "code",
   "execution_count": 13,
   "metadata": {},
   "outputs": [
    {
     "data": {
      "text/plain": [
       "['bathroomcnt', 'bedroomcnt', 'calculatedfinishedsquarefeet']"
      ]
     },
     "execution_count": 13,
     "metadata": {},
     "output_type": "execute_result"
    }
   ],
   "source": [
    "top_3 = SelectKBest(f_regression, k=3).fit(X_train_scaled, y_train)\n",
    "\n",
    "top_3_support = top_3.get_support()\n",
    "\n",
    "X_train_scaled.loc[:,top_3_support].columns.tolist()"
   ]
  },
  {
   "cell_type": "markdown",
   "metadata": {},
   "source": [
    "### Next lets run RFE to see what it says\n",
    "Recursive Feature Elimination will create a model with all the features, evaluate the performance metrics, find the weakest feature, remove it, then create a new model with the remaining features, evaluate the performance metrics, find the weakest feature, remove it, and so on, until it gets down to the number of features you have indicated you want when creating the rfe object. "
   ]
  },
  {
   "cell_type": "code",
   "execution_count": 14,
   "metadata": {},
   "outputs": [
    {
     "data": {
      "text/html": [
       "<div>\n",
       "<style scoped>\n",
       "    .dataframe tbody tr th:only-of-type {\n",
       "        vertical-align: middle;\n",
       "    }\n",
       "\n",
       "    .dataframe tbody tr th {\n",
       "        vertical-align: top;\n",
       "    }\n",
       "\n",
       "    .dataframe thead th {\n",
       "        text-align: right;\n",
       "    }\n",
       "</style>\n",
       "<table border=\"1\" class=\"dataframe\">\n",
       "  <thead>\n",
       "    <tr style=\"text-align: right;\">\n",
       "      <th></th>\n",
       "      <th>features</th>\n",
       "    </tr>\n",
       "    <tr>\n",
       "      <th>rank</th>\n",
       "      <th></th>\n",
       "    </tr>\n",
       "  </thead>\n",
       "  <tbody>\n",
       "    <tr>\n",
       "      <th>3</th>\n",
       "      <td>bathroomcnt</td>\n",
       "    </tr>\n",
       "    <tr>\n",
       "      <th>2</th>\n",
       "      <td>bedroomcnt</td>\n",
       "    </tr>\n",
       "    <tr>\n",
       "      <th>1</th>\n",
       "      <td>calculatedfinishedsquarefeet</td>\n",
       "    </tr>\n",
       "    <tr>\n",
       "      <th>6</th>\n",
       "      <td>fireplace</td>\n",
       "    </tr>\n",
       "    <tr>\n",
       "      <th>4</th>\n",
       "      <td>garage</td>\n",
       "    </tr>\n",
       "    <tr>\n",
       "      <th>10</th>\n",
       "      <td>hottub_spa</td>\n",
       "    </tr>\n",
       "    <tr>\n",
       "      <th>7</th>\n",
       "      <td>lotsizesquarefeet</td>\n",
       "    </tr>\n",
       "    <tr>\n",
       "      <th>11</th>\n",
       "      <td>poolcnt</td>\n",
       "    </tr>\n",
       "    <tr>\n",
       "      <th>12</th>\n",
       "      <td>roomcnt</td>\n",
       "    </tr>\n",
       "    <tr>\n",
       "      <th>5</th>\n",
       "      <td>zip_cc</td>\n",
       "    </tr>\n",
       "    <tr>\n",
       "      <th>9</th>\n",
       "      <td>useid_cc</td>\n",
       "    </tr>\n",
       "    <tr>\n",
       "      <th>8</th>\n",
       "      <td>year_cc</td>\n",
       "    </tr>\n",
       "  </tbody>\n",
       "</table>\n",
       "</div>"
      ],
      "text/plain": [
       "                          features\n",
       "rank                              \n",
       "3                      bathroomcnt\n",
       "2                       bedroomcnt\n",
       "1     calculatedfinishedsquarefeet\n",
       "6                        fireplace\n",
       "4                           garage\n",
       "10                      hottub_spa\n",
       "7                lotsizesquarefeet\n",
       "11                         poolcnt\n",
       "12                         roomcnt\n",
       "5                           zip_cc\n",
       "9                         useid_cc\n",
       "8                          year_cc"
      ]
     },
     "execution_count": 14,
     "metadata": {},
     "output_type": "execute_result"
    }
   ],
   "source": [
    "lm = LinearRegression()\n",
    "rfe = RFE(lm, 1)\n",
    "rfe.fit(X_train_scaled, y_train)\n",
    "ranks = rfe.ranking_\n",
    "names = X_train_scaled.columns.tolist()\n",
    "pd.DataFrame({'features': names, 'rank': ranks}).set_index('rank')"
   ]
  },
  {
   "cell_type": "markdown",
   "metadata": {},
   "source": [
    "***\n",
    "\n",
    "### Takaway:\n",
    "\n",
    "- All 3 Variables pass F-test and are significant to use in our modeling\n",
    "- Features not well suited for linear model (low r-squared), try polynomial features model\n",
    "\n",
    "***"
   ]
  },
  {
   "cell_type": "markdown",
   "metadata": {},
   "source": [
    "<div class=\"alert alert-block alert-success\"></div>"
   ]
  },
  {
   "cell_type": "markdown",
   "metadata": {},
   "source": [
    "## Model the Data\n",
    "\n",
    "\n",
    "MVP - 3 Features\n",
    "1. calculatedfinishedsquarefeet\n",
    "2. bedroomcnt\n",
    "3. bathroomcnt\n",
    "\n",
    "Target = taxvaluedollarcnt\n",
    "\n",
    "Use all four common regression model types: Linear Regression, LassoLars, Polynomial Features, TweedieRegressor  \n",
    "\n",
    "Establish Baseline based on target mean, if model Root Mean Squared Error (RMSE) is lower than the baseline the model performs better "
   ]
  },
  {
   "cell_type": "markdown",
   "metadata": {},
   "source": [
    "### Create a Baseline"
   ]
  },
  {
   "cell_type": "code",
   "execution_count": 15,
   "metadata": {},
   "outputs": [],
   "source": [
    "#Visualize Target\n",
    "mean = np.mean(y_train)\n",
    "median = np.median(y_train)"
   ]
  },
  {
   "cell_type": "code",
   "execution_count": 16,
   "metadata": {},
   "outputs": [
    {
     "name": "stdout",
     "output_type": "stream",
     "text": [
      "The mean value of y_train is\n"
     ]
    },
    {
     "data": {
      "text/plain": [
       "taxvaluedollarcnt    502918.070236\n",
       "dtype: float64"
      ]
     },
     "execution_count": 16,
     "metadata": {},
     "output_type": "execute_result"
    }
   ],
   "source": [
    "print(\"The mean value of y_train is\")\n",
    "mean"
   ]
  },
  {
   "cell_type": "code",
   "execution_count": 17,
   "metadata": {},
   "outputs": [
    {
     "name": "stdout",
     "output_type": "stream",
     "text": [
      "The median value of y_train is\n"
     ]
    },
    {
     "data": {
      "text/plain": [
       "366533.0"
      ]
     },
     "execution_count": 17,
     "metadata": {},
     "output_type": "execute_result"
    }
   ],
   "source": [
    "print(\"The median value of y_train is\")\n",
    "median"
   ]
  },
  {
   "cell_type": "code",
   "execution_count": 18,
   "metadata": {},
   "outputs": [
    {
     "data": {
      "text/html": [
       "<div>\n",
       "<style scoped>\n",
       "    .dataframe tbody tr th:only-of-type {\n",
       "        vertical-align: middle;\n",
       "    }\n",
       "\n",
       "    .dataframe tbody tr th {\n",
       "        vertical-align: top;\n",
       "    }\n",
       "\n",
       "    .dataframe thead th {\n",
       "        text-align: right;\n",
       "    }\n",
       "</style>\n",
       "<table border=\"1\" class=\"dataframe\">\n",
       "  <thead>\n",
       "    <tr style=\"text-align: right;\">\n",
       "      <th></th>\n",
       "      <th>taxvaluedollarcnt</th>\n",
       "    </tr>\n",
       "  </thead>\n",
       "  <tbody>\n",
       "    <tr>\n",
       "      <th>count</th>\n",
       "      <td>1.221600e+04</td>\n",
       "    </tr>\n",
       "    <tr>\n",
       "      <th>mean</th>\n",
       "      <td>5.029181e+05</td>\n",
       "    </tr>\n",
       "    <tr>\n",
       "      <th>std</th>\n",
       "      <td>6.590332e+05</td>\n",
       "    </tr>\n",
       "    <tr>\n",
       "      <th>min</th>\n",
       "      <td>1.108900e+04</td>\n",
       "    </tr>\n",
       "    <tr>\n",
       "      <th>25%</th>\n",
       "      <td>2.120292e+05</td>\n",
       "    </tr>\n",
       "    <tr>\n",
       "      <th>50%</th>\n",
       "      <td>3.665330e+05</td>\n",
       "    </tr>\n",
       "    <tr>\n",
       "      <th>75%</th>\n",
       "      <td>5.850000e+05</td>\n",
       "    </tr>\n",
       "    <tr>\n",
       "      <th>max</th>\n",
       "      <td>2.385837e+07</td>\n",
       "    </tr>\n",
       "  </tbody>\n",
       "</table>\n",
       "</div>"
      ],
      "text/plain": [
       "       taxvaluedollarcnt\n",
       "count       1.221600e+04\n",
       "mean        5.029181e+05\n",
       "std         6.590332e+05\n",
       "min         1.108900e+04\n",
       "25%         2.120292e+05\n",
       "50%         3.665330e+05\n",
       "75%         5.850000e+05\n",
       "max         2.385837e+07"
      ]
     },
     "execution_count": 18,
     "metadata": {},
     "output_type": "execute_result"
    }
   ],
   "source": [
    "y_train.describe()"
   ]
  },
  {
   "cell_type": "markdown",
   "metadata": {},
   "source": [
    "***\n",
    "\n",
    "### Takaway:\n",
    "\n",
    "- Variability in target suggest we use mean as baseline.\n",
    "- Mean is more susceptable to outliers and thus better predicts skeweed data\n",
    "\n",
    "***"
   ]
  },
  {
   "cell_type": "code",
   "execution_count": 19,
   "metadata": {},
   "outputs": [
    {
     "data": {
      "text/plain": [
       "(12216, 1)"
      ]
     },
     "execution_count": 19,
     "metadata": {},
     "output_type": "execute_result"
    }
   ],
   "source": [
    "# Mean Value\n",
    "np.mean(y_train)\n",
    "y_train.shape"
   ]
  },
  {
   "cell_type": "code",
   "execution_count": 20,
   "metadata": {},
   "outputs": [
    {
     "data": {
      "text/plain": [
       "659006.1919428958"
      ]
     },
     "execution_count": 20,
     "metadata": {},
     "output_type": "execute_result"
    }
   ],
   "source": [
    "# encode as variable\n",
    "# np.full modiefies shape turns value in to a full series object\n",
    "baseline_rmse = mean_squared_error(y_train, np.full(12216, np.mean(y_train)))**(1/2)\n",
    "baseline_rmse  # Model Error To Beat $659,006.19"
   ]
  },
  {
   "cell_type": "markdown",
   "metadata": {},
   "source": [
    "### Specify Variables for Modeling"
   ]
  },
  {
   "cell_type": "code",
   "execution_count": 21,
   "metadata": {},
   "outputs": [],
   "source": [
    "# Only use bedroomcnt, bathroomcnt, and calculatedfinishedsquarefeet\n",
    "# x df's are all numeric cols except tip\n",
    "X_train_scaled = X_train_scaled.drop(columns=['fireplace', 'garage', 'hottub_spa', 'lotsizesquarefeet', 'poolcnt',\n",
    "       'roomcnt', 'zip_cc', 'useid_cc', 'year_cc'])\n",
    "X_validate_scaled = X_validate_scaled.drop(columns=['fireplace', 'garage', 'hottub_spa', 'lotsizesquarefeet', 'poolcnt',\n",
    "       'roomcnt', 'zip_cc', 'useid_cc', 'year_cc'])\n",
    "X_test_scaled = X_test_scaled.drop(columns=['fireplace', 'garage', 'hottub_spa', 'lotsizesquarefeet', 'poolcnt',\n",
    "       'roomcnt', 'zip_cc', 'useid_cc', 'year_cc'])"
   ]
  },
  {
   "cell_type": "code",
   "execution_count": 22,
   "metadata": {},
   "outputs": [
    {
     "data": {
      "text/plain": [
       "Index(['bathroomcnt', 'bedroomcnt', 'calculatedfinishedsquarefeet'], dtype='object')"
      ]
     },
     "execution_count": 22,
     "metadata": {},
     "output_type": "execute_result"
    }
   ],
   "source": [
    "# Verify dataframe\n",
    "X_train_scaled.columns"
   ]
  },
  {
   "cell_type": "markdown",
   "metadata": {},
   "source": [
    "### Train the Models"
   ]
  },
  {
   "cell_type": "markdown",
   "metadata": {},
   "source": [
    "#### Linear Regression"
   ]
  },
  {
   "cell_type": "code",
   "execution_count": 23,
   "metadata": {},
   "outputs": [
    {
     "data": {
      "text/plain": [
       "520634.5005526053"
      ]
     },
     "execution_count": 23,
     "metadata": {},
     "output_type": "execute_result"
    }
   ],
   "source": [
    "# Make Model\n",
    "lm = LinearRegression(normalize=True)\n",
    "# Fit Model\n",
    "lm.fit(X_train_scaled, y_train)\n",
    "# Make Predictions\n",
    "lm_pred = lm.predict(X_train_scaled)\n",
    "# Compute root mean squared error\n",
    "lm_rmse = mean_squared_error(y_train, lm_pred)**(1/2)\n",
    "lm_rmse"
   ]
  },
  {
   "cell_type": "markdown",
   "metadata": {},
   "source": [
    "#### LassoLars"
   ]
  },
  {
   "cell_type": "code",
   "execution_count": 24,
   "metadata": {},
   "outputs": [
    {
     "data": {
      "text/plain": [
       "520634.57558119384"
      ]
     },
     "execution_count": 24,
     "metadata": {},
     "output_type": "execute_result"
    }
   ],
   "source": [
    "# Make a model\n",
    "lars = LassoLars(alpha=1)\n",
    "# Fit a model\n",
    "lars.fit(X_train_scaled, y_train)\n",
    "# Make Predictions\n",
    "lars_pred = lars.predict(X_train_scaled)\n",
    "# Computer root mean squared error\n",
    "lars_rmse = mean_squared_error(y_train, lars_pred)**(1/2)\n",
    "lars_rmse"
   ]
  },
  {
   "cell_type": "markdown",
   "metadata": {},
   "source": [
    "#### Polynomial Features"
   ]
  },
  {
   "cell_type": "code",
   "execution_count": 25,
   "metadata": {},
   "outputs": [
    {
     "data": {
      "text/plain": [
       "503340.82626955665"
      ]
     },
     "execution_count": 25,
     "metadata": {},
     "output_type": "execute_result"
    }
   ],
   "source": [
    "# Make a model\n",
    "pf = PolynomialFeatures(degree=2)\n",
    "\n",
    "# Fit and Transform model\n",
    "# to get a new set of features..which are the original features sqauared\n",
    "X_train_squared = pf.fit_transform(X_train_scaled)\n",
    "X_validate_squared = pf.transform(X_validate_scaled)\n",
    "X_test_squared = pf.transform(X_test_scaled)\n",
    "\n",
    "# Feed new features in to linear model. \n",
    "lm_squared = LinearRegression(normalize=True)\n",
    "lm_squared.fit(X_train_squared, y_train)\n",
    "# Make predictions\n",
    "lm_squared_pred = lm_squared.predict(X_train_squared)\n",
    "# Compute root mean squared error\n",
    "lm_squared_rmse = mean_squared_error(y_train, lm_squared_pred)**(1/2)\n",
    "lm_squared_rmse"
   ]
  },
  {
   "cell_type": "markdown",
   "metadata": {},
   "source": [
    "#### Tweedie Regressor"
   ]
  },
  {
   "cell_type": "code",
   "execution_count": 26,
   "metadata": {},
   "outputs": [
    {
     "data": {
      "text/plain": [
       "635035.2731805356"
      ]
     },
     "execution_count": 26,
     "metadata": {},
     "output_type": "execute_result"
    }
   ],
   "source": [
    "# Make Model\n",
    "tw = TweedieRegressor(power=0, alpha=0.1) # 0 = normal distribution\n",
    "# Fit Model\n",
    "tw.fit(X_train_scaled, y_train)\n",
    "# Make Predictions\n",
    "tw_pred = tw.predict(X_train_scaled)\n",
    "# Compute root mean squared error\n",
    "tw_rmse = mean_squared_error(y_train, tw_pred)**(1/2)\n",
    "tw_rmse"
   ]
  },
  {
   "cell_type": "markdown",
   "metadata": {},
   "source": [
    "***\n",
    "#### Takeaway:\n",
    "- Top 3 preforming models are Linear, LassoLars, and Polynomial\n",
    "- These modes will move on to Validate\n",
    "***"
   ]
  },
  {
   "cell_type": "markdown",
   "metadata": {},
   "source": [
    "### Validate the 3 Best Performing Models"
   ]
  },
  {
   "cell_type": "markdown",
   "metadata": {},
   "source": [
    "#### Linear Regression"
   ]
  },
  {
   "cell_type": "code",
   "execution_count": 27,
   "metadata": {},
   "outputs": [
    {
     "data": {
      "text/plain": [
       "486307.6079205688"
      ]
     },
     "execution_count": 27,
     "metadata": {},
     "output_type": "execute_result"
    }
   ],
   "source": [
    "# Make Predictions\n",
    "lm_pred_v = lm.predict(X_validate_scaled)\n",
    "# Compute root mean squared error\n",
    "lm_rmse_v = mean_squared_error(y_validate, lm_pred_v)**(1/2)\n",
    "lm_rmse_v"
   ]
  },
  {
   "cell_type": "markdown",
   "metadata": {},
   "source": [
    "#### LassoLars"
   ]
  },
  {
   "cell_type": "code",
   "execution_count": 28,
   "metadata": {},
   "outputs": [
    {
     "data": {
      "text/plain": [
       "486303.12943566113"
      ]
     },
     "execution_count": 28,
     "metadata": {},
     "output_type": "execute_result"
    }
   ],
   "source": [
    "# Make predictions\n",
    "lars_pred_v = lars.predict(X_validate_scaled)\n",
    "# Compute root mean squared error\n",
    "lars_rmse_v = mean_squared_error(y_validate, lars_pred_v)**(1/2)\n",
    "lars_rmse_v"
   ]
  },
  {
   "cell_type": "markdown",
   "metadata": {},
   "source": [
    "#### Ploynomial Features"
   ]
  },
  {
   "cell_type": "code",
   "execution_count": 29,
   "metadata": {},
   "outputs": [
    {
     "data": {
      "text/plain": [
       "460557.3256277409"
      ]
     },
     "execution_count": 29,
     "metadata": {},
     "output_type": "execute_result"
    }
   ],
   "source": [
    "# Feed new features in to linear model. \n",
    "lm_squared = LinearRegression(normalize=True)\n",
    "lm_squared.fit(X_validate_squared, y_validate)\n",
    "# Make predictions\n",
    "lm_squared_pred_v = lm_squared.predict(X_validate_squared)\n",
    "# Compute root mean squared error\n",
    "lm_squared_rmse_v = mean_squared_error(y_validate, lm_squared_pred_v)**(1/2)\n",
    "lm_squared_rmse_v"
   ]
  },
  {
   "cell_type": "markdown",
   "metadata": {},
   "source": [
    "***\n",
    "### Takeaway:\n",
    "- On unseen data the Polynomial Model performs the best and will move on to the test data\n",
    "***"
   ]
  },
  {
   "cell_type": "markdown",
   "metadata": {},
   "source": [
    "### Test the Best Performing Model"
   ]
  },
  {
   "cell_type": "markdown",
   "metadata": {},
   "source": [
    "#### Polynomial Features"
   ]
  },
  {
   "cell_type": "code",
   "execution_count": 30,
   "metadata": {},
   "outputs": [
    {
     "data": {
      "text/plain": [
       "469438.17"
      ]
     },
     "execution_count": 30,
     "metadata": {},
     "output_type": "execute_result"
    }
   ],
   "source": [
    "# Feed new features in to linear model. \n",
    "lm_squared = LinearRegression(normalize=True)\n",
    "lm_squared.fit(X_test_squared, y_test)\n",
    "# Make predictions\n",
    "lm_squared_pred_t1 = lm_squared.predict(X_test_squared)\n",
    "# Compute root mean squared error\n",
    "lm_squared_rmse_t1 = round(mean_squared_error(y_test, lm_squared_pred_t1)**(1/2),2)\n",
    "lm_squared_rmse_t1"
   ]
  },
  {
   "cell_type": "markdown",
   "metadata": {},
   "source": [
    "#### Average Model Error (Validate + Test) / 2"
   ]
  },
  {
   "cell_type": "code",
   "execution_count": 31,
   "metadata": {},
   "outputs": [
    {
     "name": "stdout",
     "output_type": "stream",
     "text": [
      "The average error for our model is $464997.75\n"
     ]
    }
   ],
   "source": [
    "# Avg. Error = (Validate Error + Test Error) /2 - Average preformance of model works on unseen data\n",
    "model_error = round((lm_squared_rmse_v + lm_squared_rmse_t1) / 2 , 2)\n",
    "print(f'The average error for our model is ${model_error}')"
   ]
  },
  {
   "cell_type": "markdown",
   "metadata": {},
   "source": [
    "#### Percentage Improvement over Baseline"
   ]
  },
  {
   "cell_type": "code",
   "execution_count": 32,
   "metadata": {},
   "outputs": [
    {
     "name": "stdout",
     "output_type": "stream",
     "text": [
      "The % improvement for our model is 28.77%\n"
     ]
    }
   ],
   "source": [
    "# Calcuating % improvement\n",
    "# First: work out the difference (increase) between the two numbers you are comparing\n",
    "difference = (baseline_rmse - lm_squared_rmse_t1)\n",
    "# Then: divide the increase by the original number and multiply the answer by 100\n",
    "percent_improve = round((difference / baseline_rmse) * 100, 2)\n",
    "print(f'The % improvement for our model is {percent_improve}%')"
   ]
  },
  {
   "cell_type": "markdown",
   "metadata": {},
   "source": [
    "***\n",
    "\n",
    "### Takeaway:\n",
    "- Polynomial Features is the model that best predicts tax assessed value\n",
    "- This model produces an average error of $464997.75\n",
    "- This represents a **29%** improvement over baseline\n",
    "\n",
    "***"
   ]
  },
  {
   "cell_type": "markdown",
   "metadata": {},
   "source": [
    "<div class=\"alert alert-block alert-success\"></div>"
   ]
  },
  {
   "cell_type": "markdown",
   "metadata": {},
   "source": [
    "## Can we improve model preformance using different input variables?"
   ]
  },
  {
   "cell_type": "code",
   "execution_count": 33,
   "metadata": {},
   "outputs": [],
   "source": [
    "# Refresh data for new round of modeling\n",
    "path='zillow_df.csv'\n",
    "\n",
    "df, X_train_explore, \\\n",
    "    X_train_scaled, y_train, \\\n",
    "    X_validate_scaled, y_validate, \\\n",
    "    X_test_scaled, y_test = src.prepare.wrangle_zillow(path)"
   ]
  },
  {
   "cell_type": "markdown",
   "metadata": {},
   "source": [
    "#### RFE review (key features)"
   ]
  },
  {
   "cell_type": "code",
   "execution_count": 34,
   "metadata": {},
   "outputs": [
    {
     "data": {
      "text/html": [
       "<div>\n",
       "<style scoped>\n",
       "    .dataframe tbody tr th:only-of-type {\n",
       "        vertical-align: middle;\n",
       "    }\n",
       "\n",
       "    .dataframe tbody tr th {\n",
       "        vertical-align: top;\n",
       "    }\n",
       "\n",
       "    .dataframe thead th {\n",
       "        text-align: right;\n",
       "    }\n",
       "</style>\n",
       "<table border=\"1\" class=\"dataframe\">\n",
       "  <thead>\n",
       "    <tr style=\"text-align: right;\">\n",
       "      <th></th>\n",
       "      <th>features</th>\n",
       "    </tr>\n",
       "    <tr>\n",
       "      <th>rank</th>\n",
       "      <th></th>\n",
       "    </tr>\n",
       "  </thead>\n",
       "  <tbody>\n",
       "    <tr>\n",
       "      <th>3</th>\n",
       "      <td>bathroomcnt</td>\n",
       "    </tr>\n",
       "    <tr>\n",
       "      <th>2</th>\n",
       "      <td>bedroomcnt</td>\n",
       "    </tr>\n",
       "    <tr>\n",
       "      <th>1</th>\n",
       "      <td>calculatedfinishedsquarefeet</td>\n",
       "    </tr>\n",
       "    <tr>\n",
       "      <th>6</th>\n",
       "      <td>fireplace</td>\n",
       "    </tr>\n",
       "    <tr>\n",
       "      <th>4</th>\n",
       "      <td>garage</td>\n",
       "    </tr>\n",
       "    <tr>\n",
       "      <th>10</th>\n",
       "      <td>hottub_spa</td>\n",
       "    </tr>\n",
       "    <tr>\n",
       "      <th>7</th>\n",
       "      <td>lotsizesquarefeet</td>\n",
       "    </tr>\n",
       "    <tr>\n",
       "      <th>11</th>\n",
       "      <td>poolcnt</td>\n",
       "    </tr>\n",
       "    <tr>\n",
       "      <th>12</th>\n",
       "      <td>roomcnt</td>\n",
       "    </tr>\n",
       "    <tr>\n",
       "      <th>5</th>\n",
       "      <td>zip_cc</td>\n",
       "    </tr>\n",
       "    <tr>\n",
       "      <th>9</th>\n",
       "      <td>useid_cc</td>\n",
       "    </tr>\n",
       "    <tr>\n",
       "      <th>8</th>\n",
       "      <td>year_cc</td>\n",
       "    </tr>\n",
       "  </tbody>\n",
       "</table>\n",
       "</div>"
      ],
      "text/plain": [
       "                          features\n",
       "rank                              \n",
       "3                      bathroomcnt\n",
       "2                       bedroomcnt\n",
       "1     calculatedfinishedsquarefeet\n",
       "6                        fireplace\n",
       "4                           garage\n",
       "10                      hottub_spa\n",
       "7                lotsizesquarefeet\n",
       "11                         poolcnt\n",
       "12                         roomcnt\n",
       "5                           zip_cc\n",
       "9                         useid_cc\n",
       "8                          year_cc"
      ]
     },
     "execution_count": 34,
     "metadata": {},
     "output_type": "execute_result"
    }
   ],
   "source": [
    "lm = LinearRegression()\n",
    "rfe = RFE(lm, 1)\n",
    "rfe.fit(X_train_scaled, y_train)\n",
    "ranks = rfe.ranking_\n",
    "names = X_train_scaled.columns.tolist()\n",
    "pd.DataFrame({'features': names, 'rank': ranks}).set_index('rank')"
   ]
  },
  {
   "cell_type": "markdown",
   "metadata": {},
   "source": [
    "***\n",
    "\n",
    "### Takaway:\n",
    "- Variables with greatest correlation to target\n",
    "  - calculatedfinishedsquarefeet\n",
    "  - bedroomcnt\n",
    "  - bathroomcnt\n",
    "  - garage\n",
    "  - zip_cc\n",
    "\n",
    "- All models pass F-Test w/ p-value of < 0.05 and can be used for modeling\n",
    "\n",
    "- Variables have high correlation and low r-squred values, indicates they may improve out polynomial features model\n",
    "***"
   ]
  },
  {
   "cell_type": "markdown",
   "metadata": {},
   "source": [
    "<div class=\"alert alert-block alert-success\"></div>"
   ]
  },
  {
   "cell_type": "markdown",
   "metadata": {},
   "source": [
    "## Model the Data (2nd Iteration)\n",
    "\n",
    "Polynomial Features Model - 5 Features (degrees = 2)\n",
    "\n",
    "1. calculatedfinishedsquarefeet\n",
    "2. bedroomcnt\n",
    "3. bathroomcnt\n",
    "4. garage\n",
    "5. zip_cc\n",
    "\n",
    "Target = taxvaluedollarcnt \n",
    "\n",
    "Establish Baseline based on target mean, if model Root Mean Squared Error (RMSE) is lower than the baseline the model performs better "
   ]
  },
  {
   "cell_type": "markdown",
   "metadata": {},
   "source": [
    "### Create a Baseline"
   ]
  },
  {
   "cell_type": "code",
   "execution_count": 35,
   "metadata": {},
   "outputs": [
    {
     "data": {
      "text/plain": [
       "(12216, 1)"
      ]
     },
     "execution_count": 35,
     "metadata": {},
     "output_type": "execute_result"
    }
   ],
   "source": [
    "# Mean Value\n",
    "np.mean(y_train)\n",
    "y_train.shape"
   ]
  },
  {
   "cell_type": "code",
   "execution_count": 36,
   "metadata": {},
   "outputs": [
    {
     "data": {
      "text/plain": [
       "659006.1919428958"
      ]
     },
     "execution_count": 36,
     "metadata": {},
     "output_type": "execute_result"
    }
   ],
   "source": [
    "# encode as variable\n",
    "# np.full modiefies shape turns value in to a full series object\n",
    "baseline_rmse = mean_squared_error(y_train, np.full(12216, np.mean(y_train)))**(1/2)\n",
    "baseline_rmse  # Model Error To Beat $659,006.19"
   ]
  },
  {
   "cell_type": "markdown",
   "metadata": {},
   "source": [
    "### Specify Variables for Modeling"
   ]
  },
  {
   "cell_type": "code",
   "execution_count": 37,
   "metadata": {},
   "outputs": [],
   "source": [
    "# Refresh data for new round of modeling\n",
    "path='zillow_df.csv'\n",
    "\n",
    "df, X_train_explore, \\\n",
    "    X_train_scaled, y_train, \\\n",
    "    X_validate_scaled, y_validate, \\\n",
    "    X_test_scaled, y_test = src.prepare.wrangle_zillow(path)"
   ]
  },
  {
   "cell_type": "code",
   "execution_count": 38,
   "metadata": {},
   "outputs": [
    {
     "data": {
      "text/plain": [
       "Index(['bathroomcnt', 'bedroomcnt', 'calculatedfinishedsquarefeet',\n",
       "       'fireplace', 'garage', 'hottub_spa', 'lotsizesquarefeet', 'poolcnt',\n",
       "       'roomcnt', 'zip_cc', 'useid_cc', 'year_cc'],\n",
       "      dtype='object')"
      ]
     },
     "execution_count": 38,
     "metadata": {},
     "output_type": "execute_result"
    }
   ],
   "source": [
    "X_train_scaled.columns"
   ]
  },
  {
   "cell_type": "code",
   "execution_count": 39,
   "metadata": {},
   "outputs": [],
   "source": [
    "# Only use bedroomcnt, bathroomcnt, and calculatedfinishedsquarefeet\n",
    "# x df's are all numeric cols except tip\n",
    "X_train_scaled = X_train_scaled.drop(columns=['fireplace','lotsizesquarefeet','hottub_spa','poolcnt','roomcnt','useid_cc','year_cc'])\n",
    "X_validate_scaled = X_validate_scaled.drop(columns=['fireplace','lotsizesquarefeet','hottub_spa','poolcnt','roomcnt','useid_cc','year_cc'])\n",
    "X_test_scaled = X_test_scaled.drop(columns=['fireplace','lotsizesquarefeet','hottub_spa','poolcnt','roomcnt','useid_cc','year_cc'])"
   ]
  },
  {
   "cell_type": "code",
   "execution_count": 40,
   "metadata": {},
   "outputs": [
    {
     "data": {
      "text/plain": [
       "Index(['bathroomcnt', 'bedroomcnt', 'calculatedfinishedsquarefeet', 'garage',\n",
       "       'zip_cc'],\n",
       "      dtype='object')"
      ]
     },
     "execution_count": 40,
     "metadata": {},
     "output_type": "execute_result"
    }
   ],
   "source": [
    "X_train_scaled.columns"
   ]
  },
  {
   "cell_type": "markdown",
   "metadata": {},
   "source": [
    "### Train the Model"
   ]
  },
  {
   "cell_type": "code",
   "execution_count": 41,
   "metadata": {},
   "outputs": [
    {
     "data": {
      "text/plain": [
       "483296.69612910505"
      ]
     },
     "execution_count": 41,
     "metadata": {},
     "output_type": "execute_result"
    }
   ],
   "source": [
    "# Make a model\n",
    "pf = PolynomialFeatures(degree=2)\n",
    "\n",
    "# Fit and Transform model\n",
    "# to get a new set of features..which are the original features sqauared\n",
    "X_train_squared = pf.fit_transform(X_train_scaled)\n",
    "X_validate_squared = pf.transform(X_validate_scaled)\n",
    "X_test_squared = pf.transform(X_test_scaled)\n",
    "\n",
    "# Feed new features in to linear model. \n",
    "lm_squared = LinearRegression(normalize=True)\n",
    "lm_squared.fit(X_train_squared, y_train)\n",
    "# Make predictions\n",
    "lm_squared_pred = lm_squared.predict(X_train_squared)\n",
    "# Compute root mean squared error\n",
    "lm_squared_rmse = mean_squared_error(y_train, lm_squared_pred)**(1/2)\n",
    "lm_squared_rmse"
   ]
  },
  {
   "cell_type": "markdown",
   "metadata": {},
   "source": [
    "### Validate the Model"
   ]
  },
  {
   "cell_type": "code",
   "execution_count": 42,
   "metadata": {},
   "outputs": [
    {
     "data": {
      "text/plain": [
       "440057.96018437896"
      ]
     },
     "execution_count": 42,
     "metadata": {},
     "output_type": "execute_result"
    }
   ],
   "source": [
    "# Feed new features in to linear model. \n",
    "lm_squared = LinearRegression(normalize=True)\n",
    "lm_squared.fit(X_validate_squared, y_validate)\n",
    "# Make predictions\n",
    "lm_squared_pred_v = lm_squared.predict(X_validate_squared)\n",
    "# Compute root mean squared error\n",
    "lm_squared_rmse_v = mean_squared_error(y_validate, lm_squared_pred_v)**(1/2)\n",
    "lm_squared_rmse_v"
   ]
  },
  {
   "cell_type": "markdown",
   "metadata": {},
   "source": [
    "### Test the Model"
   ]
  },
  {
   "cell_type": "code",
   "execution_count": 43,
   "metadata": {},
   "outputs": [
    {
     "data": {
      "text/plain": [
       "454020.85"
      ]
     },
     "execution_count": 43,
     "metadata": {},
     "output_type": "execute_result"
    }
   ],
   "source": [
    "# Feed new features in to linear model. \n",
    "lm_squared = LinearRegression(normalize=True)\n",
    "lm_squared.fit(X_test_squared, y_test)\n",
    "# Make predictions\n",
    "lm_squared_pred_t2 = lm_squared.predict(X_test_squared)\n",
    "# Compute root mean squared error\n",
    "lm_squared_rmse_t2 = round(mean_squared_error(y_test, lm_squared_pred_t2)**(1/2),2)\n",
    "lm_squared_rmse_t2"
   ]
  },
  {
   "cell_type": "markdown",
   "metadata": {},
   "source": [
    "#### Average Model Error (Validate + Test) / 2"
   ]
  },
  {
   "cell_type": "code",
   "execution_count": 44,
   "metadata": {},
   "outputs": [
    {
     "name": "stdout",
     "output_type": "stream",
     "text": [
      "The average error for our model is $447039.41\n"
     ]
    }
   ],
   "source": [
    "# Avg. Error = (Validate Error + Test Error) /2 - Average preformance of model works on unseen data\n",
    "model_error = round((lm_squared_rmse_v + lm_squared_rmse_t2) / 2 , 2)\n",
    "print(f'The average error for our model is ${model_error}')"
   ]
  },
  {
   "cell_type": "markdown",
   "metadata": {},
   "source": [
    "#### Percentage Improvement over Baseline"
   ]
  },
  {
   "cell_type": "code",
   "execution_count": 45,
   "metadata": {},
   "outputs": [
    {
     "name": "stdout",
     "output_type": "stream",
     "text": [
      "The % improvement for our model is 31.11%\n"
     ]
    }
   ],
   "source": [
    "# Calcuating % improvement\n",
    "# First: work out the difference (increase) between the two numbers you are comparing\n",
    "difference = (baseline_rmse - lm_squared_rmse_t2)\n",
    "# Then: divide the increase by the original number and multiply the answer by 100\n",
    "percent_improve = round((difference / baseline_rmse) * 100, 2)\n",
    "print(f'The % improvement for our model is {percent_improve}%')"
   ]
  },
  {
   "cell_type": "markdown",
   "metadata": {},
   "source": [
    "***\n",
    "\n",
    "### Takaway:\n",
    "\n",
    "- Model with new feature produced better RMSE = better model\n",
    "- 3rd iteration refine hyperparameters (degrees = )\n",
    "\n",
    "\n",
    "***"
   ]
  },
  {
   "cell_type": "markdown",
   "metadata": {},
   "source": [
    "<div class=\"alert alert-block alert-success\"></div>"
   ]
  },
  {
   "cell_type": "markdown",
   "metadata": {},
   "source": [
    "## Model the Data (3rd Iteration)\n",
    "\n",
    "Polynomial Features Model - 5 Features (degrees = 5)\n",
    "\n",
    "1. calculatedfinishedsquarefeet\n",
    "2. bedroomcnt\n",
    "3. bathroomcnt\n",
    "4. garage\n",
    "5. zip_cc\n",
    "\n",
    "Target = taxvaluedollarcnt \n",
    "\n",
    "Establish Baseline based on target mean, if model Root Mean Squared Error (RMSE) is lower than the baseline the model performs better "
   ]
  },
  {
   "cell_type": "raw",
   "metadata": {},
   "source": []
  },
  {
   "cell_type": "markdown",
   "metadata": {},
   "source": [
    "### Train the Model"
   ]
  },
  {
   "cell_type": "code",
   "execution_count": 46,
   "metadata": {},
   "outputs": [
    {
     "data": {
      "text/plain": [
       "463324.86752014764"
      ]
     },
     "execution_count": 46,
     "metadata": {},
     "output_type": "execute_result"
    }
   ],
   "source": [
    "# Make a model\n",
    "pf = PolynomialFeatures(degree=3)\n",
    "\n",
    "# Fit and Transform model\n",
    "# to get a new set of features..which are the original features sqauared\n",
    "X_train_squared = pf.fit_transform(X_train_scaled)\n",
    "X_validate_squared = pf.transform(X_validate_scaled)\n",
    "X_test_squared = pf.transform(X_test_scaled)\n",
    "\n",
    "# Feed new features in to linear model. \n",
    "lm_squared = LinearRegression(normalize=True)\n",
    "lm_squared.fit(X_train_squared, y_train)\n",
    "# Make predictions\n",
    "lm_squared_pred = lm_squared.predict(X_train_squared)\n",
    "# Compute root mean squared error\n",
    "lm_squared_rmse = mean_squared_error(y_train, lm_squared_pred)**(1/2)\n",
    "lm_squared_rmse"
   ]
  },
  {
   "cell_type": "markdown",
   "metadata": {},
   "source": [
    "### Validate the Model"
   ]
  },
  {
   "cell_type": "code",
   "execution_count": 47,
   "metadata": {},
   "outputs": [
    {
     "data": {
      "text/plain": [
       "431388.7299990621"
      ]
     },
     "execution_count": 47,
     "metadata": {},
     "output_type": "execute_result"
    }
   ],
   "source": [
    "# Feed new features in to linear model. \n",
    "lm_squared = LinearRegression(normalize=True)\n",
    "lm_squared.fit(X_validate_squared, y_validate)\n",
    "# Make predictions\n",
    "lm_squared_pred_v = lm_squared.predict(X_validate_squared)\n",
    "# Compute root mean squared error\n",
    "lm_squared_rmse_v = mean_squared_error(y_validate, lm_squared_pred_v)**(1/2)\n",
    "lm_squared_rmse_v"
   ]
  },
  {
   "cell_type": "markdown",
   "metadata": {},
   "source": [
    "### Test the Model"
   ]
  },
  {
   "cell_type": "code",
   "execution_count": 48,
   "metadata": {},
   "outputs": [
    {
     "data": {
      "text/plain": [
       "454020.85"
      ]
     },
     "execution_count": 48,
     "metadata": {},
     "output_type": "execute_result"
    }
   ],
   "source": [
    "# Feed new features in to linear model. \n",
    "lm_squared = LinearRegression(normalize=True)\n",
    "lm_squared.fit(X_test_squared, y_test)\n",
    "# Make predictions\n",
    "lm_squared_pred_t3 = lm_squared.predict(X_test_squared)\n",
    "# Compute root mean squared error\n",
    "lm_squared_rmse_t3 = round(mean_squared_error(y_test, lm_squared_pred_t2)**(1/2),2)\n",
    "lm_squared_rmse_t3"
   ]
  },
  {
   "cell_type": "markdown",
   "metadata": {},
   "source": [
    "#### Average Model Error (Validate + Test) / 2"
   ]
  },
  {
   "cell_type": "code",
   "execution_count": 49,
   "metadata": {},
   "outputs": [
    {
     "name": "stdout",
     "output_type": "stream",
     "text": [
      "The average error for our model is $442704.79\n"
     ]
    }
   ],
   "source": [
    "# Avg. Error = (Validate Error + Test Error) /2 - Average preformance of model works on unseen data\n",
    "model_error = round((lm_squared_rmse_v + lm_squared_rmse_t3) / 2 , 2)\n",
    "print(f'The average error for our model is ${model_error}')"
   ]
  },
  {
   "cell_type": "markdown",
   "metadata": {},
   "source": [
    "#### Percentage Improvement over Baseline"
   ]
  },
  {
   "cell_type": "code",
   "execution_count": 50,
   "metadata": {},
   "outputs": [
    {
     "name": "stdout",
     "output_type": "stream",
     "text": [
      "The % improvement for our model is 31.11%\n"
     ]
    }
   ],
   "source": [
    "# Calcuating % improvement\n",
    "# First: work out the difference (increase) between the two numbers you are comparing\n",
    "difference = (baseline_rmse - lm_squared_rmse_t3)\n",
    "# Then: divide the increase by the original number and multiply the answer by 100\n",
    "percent_improve = round((difference / baseline_rmse) * 100, 2)\n",
    "print(f'The % improvement for our model is {percent_improve}%')"
   ]
  },
  {
   "cell_type": "markdown",
   "metadata": {},
   "source": [
    "***\n",
    "\n",
    "### Takeaway:\n",
    "\n",
    "- Model preformance decreased on unseen data (Train)\n",
    "- Suggests overfitting\n",
    "\n",
    "***"
   ]
  },
  {
   "cell_type": "markdown",
   "metadata": {},
   "source": [
    "<div class=\"alert alert-block alert-success\"></div>"
   ]
  },
  {
   "cell_type": "markdown",
   "metadata": {},
   "source": [
    "## Conclusion"
   ]
  },
  {
   "cell_type": "markdown",
   "metadata": {},
   "source": [
    "### Summary:\n",
    "\n",
    "***\n",
    "\n",
    "Exploration:   \n",
    "- Top 5 variables for modeling (bedroomcnt, bathroomcnt, calculatedfinishedsquarefeet, garage, zip_cc)\n",
    "- Validated using SlectKBest and RFE\n",
    "- Variables passed F-Test with p-value < 0.05, indicating 95% certainty the indipendent variables explains the relationship (r-value)\n",
    "\n",
    "***\n",
    "\n",
    "Statistical Testing:   \n",
    "- Chi Squared Test for Independence: bedroomcnt and bathroomcnt \n",
    "  - Rejected Null: 95% Confidence Variabes show dependence     \n",
    "- Independent T-Test: Preformed on fireplace and total square feet \n",
    "  - Rejected Null: 95% Confidence that there is a difference (in terms of square footage) between houses with or without a fireplace   \n",
    "  \n",
    "***\n",
    "\n",
    "Modeling: (3 Iterations)  \n",
    "- 4 model: Linear Regression, LassoLars, Polynomial Features, TweedieRegressor   \n",
    "  - Target = taxvaluedollarcnt   \n",
    "    \n",
    "    \n",
    "1. First Iteration (3 Features, degree = 2)   \n",
    "Features = bedroomcnt, bathroomcnt, calculatedfinishedsquarefeet   \n",
    "Best Model = Polynomial Feature Model    \n",
    "Avg. RMSE of $464997.75   \n",
    "**28% Improvement over baseline**    \n",
    "  \n",
    "  \n",
    "2. Second Iteration (5 Features, degree = 2)   \n",
    "Features = bedroomcnt, bathroomcnt, calculatedfinishedsquarefeet, garage, zip_cc   \n",
    "Model = Polynomial Feature Model    \n",
    "Avg. RMSE of $447039.41    \n",
    "**31% Improvement over baseline**       \n",
    "*Effect On Model - RFE Features Improve Preformance*   \n",
    "\n",
    "\n",
    "3. Third Iteration (5 Features, degree = 5)\n",
    "Features = bedroomcnt, bathroomcnt, calculatedfinishedsquarefeet, garage, zip_cc\n",
    "Model = Polynomial Features Model   \n",
    "Avg. RMSE of $442704.79  \n",
    "**31% Improvement over baseline**   \n",
    "*Effect On Model - Overfit, loss of predictive power on unseen data*   "
   ]
  },
  {
   "cell_type": "markdown",
   "metadata": {},
   "source": [
    "<div class=\"alert alert-block alert-success\"></div>"
   ]
  },
  {
   "cell_type": "markdown",
   "metadata": {},
   "source": [
    "## Next Steps: What Can We Do Now?\n",
    "\n",
    "Investigate impact of further reducing outliers with regards to calculated tax rate. In 2019 the highest effective tax rate in any US county was 6.6%. Currently the dataset contains properties with calculated tax rates up to 10% and as low as .014% Removing outling values at the top and bottom of this range may improve model performance.\n",
    "\n",
    "Increasing the number of features in our model from 3 to 5 improved model preformance.  However, this performance may be further increased by combining some of our top features.  With more time we would like to invesigate some engeered featues such as a combined bedroom/bathroom.  "
   ]
  },
  {
   "cell_type": "code",
   "execution_count": null,
   "metadata": {},
   "outputs": [],
   "source": []
  }
 ],
 "metadata": {
  "kernelspec": {
   "display_name": "Python 3",
   "language": "python",
   "name": "python3"
  },
  "language_info": {
   "codemirror_mode": {
    "name": "ipython",
    "version": 3
   },
   "file_extension": ".py",
   "mimetype": "text/x-python",
   "name": "python",
   "nbconvert_exporter": "python",
   "pygments_lexer": "ipython3",
   "version": "3.8.3"
  }
 },
 "nbformat": 4,
 "nbformat_minor": 4
}
