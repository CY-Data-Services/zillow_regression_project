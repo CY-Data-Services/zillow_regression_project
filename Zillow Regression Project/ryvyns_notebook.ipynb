{
 "cells": [
  {
   "cell_type": "code",
   "execution_count": 1,
   "metadata": {},
   "outputs": [],
   "source": [
    "import src.acquire\n",
    "import src.prepare\n",
    "import src.explore\n",
    "import src.model\n",
    "\n",
    "import pandas as pd\n",
    "import numpy as np\n",
    "import matplotlib.pyplot as plt\n",
    "import seaborn as sns"
   ]
  },
  {
   "cell_type": "markdown",
   "metadata": {},
   "source": [
    "# Addidtional Reporting Outside of Model"
   ]
  },
  {
   "cell_type": "code",
   "execution_count": null,
   "metadata": {},
   "outputs": [],
   "source": [
    "# get full dataset within the date range May - June 2017\n",
    "tax = src.acquire.get_zillow_data()"
   ]
  },
  {
   "cell_type": "code",
   "execution_count": null,
   "metadata": {},
   "outputs": [],
   "source": [
    "tax.shape"
   ]
  },
  {
   "cell_type": "code",
   "execution_count": null,
   "metadata": {},
   "outputs": [],
   "source": [
    "tax.columns"
   ]
  },
  {
   "cell_type": "code",
   "execution_count": null,
   "metadata": {},
   "outputs": [],
   "source": [
    "# drop columns not related to tax calculation or location\n",
    "taxdf = tax[['fips', 'structuretaxvaluedollarcnt', 'taxvaluedollarcnt', 'assessmentyear', 'landtaxvaluedollarcnt',\n",
    "            'taxamount', 'transactiondate', 'latitude', 'longitude', 'propertycountylandusecode', 'propertylandusetypeid', 'propertyzoningdesc',\n",
    "                      'regionidcity', 'regionidcounty', 'regionidneighborhood', 'regionidzip']]\n"
   ]
  },
  {
   "cell_type": "code",
   "execution_count": null,
   "metadata": {},
   "outputs": [],
   "source": [
    "taxdf.isnull().sum()"
   ]
  },
  {
   "cell_type": "code",
   "execution_count": null,
   "metadata": {},
   "outputs": [],
   "source": [
    "# drop 'structuretaxvaluedollarcnt', 'propertyzoningdesc', 'regionidcity','regionidneighborhood'  = too many nulls\n",
    "# drop 'landtaxvaluedollarcnt': 'taxvaluedollarcnt' should be the total tax which is what we want\n",
    "# drop single record that is missing taxamount, one out of +20,000 should not impact overall calculations\n",
    "# drop 14 records that are missing regionidzip, 14 out of +20,000 should not impact overall calculations\n",
    "taxdf = taxdf.drop(columns=['regionidneighborhood', 'structuretaxvaluedollarcnt', 'propertyzoningdesc', 'regionidcity', 'landtaxvaluedollarcnt'])\n",
    "taxdf = taxdf.dropna(axis=0)\n",
    "taxdf.head()"
   ]
  },
  {
   "cell_type": "code",
   "execution_count": null,
   "metadata": {},
   "outputs": [],
   "source": [
    "taxdf.isnull().sum()"
   ]
  },
  {
   "cell_type": "code",
   "execution_count": null,
   "metadata": {},
   "outputs": [],
   "source": []
  },
  {
   "cell_type": "code",
   "execution_count": null,
   "metadata": {},
   "outputs": [],
   "source": [
    "taxdf['tax_rate'] = taxdf.taxamount/taxdf.taxvaluedollarcnt\n",
    "taxdf.head()"
   ]
  },
  {
   "cell_type": "code",
   "execution_count": null,
   "metadata": {},
   "outputs": [],
   "source": [
    "taxdf.tax_rate.describe()\n",
    "# note the max is way out of range, drop?"
   ]
  },
  {
   "cell_type": "code",
   "execution_count": null,
   "metadata": {},
   "outputs": [],
   "source": [
    "taxdf.tax_rate.median()"
   ]
  },
  {
   "cell_type": "code",
   "execution_count": null,
   "metadata": {},
   "outputs": [],
   "source": [
    "plt.figure(figsize=(16, 7))\n",
    "sns.boxplot(taxdf.tax_rate)"
   ]
  },
  {
   "cell_type": "code",
   "execution_count": null,
   "metadata": {},
   "outputs": [],
   "source": [
    "outliers = taxdf[taxdf.tax_rate > .1]\n",
    "outliers\n",
    "# note from this article that in some parts of US the effective tax rate for 2019 was as high as 6%\n",
    "# https://www.attomdata.com/news/market-trends/figuresfriday/top-10-u-s-counties-with-the-greatest-effective-tax-rates/"
   ]
  },
  {
   "cell_type": "code",
   "execution_count": null,
   "metadata": {},
   "outputs": [],
   "source": [
    "# drop these specific outliers because the variance caused skews the data too far and 13 observations is small amount\n",
    "# also domain research indicate that as of 2019 6.6% is highest tax rate in any US county\n",
    "# working on the assumption that if State is requested info \n",
    "taxdf = taxdf.drop(labels=[1600, 1628, 5099, 5969, 8109, 8407, 8521, 8849, 11562, 12430, 14313, 20313, 21502], axis=0)"
   ]
  },
  {
   "cell_type": "code",
   "execution_count": null,
   "metadata": {},
   "outputs": [],
   "source": [
    "out_test = taxdf[taxdf.tax_rate > .1]\n",
    "out_test"
   ]
  },
  {
   "cell_type": "code",
   "execution_count": null,
   "metadata": {},
   "outputs": [],
   "source": [
    "taxdf.shape"
   ]
  },
  {
   "cell_type": "code",
   "execution_count": null,
   "metadata": {},
   "outputs": [],
   "source": [
    "taxdf.groupby('regionidcounty')[['tax_rate']].min()"
   ]
  },
  {
   "cell_type": "code",
   "execution_count": null,
   "metadata": {},
   "outputs": [],
   "source": [
    "taxdf.groupby('regionidcounty')[['tax_rate']].max()"
   ]
  },
  {
   "cell_type": "code",
   "execution_count": null,
   "metadata": {},
   "outputs": [],
   "source": [
    "taxdf.regionidcounty.value_counts()"
   ]
  },
  {
   "cell_type": "code",
   "execution_count": null,
   "metadata": {},
   "outputs": [],
   "source": [
    "# After removal of initial outliers\n",
    "plt.figure(figsize=(16, 7))\n",
    "sns.boxplot(taxdf.tax_rate)"
   ]
  },
  {
   "cell_type": "code",
   "execution_count": null,
   "metadata": {},
   "outputs": [],
   "source": [
    "# total distribution\n",
    "plt.figure(figsize=(16, 7))\n",
    "sns.distplot(taxdf.tax_rate)"
   ]
  },
  {
   "cell_type": "code",
   "execution_count": null,
   "metadata": {},
   "outputs": [],
   "source": [
    "# how to find state? what is fips column?\n",
    "# https://en.wikipedia.org/wiki/FIPS_county_code"
   ]
  },
  {
   "cell_type": "code",
   "execution_count": null,
   "metadata": {},
   "outputs": [],
   "source": [
    "x = taxdf.latitude\n",
    "y = taxdf.longitude\n",
    "plt.scatter(x, y)\n",
    "plt.show()"
   ]
  },
  {
   "cell_type": "code",
   "execution_count": null,
   "metadata": {},
   "outputs": [],
   "source": [
    "taxdf.fips.value_counts()"
   ]
  },
  {
   "cell_type": "markdown",
   "metadata": {},
   "source": [
    "### per County FIPS Codes list\n",
    "\n",
    "06037 = Los Angles county\n",
    "\n",
    "06059 = Orange county\n",
    "\n",
    "06111 = Ventura county\n",
    "\n",
    "https://www.nrcs.usda.gov/wps/portal/nrcs/detail/national/home/?cid=nrcs143_013697"
   ]
  },
  {
   "cell_type": "code",
   "execution_count": null,
   "metadata": {},
   "outputs": [],
   "source": []
  },
  {
   "cell_type": "code",
   "execution_count": null,
   "metadata": {},
   "outputs": [],
   "source": [
    "X_train_explore.rename(columns = {'Unnamed: 0':'delete', 'id.1':'delete1'}, inplace = True)\n",
    "X_train_explore.drop(columns = ['delete','delete1','yearbuilt'], inplace = True)\n",
    "X_train_scaled.rename(columns = {'Unnamed: 0':'delete', 'id.1':'delete1'}, inplace = True)\n",
    "X_train_scaled.drop(columns = ['delete','delete1'], inplace = True)\n",
    "X_validate_scaled.rename(columns = {'Unnamed: 0':'delete', 'id.1':'delete1'}, inplace = True)\n",
    "X_validate_scaled.drop(columns = ['delete','delete1'], inplace = True) \n",
    "X_test_scaled.rename(columns = {'Unnamed: 0':'delete', 'id.1':'delete1'}, inplace = True)\n"
   ]
  },
  {
   "cell_type": "code",
   "execution_count": null,
   "metadata": {},
   "outputs": [],
   "source": []
  },
  {
   "cell_type": "code",
   "execution_count": null,
   "metadata": {},
   "outputs": [],
   "source": []
  },
  {
   "cell_type": "code",
   "execution_count": 2,
   "metadata": {},
   "outputs": [
    {
     "data": {
      "text/plain": [
       "((12217, 13), (5236, 13), (4364, 13))"
      ]
     },
     "execution_count": 2,
     "metadata": {},
     "output_type": "execute_result"
    }
   ],
   "source": [
    "path='zillow_df.csv'\n",
    "\n",
    "Df, X_train_explore, \\\n",
    "    X_train_scaled, y_train, \\\n",
    "    X_validate_scaled, y_validate, \\\n",
    "    X_test_scaled, y_test = src.prepare.wrangle_zillow(path)\n",
    "\n",
    "X_train_scaled.shape, X_validate_scaled.shape, X_test_scaled.shape"
   ]
  },
  {
   "cell_type": "code",
   "execution_count": null,
   "metadata": {},
   "outputs": [],
   "source": [
    "X_train_scaled.head()"
   ]
  },
  {
   "cell_type": "code",
   "execution_count": null,
   "metadata": {},
   "outputs": [],
   "source": [
    "X_train_explore.info()"
   ]
  },
  {
   "cell_type": "code",
   "execution_count": 3,
   "metadata": {},
   "outputs": [
    {
     "data": {
      "text/html": [
       "<div>\n",
       "<style scoped>\n",
       "    .dataframe tbody tr th:only-of-type {\n",
       "        vertical-align: middle;\n",
       "    }\n",
       "\n",
       "    .dataframe tbody tr th {\n",
       "        vertical-align: top;\n",
       "    }\n",
       "\n",
       "    .dataframe thead th {\n",
       "        text-align: right;\n",
       "    }\n",
       "</style>\n",
       "<table border=\"1\" class=\"dataframe\">\n",
       "  <thead>\n",
       "    <tr style=\"text-align: right;\">\n",
       "      <th></th>\n",
       "      <th>bathroomcnt</th>\n",
       "      <th>bedroomcnt</th>\n",
       "      <th>calculatedfinishedsquarefeet</th>\n",
       "      <th>fireplace</th>\n",
       "      <th>garage</th>\n",
       "      <th>hottub_spa</th>\n",
       "      <th>lotsizesquarefeet</th>\n",
       "      <th>poolcnt</th>\n",
       "      <th>roomcnt</th>\n",
       "      <th>yearbuilt</th>\n",
       "      <th>taxvaluedollarcnt</th>\n",
       "      <th>zip</th>\n",
       "      <th>useid</th>\n",
       "      <th>year</th>\n",
       "      <th>zip_cc</th>\n",
       "      <th>useid_cc</th>\n",
       "      <th>year_cc</th>\n",
       "    </tr>\n",
       "  </thead>\n",
       "  <tbody>\n",
       "    <tr>\n",
       "      <th>4948</th>\n",
       "      <td>0.0</td>\n",
       "      <td>0.0</td>\n",
       "      <td>2676.0</td>\n",
       "      <td>0.0</td>\n",
       "      <td>0.0</td>\n",
       "      <td>0.0</td>\n",
       "      <td>4666.0</td>\n",
       "      <td>0.0</td>\n",
       "      <td>0.0</td>\n",
       "      <td>1972.0</td>\n",
       "      <td>309966.0</td>\n",
       "      <td>96961.0</td>\n",
       "      <td>248.0</td>\n",
       "      <td>1972.0</td>\n",
       "      <td>288</td>\n",
       "      <td>2</td>\n",
       "      <td>85</td>\n",
       "    </tr>\n",
       "    <tr>\n",
       "      <th>20098</th>\n",
       "      <td>2.0</td>\n",
       "      <td>3.0</td>\n",
       "      <td>2559.0</td>\n",
       "      <td>0.0</td>\n",
       "      <td>0.0</td>\n",
       "      <td>0.0</td>\n",
       "      <td>14969.0</td>\n",
       "      <td>0.0</td>\n",
       "      <td>0.0</td>\n",
       "      <td>1950.0</td>\n",
       "      <td>316925.0</td>\n",
       "      <td>96424.0</td>\n",
       "      <td>261.0</td>\n",
       "      <td>1950.0</td>\n",
       "      <td>228</td>\n",
       "      <td>4</td>\n",
       "      <td>63</td>\n",
       "    </tr>\n",
       "    <tr>\n",
       "      <th>3086</th>\n",
       "      <td>2.0</td>\n",
       "      <td>4.0</td>\n",
       "      <td>2118.0</td>\n",
       "      <td>0.0</td>\n",
       "      <td>2.0</td>\n",
       "      <td>0.0</td>\n",
       "      <td>7700.0</td>\n",
       "      <td>1.0</td>\n",
       "      <td>9.0</td>\n",
       "      <td>1959.0</td>\n",
       "      <td>212814.0</td>\n",
       "      <td>96218.0</td>\n",
       "      <td>261.0</td>\n",
       "      <td>1959.0</td>\n",
       "      <td>137</td>\n",
       "      <td>4</td>\n",
       "      <td>72</td>\n",
       "    </tr>\n",
       "    <tr>\n",
       "      <th>9484</th>\n",
       "      <td>1.0</td>\n",
       "      <td>3.0</td>\n",
       "      <td>1590.0</td>\n",
       "      <td>0.0</td>\n",
       "      <td>0.0</td>\n",
       "      <td>0.0</td>\n",
       "      <td>7443.0</td>\n",
       "      <td>0.0</td>\n",
       "      <td>0.0</td>\n",
       "      <td>1921.0</td>\n",
       "      <td>477113.0</td>\n",
       "      <td>96486.0</td>\n",
       "      <td>261.0</td>\n",
       "      <td>1921.0</td>\n",
       "      <td>251</td>\n",
       "      <td>4</td>\n",
       "      <td>34</td>\n",
       "    </tr>\n",
       "    <tr>\n",
       "      <th>18735</th>\n",
       "      <td>2.0</td>\n",
       "      <td>6.0</td>\n",
       "      <td>1948.0</td>\n",
       "      <td>0.0</td>\n",
       "      <td>0.0</td>\n",
       "      <td>0.0</td>\n",
       "      <td>4981.0</td>\n",
       "      <td>0.0</td>\n",
       "      <td>0.0</td>\n",
       "      <td>1952.0</td>\n",
       "      <td>103299.0</td>\n",
       "      <td>96117.0</td>\n",
       "      <td>261.0</td>\n",
       "      <td>1952.0</td>\n",
       "      <td>83</td>\n",
       "      <td>4</td>\n",
       "      <td>65</td>\n",
       "    </tr>\n",
       "  </tbody>\n",
       "</table>\n",
       "</div>"
      ],
      "text/plain": [
       "       bathroomcnt  bedroomcnt  calculatedfinishedsquarefeet  fireplace  \\\n",
       "4948           0.0         0.0                        2676.0        0.0   \n",
       "20098          2.0         3.0                        2559.0        0.0   \n",
       "3086           2.0         4.0                        2118.0        0.0   \n",
       "9484           1.0         3.0                        1590.0        0.0   \n",
       "18735          2.0         6.0                        1948.0        0.0   \n",
       "\n",
       "       garage  hottub_spa  lotsizesquarefeet  poolcnt  roomcnt  yearbuilt  \\\n",
       "4948      0.0         0.0             4666.0      0.0      0.0     1972.0   \n",
       "20098     0.0         0.0            14969.0      0.0      0.0     1950.0   \n",
       "3086      2.0         0.0             7700.0      1.0      9.0     1959.0   \n",
       "9484      0.0         0.0             7443.0      0.0      0.0     1921.0   \n",
       "18735     0.0         0.0             4981.0      0.0      0.0     1952.0   \n",
       "\n",
       "       taxvaluedollarcnt      zip  useid    year  zip_cc  useid_cc  year_cc  \n",
       "4948            309966.0  96961.0  248.0  1972.0     288         2       85  \n",
       "20098           316925.0  96424.0  261.0  1950.0     228         4       63  \n",
       "3086            212814.0  96218.0  261.0  1959.0     137         4       72  \n",
       "9484            477113.0  96486.0  261.0  1921.0     251         4       34  \n",
       "18735           103299.0  96117.0  261.0  1952.0      83         4       65  "
      ]
     },
     "execution_count": 3,
     "metadata": {},
     "output_type": "execute_result"
    }
   ],
   "source": [
    "X_train_explore.head()"
   ]
  },
  {
   "cell_type": "code",
   "execution_count": null,
   "metadata": {},
   "outputs": [],
   "source": [
    "Df.head()"
   ]
  },
  {
   "cell_type": "code",
   "execution_count": null,
   "metadata": {},
   "outputs": [],
   "source": [
    "Df.shape"
   ]
  },
  {
   "cell_type": "code",
   "execution_count": null,
   "metadata": {},
   "outputs": [],
   "source": [
    "Df['taxrte'] = Df."
   ]
  },
  {
   "cell_type": "code",
   "execution_count": null,
   "metadata": {},
   "outputs": [],
   "source": []
  },
  {
   "cell_type": "code",
   "execution_count": null,
   "metadata": {},
   "outputs": [],
   "source": [
    "df = pd.DataFrame()\n",
    "df[\"stuff\"] = [\"a\", \"b\", \"c\", \"d\", \"e\" , \"f\", \"g\"]\n",
    "rows_to_remove = [2, 3, 4]\n",
    "df = df[~df.index.isin(rows_to_remove)]"
   ]
  },
  {
   "cell_type": "code",
   "execution_count": null,
   "metadata": {},
   "outputs": [],
   "source": []
  },
  {
   "cell_type": "markdown",
   "metadata": {},
   "source": [
    "## Notes\n",
    "\n",
    "1. I already uploaded my env.py file so need need to upload yours.  We only need one to access the data.\n",
    "\n",
    "\n",
    "2. I already uploaded a .gitignore so also no worries there\n",
    "\n",
    "\n",
    "3. Data is ready to go, i want to engeneer a feature that combines bed and bath, but get a weird error when I try.    we can trouble shoot after mvp, but code can be found in .prepare file\n",
    "\n",
    "\n",
    "4. We have 3 categorical variables  and 14 numeric\n",
    "   - \"regionidzip\"\n",
    "   - \"propertylandusetypeid\"\n",
    "   - 'yearbuilt'\n",
    "   \n",
    "\n",
    "5. id.1 and Unmaed:0 showd up we also need to delete them"
   ]
  },
  {
   "cell_type": "markdown",
   "metadata": {},
   "source": [
    "***"
   ]
  },
  {
   "cell_type": "markdown",
   "metadata": {},
   "source": [
    "## What Data do we need in our initial SQL querry?\n",
    "\n",
    "\n",
    "What is a single unit property?\n",
    "\n",
    "By James Chen Updated Sep 11, 2020 What Is a Housing Unit?\n",
    "\n",
    "The term housing unit refers to a single unit within a larger structure that can be used by an individual or household to eat, sleep, and live. The unit can be in any type of residence such as a house, apartment, mobile home, or may also be a single unit in a group of rooms. Essentially, a housing unit is deemed to be a separate living quarter where the occupants live and eat separately from other residents of the structure or building. They also have direct access from the building's exterior or through a common hallway.\n",
    "\n",
    "    https://www.investopedia.com/terms/h/housingunits.asp\n",
    "\n",
    "Properties in the Database: Based on the above definition some categories do not fit brief\n",
    "\n",
    "Propertylandusetypeid | propertylandusedesc\n",
    "\n",
    "  No        31           Commercial/Office/Residential Mixed Used  (not a residence)\n",
    "  No        46           Multi-Story Store                         (not a residence)\n",
    "  No        47           Store/Office (Mixed Use)                  (not a residence)\n",
    "            246          Duplex (2 Units, Any Combination)\n",
    "            247          Triplex (3 Units, Any Combination)\n",
    "            248          Quadruplex (4 Units, Any Combination)\n",
    "            260          Residential General\n",
    "            261          Single Family Residential\n",
    "            262          Rural Residence\n",
    "            263          Mobile Home\n",
    "            264          Townhouse\n",
    "            265          Cluster Home\n",
    "            266          Condominium\n",
    "  No        267          Cooperative                               (become shareholder not owner)\n",
    "            268          Row House\n",
    "            269          Planned Unit Development\n",
    "  No        270          Residential Common Area                   (propterty feature)\n",
    "  No        271          Timeshare                                 (become shareholder not owner)\n",
    "            273          Bungalow\n",
    "            274          Zero Lot Line\n",
    "            275          Manufactured, Modular, Prefabricated Homes\n",
    "            276          Patio Home\n",
    "            279          Inferred Single Family Residential\n",
    "  No        290          Vacant Land - General                     (not a residence)\n",
    "  No        291          Residential Vacant Land                   (not a residence)\n",
    "\n"
   ]
  },
  {
   "cell_type": "markdown",
   "metadata": {},
   "source": [
    "## Feature Selection (my thoughts and why)\n",
    "\n",
    "\n",
    "\n",
    "What Data do we need in our inital df? (20,931 Housing Units)\n",
    "\n",
    "    parcelid 20931 non-null int64 Listing Number - Drop for Explore\n",
    "    \n",
    "    \n",
    "    id 20931 non-null int64 Listing ID - Drop for Explore\n",
    "    \n",
    "    \n",
    "    airconditioningtypeid 6779 non-null float64 Too Many null-values - Drop for Explore\n",
    "    \n",
    "    \n",
    "    architecturalstyletypeid 52 non-null float64 Too Many null-values - Drop for Explore\n",
    "    \n",
    "    \n",
    "    basementsqft 16 non-null float64 16 non-values - Drop for Explore\n",
    "    \n",
    "    \n",
    "    bathroomcnt 20931 non-null float64 Use\n",
    "    \n",
    "    \n",
    "    bedroomcnt 20931 non-null float64 Use - Combine bath/bed (feature engeneering)\n",
    "    \n",
    "    \n",
    "    buildingclasstypeid 0 non-null object All Values Null - Drop for Explore\n",
    "    \n",
    "    \n",
    "    buildingqualitytypeid 13257 non-null float64 Too Many null-values - Drop for Explore\n",
    "    \n",
    "    \n",
    "    calculatedbathnbr 20771 non-null float64 Repeat of barthromcnt - Drop for Explore\n",
    "    \n",
    "    \n",
    "    decktypeid 174 non-null float64 Too Many null-values - Drop for Explore\n",
    "    \n",
    "    \n",
    "    finishedfloor1squarefeet 1738 non-null float64 Repeat Column - Drop for Explore\n",
    "    \n",
    "    \n",
    "    calculatedfinishedsquarefeet 20868 non-null float64 Use - Drop null\n",
    "    \n",
    "    \n",
    "    finishedsquarefeet12 20024 non-null float64 Repeat Column - Drop for Explore\n",
    "    \n",
    "    \n",
    "    finishedsquarefeet13 17 non-null float64 Repeat Column - Drop for Explore\n",
    "    \n",
    "    \n",
    "    finishedsquarefeet15 736 non-null float64 Repeat Column - Drop for Explore\n",
    "    \n",
    "    \n",
    "    finishedsquarefeet50 1738 non-null float64 Repeat Column - Drop for Explore\n",
    "    \n",
    "    \n",
    "    finishedsquarefeet6 91 non-null float64 Repeat Column - Drop for Explore\n",
    "    \n",
    "    \n",
    "    fips 20931 non-null float64 Repeat Column - Drop for Explore\n",
    "    \n",
    "    \n",
    "    fireplacecnt 2422 non-null float64 Use - change null to 0\n",
    "    \n",
    "    \n",
    "    fullbathcnt 20771 non-null float64 Repeat of bathroom - Drop for Explore\n",
    "    \n",
    "    \n",
    "    garagecarcnt 7075 non-null float64 Use - Rename as garage, change null to 0\n",
    "    \n",
    "    \n",
    "    garagetotalsqft 7075 non-null float64 - garagesqft verifys that they exist\n",
    "    \n",
    "    \n",
    "    hashottuborspa 461 non-null float64 Use - change null to 0, for no ht or spa\n",
    "    \n",
    "    \n",
    "    heatingorsystemtypeid 13285 non-null float64 Too Many null-values - Drop for Explore\n",
    "    \n",
    "    \n",
    "    latitude 20931 non-null float64 Repeat Column - Drop for Explore\n",
    "    \n",
    "    \n",
    "    longitude 20931 non-null float64 Repeat Column - Drop for Explore\n",
    "    \n",
    "    \n",
    "    lotsizesquarefeet 18742 non-null float64 Too Large for Modeling, Scaling?\n",
    "    \n",
    "    \n",
    "    poolcnt 4496 non-null float64 Use - change null to 0, for no pool\n",
    "    \n",
    "    \n",
    "    poolsizesum 251 non-null float64 Repeat Column - Drop for Explore\n",
    "    \n",
    "    \n",
    "    pooltypeid10 121 non-null float64 Repeat Column - Drop for Explore\n",
    "    \n",
    "    \n",
    "    pooltypeid2 340 non-null float64 Repeat Column - Drop for Explore\n",
    "    \n",
    "    \n",
    "    pooltypeid7 4154 non-null float64 Repeat Column - Drop for Explore\n",
    "    \n",
    "    \n",
    "    propertycountylandusecode 20931 non-null object Repeat Column - Drop for Explore\n",
    "    \n",
    "    \n",
    "    propertylandusetypeid 20931 non-null float64 Use - Categories\n",
    "    \n",
    "    \n",
    "    propertyzoningdesc 13437 non-null object Too Many null-values - Drop for Explore\n",
    "    \n",
    "    \n",
    "    rawcensustractandblock 20931 non-null float64 **Repeat info(zip)\n",
    "    \n",
    "    \n",
    "    regionidcity 20503 non-null float64 Repeat info(zip) - Drop for Explore\n",
    "    \n",
    "    \n",
    "    regionidcounty 20931 non-null float64 Repeat info(zip) - Drop for Explore\n",
    "    \n",
    "    \n",
    "    regionidneighborhood 8443 non-null float64 Too Many null-values - Drop for Explore\n",
    "    \n",
    "    \n",
    "    regionidzip 20916 non-null float64 Use - latered to categorical\n",
    "    \n",
    "    \n",
    "    roomcnt 20931 non-null float64 Use\n",
    "    \n",
    "    \n",
    "    storytypeid 16 non-null float64 Too Many null-values - Drop for Explore\n",
    "    \n",
    "    \n",
    "    threequarterbathnbr 2800 non-null float64 Repeat info(bathroom) - Drop for Explore\n",
    "    \n",
    "    \n",
    "    typeconstructiontypeid 56 non-null float64 Too Many null-values - Drop for Explore\n",
    "    \n",
    "    \n",
    "    unitcnt 13476 non-null float64 Repeat info() - Drop for Explore\n",
    "    \n",
    "    \n",
    "    yardbuildingsqft17 701 non-null float64 Too Many null-values - Drop for Explore\n",
    "    \n",
    "    \n",
    "    yardbuildingsqft26 25 non-null float64 Too Many null-values - Drop for Explore\n",
    "    \n",
    "    \n",
    "    yearbuilt 20850 non-null float64 Use - Drop null values\n",
    "    \n",
    "    \n",
    "    numberofstories 4917 non-null float64 Too Many null-values - Drop for Explore\n",
    "    \n",
    "    \n",
    "    fireplaceflag 51 non-null float64 Repeat info(firepls) - Drop for Explore\n",
    "    \n",
    "    \n",
    "    structuretaxvaluedollarcnt 20897 non-null float64 Correlates w/Target - Drop for Explore\n",
    "    \n",
    "    \n",
    "    taxvaluedollarcnt 20930 non-null float64 Target Variable\n",
    "    \n",
    "    \n",
    "    assessmentyear 20931 non-null float64 Filtered in SQL - Drop for Explore\n",
    "    \n",
    "    \n",
    "    landtaxvaluedollarcnt 20930 non-null float64 Correlates w/Target - Drop for Explore\n",
    "    \n",
    "    \n",
    "    taxamount 20931 non-null float64 Correlates w/Target - Drop for Explore\n",
    "    \n",
    "    \n",
    "    taxdelinquencyflag 703 non-null object Correlates w/Target - Drop for Explore\n",
    "    \n",
    "    \n",
    "    taxdelinquencyyear 703 non-null float64 Correlates w/Target - Drop for Explore\n",
    "    \n",
    "    \n",
    "    censustractandblock 20852 non-null float64 Repeat Column - Drop for Explore\n",
    "    \n",
    "    \n",
    "    id 20931 non-null int64 Repeat Column - Drop for Explore\n",
    "    \n",
    "    \n",
    "    logerror 20931 non-null float64 Calculation - Drop for Explore\n",
    "    \n",
    "    \n",
    "    transactiondate 20931 non-null object Filtered in SQL - Drop for Explore"
   ]
  },
  {
   "cell_type": "markdown",
   "metadata": {},
   "source": [
    "***\n",
    "\n",
    "## Final Feature Selection (Corey)\n",
    "\n",
    "**12 Numeric Features**\n",
    "- bathroomcnt                    \n",
    "- bedroomcnt                     \n",
    "- calculatedfinishedsquarefeet   \n",
    "- fireplace                      \n",
    "- garage                        \n",
    "- hottub_spa                    \n",
    "- lotsizesquarefeet              \n",
    "- poolcnt                        \n",
    "- roomcnt                        \n",
    "- yearbuilt                      \n",
    "- zip                           \n",
    "- useid  \n",
    "- **Hopefull 13th Combination of bed and bath**\n",
    "\n",
    "\n",
    "**2 Categorical Features**\n",
    " - zip\n",
    " - useid\n",
    "\n",
    "***"
   ]
  },
  {
   "cell_type": "markdown",
   "metadata": {},
   "source": [
    "## SQL Querries"
   ]
  },
  {
   "cell_type": "code",
   "execution_count": null,
   "metadata": {},
   "outputs": [],
   "source": [
    "\n",
    "\n",
    "# Code to acquire data\n",
    "'''\n",
    "select *\n",
    "from properties_2017\n",
    "join unique_properties using (parcelid)\n",
    "join predictions_2017 using (parcelid)\n",
    "WHERE transactiondate between '2017-06-01' AND '2017-07-31'\n",
    "AND propertylandusetypeid IN ('246','247','248','260','261','262','263','264','265','266','268','269','273','274','275','276','279');\n",
    "'''\n",
    "\n",
    "# Returns 20,931 entries between May and June 2017\n",
    "# Data represents single unit properties\n",
    "\n"
   ]
  },
  {
   "cell_type": "code",
   "execution_count": null,
   "metadata": {},
   "outputs": [],
   "source": [
    "\n",
    "\n",
    "# Code to return number of houses per county\n",
    "\n",
    "'''\n",
    "select regionidcounty, count(*)\n",
    "from properties_2017\n",
    "join unique_properties using (parcelid)\n",
    "join predictions_2017 using (parcelid)\n",
    "WHERE transactiondate between '2017-06-01' AND '2017-07-31'\n",
    "AND propertylandusetypeid IN ('246','247','248','260','261','262','263','264','265','266','268','269','273','274','275','276','279') \n",
    "group by regionidcounty\n",
    "order by regionidcounty;\n",
    "'''\n",
    "\n",
    "# Returns 3 counties (1286, 2061, 3101)\n",
    "\n"
   ]
  },
  {
   "cell_type": "code",
   "execution_count": null,
   "metadata": {},
   "outputs": [],
   "source": [
    "\n",
    "\n",
    "# Code to return houses per county (Group by) for tax rate distribution\n",
    "'''\n",
    "select *\n",
    "from properties_2017\n",
    "join unique_properties using (parcelid)\n",
    "join predictions_2017 using (parcelid)\n",
    "WHERE transactiondate between '2017-06-01' AND '2017-07-31'\n",
    "AND propertylandusetypeid IN ('246','247','248','260','261','262','263','264','265','266','268','269','273','274','275','276','279') \n",
    "order by regionidcounty;\n",
    "'''\n",
    "\n"
   ]
  },
  {
   "cell_type": "code",
   "execution_count": null,
   "metadata": {},
   "outputs": [],
   "source": [
    "# Breaks down houses per county in to cities per county and zipcodes\n",
    "'''\n",
    "select regionidcity, regionidcounty, regionidzip\n",
    "from properties_2017\n",
    "join unique_properties using (parcelid)\n",
    "join predictions_2017 using (parcelid)\n",
    "WHERE transactiondate between '2017-06-01' AND '2017-07-31'\n",
    "AND propertylandusetypeid IN ('246','247','248','260','261','262','263','264','265','266','268','269','273','274','275','276','279') \n",
    "group by regionidcity, regionidcounty, regionidzip\n",
    "order by regionidzip;\n",
    "'''\n",
    "# Returns a list of zip codes and city id numbers per county. Necessary to id **STATE**"
   ]
  },
  {
   "cell_type": "code",
   "execution_count": null,
   "metadata": {},
   "outputs": [],
   "source": [
    "\n",
    "\n",
    "# All of the zipcodes and counts for that zipcode in for the dataset\n",
    "'''\n",
    "select count(*), regionidzip\n",
    "from properties_2017\n",
    "join unique_properties using (parcelid)\n",
    "join predictions_2017 using (parcelid)\n",
    "WHERE transactiondate between '2017-06-01' AND '2017-07-31'\n",
    "AND propertylandusetypeid IN ('246','247','248','260','261','262','263','264','265','266','268','269','273','274','275','276','279') \n",
    "group by regionidzip\n",
    "order by regionidzip;\n",
    "'''\n",
    "# Returns 385 unique zip codes\n",
    "\n"
   ]
  },
  {
   "cell_type": "code",
   "execution_count": null,
   "metadata": {},
   "outputs": [],
   "source": [
    "\n",
    "\n",
    "# All of the properties in county code 1286\n",
    "'''\n",
    "select *\n",
    "from properties_2017\n",
    "join unique_properties using (parcelid)\n",
    "join predictions_2017 using (parcelid)\n",
    "WHERE transactiondate between '2017-06-01' AND '2017-07-31'\n",
    "AND propertylandusetypeid IN ('246','247','248','260','261','262','263','264','265','266','268','269','273','274','275','276','279') \n",
    "and regionidcounty = 1286;\n",
    "'''\n",
    "# Returns 5640 values\n",
    "\n"
   ]
  },
  {
   "cell_type": "code",
   "execution_count": null,
   "metadata": {},
   "outputs": [],
   "source": [
    "\n",
    "\n",
    "# All of the properties in county code 2061\n",
    "'''\n",
    "select *\n",
    "from properties_2017\n",
    "join unique_properties using (parcelid)\n",
    "join predictions_2017 using (parcelid)\n",
    "WHERE transactiondate between '2017-06-01' AND '2017-07-31'\n",
    "AND propertylandusetypeid IN ('246','247','248','260','261','262','263','264','265','266','268','269','273','274','275','276','279') \n",
    "and regionidcounty = 2061;\n",
    "'''\n",
    "# Returns 1799 values\n",
    "\n"
   ]
  },
  {
   "cell_type": "code",
   "execution_count": null,
   "metadata": {},
   "outputs": [],
   "source": [
    "\n",
    "\n",
    "# All of the properties in county code 3101\n",
    "'''\n",
    "select *\n",
    "from properties_2017\n",
    "join unique_properties using (parcelid)\n",
    "join predictions_2017 using (parcelid)\n",
    "WHERE transactiondate between '2017-06-01' AND '2017-07-31'\n",
    "AND propertylandusetypeid IN ('246','247','248','260','261','262','263','264','265','266','268','269','273','274','275','276','279') \n",
    "and regionidcounty = 3101;\n",
    "'''\n",
    "# Returns 13492 values\n",
    "\n"
   ]
  },
  {
   "cell_type": "code",
   "execution_count": null,
   "metadata": {},
   "outputs": [],
   "source": [
    "\n",
    "\n",
    "# All of the properties in county code Null\n",
    "'''\n",
    "select *\n",
    "from properties_2017\n",
    "join unique_properties using (parcelid)\n",
    "join predictions_2017 using (parcelid)\n",
    "WHERE transactiondate between '2017-06-01' AND '2017-07-31'\n",
    "AND propertylandusetypeid IN ('246','247','248','260','261','262','263','264','265','266','268','269','273','274','275','276','279') \n",
    "and regionidcounty is Null;\n",
    "'''\n",
    "# Returns 0 values\n",
    "\n"
   ]
  }
 ],
 "metadata": {
  "kernelspec": {
   "display_name": "Python 3",
   "language": "python",
   "name": "python3"
  },
  "language_info": {
   "codemirror_mode": {
    "name": "ipython",
    "version": 3
   },
   "file_extension": ".py",
   "mimetype": "text/x-python",
   "name": "python",
   "nbconvert_exporter": "python",
   "pygments_lexer": "ipython3",
   "version": "3.7.6"
  }
 },
 "nbformat": 4,
 "nbformat_minor": 4
}
