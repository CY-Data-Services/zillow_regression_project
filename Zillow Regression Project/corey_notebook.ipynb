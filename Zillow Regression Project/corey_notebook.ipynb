{
 "cells": [
  {
   "cell_type": "code",
   "execution_count": 1,
   "metadata": {},
   "outputs": [],
   "source": [
    "import src.acquire\n",
    "import src.prepare\n",
    "import src.explore\n",
    "import src.model"
   ]
  },
  {
   "cell_type": "code",
   "execution_count": 2,
   "metadata": {},
   "outputs": [
    {
     "data": {
      "text/plain": [
       "((11666, 14), (5000, 12), (4167, 12))"
      ]
     },
     "execution_count": 2,
     "metadata": {},
     "output_type": "execute_result"
    }
   ],
   "source": [
    "path='zillow_df.csv'\n",
    "\n",
    "df, X_train_explore, \\\n",
    "    X_train_scaled, y_train, \\\n",
    "    X_validate_scaled, y_validate, \\\n",
    "    X_test_scaled, y_test = src.prepare.wrangle_zillow(path)\n",
    "\n",
    "X_train_explore.shape, X_validate_scaled.shape, X_test_scaled.shape"
   ]
  },
  {
   "cell_type": "code",
   "execution_count": 3,
   "metadata": {},
   "outputs": [
    {
     "name": "stdout",
     "output_type": "stream",
     "text": [
      "<class 'pandas.core.frame.DataFrame'>\n",
      "Int64Index: 11666 entries, 18116 to 5082\n",
      "Data columns (total 14 columns):\n",
      " #   Column                        Non-Null Count  Dtype   \n",
      "---  ------                        --------------  -----   \n",
      " 0   Unnamed: 0                    11666 non-null  int64   \n",
      " 1   bathroomcnt                   11666 non-null  float64 \n",
      " 2   bedroomcnt                    11666 non-null  float64 \n",
      " 3   calculatedfinishedsquarefeet  11666 non-null  float64 \n",
      " 4   fireplace                     11666 non-null  float64 \n",
      " 5   garage                        11666 non-null  float64 \n",
      " 6   hottub_spa                    11666 non-null  float64 \n",
      " 7   lotsizesquarefeet             11666 non-null  float64 \n",
      " 8   poolcnt                       11666 non-null  float64 \n",
      " 9   roomcnt                       11666 non-null  float64 \n",
      " 10  yearbuilt                     11666 non-null  float64 \n",
      " 11  id.1                          11666 non-null  int64   \n",
      " 12  zip                           11666 non-null  category\n",
      " 13  useid                         11666 non-null  category\n",
      "dtypes: category(2), float64(10), int64(2)\n",
      "memory usage: 1.2 MB\n"
     ]
    }
   ],
   "source": [
    "X_train_explore.info()"
   ]
  },
  {
   "cell_type": "markdown",
   "metadata": {},
   "source": [
    "## Notes"
   ]
  },
  {
   "cell_type": "markdown",
   "metadata": {},
   "source": [
    "1. I already uploaded my env.py file so need need to upload yours.  We only need one to access the data.\n",
    "\n",
    "\n",
    "2. I already uploaded a .gitignore so also no worries there\n",
    "\n",
    "\n",
    "3. Data is ready to go, i want to engeneer a feature that combines bed and bath, but get a weird error when I try.    we can trouble shoot after mvp, but code can be found in .prepare file\n",
    "\n",
    "\n",
    "4. I want to leave 2 categorical variables after transforming them to numeric but I also need help with that\n",
    "   - \"regionidzip\"\n",
    "   - \"propertylandusetypeid\"\n",
    "   - They need to be made in to categories before we can do any testing on them (Cat to Numeric)\n",
    "\n",
    "\n",
    "5. id.1 and Unmaed:0 showd up we also need to delete them"
   ]
  },
  {
   "cell_type": "code",
   "execution_count": null,
   "metadata": {},
   "outputs": [],
   "source": []
  }
 ],
 "metadata": {
  "kernelspec": {
   "display_name": "Python 3",
   "language": "python",
   "name": "python3"
  },
  "language_info": {
   "codemirror_mode": {
    "name": "ipython",
    "version": 3
   },
   "file_extension": ".py",
   "mimetype": "text/x-python",
   "name": "python",
   "nbconvert_exporter": "python",
   "pygments_lexer": "ipython3",
   "version": "3.8.3"
  }
 },
 "nbformat": 4,
 "nbformat_minor": 4
}
