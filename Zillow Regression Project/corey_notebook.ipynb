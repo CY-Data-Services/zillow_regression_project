{
 "cells": [
  {
   "cell_type": "code",
   "execution_count": 1,
   "metadata": {},
   "outputs": [],
   "source": [
    "import src.acquire\n",
    "import src.prepare\n",
    "import src.explore\n",
    "import src.model"
   ]
  },
  {
   "cell_type": "code",
   "execution_count": 2,
   "metadata": {
    "scrolled": true
   },
   "outputs": [
    {
     "data": {
      "text/plain": [
       "((12217, 12), (5236, 12), (4364, 12))"
      ]
     },
     "execution_count": 2,
     "metadata": {},
     "output_type": "execute_result"
    }
   ],
   "source": [
    "path='zillow_df.csv'\n",
    "\n",
    "df, X_train_explore, \\\n",
    "    X_train_scaled, y_train, \\\n",
    "    X_validate_scaled, y_validate, \\\n",
    "    X_test_scaled, y_test = src.prepare.wrangle_zillow(path)\n",
    "\n",
    "X_train_scaled.shape, X_validate_scaled.shape, X_test_scaled.shape"
   ]
  },
  {
   "cell_type": "code",
   "execution_count": 5,
   "metadata": {},
   "outputs": [
    {
     "data": {
      "text/plain": [
       "(12217, 16)"
      ]
     },
     "execution_count": 5,
     "metadata": {},
     "output_type": "execute_result"
    }
   ],
   "source": [
    "X_train_explore.shape"
   ]
  },
  {
   "cell_type": "code",
   "execution_count": 6,
   "metadata": {},
   "outputs": [
    {
     "data": {
      "text/html": [
       "<div>\n",
       "<style scoped>\n",
       "    .dataframe tbody tr th:only-of-type {\n",
       "        vertical-align: middle;\n",
       "    }\n",
       "\n",
       "    .dataframe tbody tr th {\n",
       "        vertical-align: top;\n",
       "    }\n",
       "\n",
       "    .dataframe thead th {\n",
       "        text-align: right;\n",
       "    }\n",
       "</style>\n",
       "<table border=\"1\" class=\"dataframe\">\n",
       "  <thead>\n",
       "    <tr style=\"text-align: right;\">\n",
       "      <th></th>\n",
       "      <th>bathroomcnt</th>\n",
       "      <th>bedroomcnt</th>\n",
       "      <th>calculatedfinishedsquarefeet</th>\n",
       "      <th>fireplace</th>\n",
       "      <th>garage</th>\n",
       "      <th>hottub_spa</th>\n",
       "      <th>lotsizesquarefeet</th>\n",
       "      <th>poolcnt</th>\n",
       "      <th>roomcnt</th>\n",
       "      <th>taxvaluedollarcnt</th>\n",
       "      <th>zip</th>\n",
       "      <th>useid</th>\n",
       "      <th>year</th>\n",
       "      <th>zip_cc</th>\n",
       "      <th>useid_cc</th>\n",
       "      <th>year_cc</th>\n",
       "    </tr>\n",
       "  </thead>\n",
       "  <tbody>\n",
       "    <tr>\n",
       "      <th>4948</th>\n",
       "      <td>0.0</td>\n",
       "      <td>0.0</td>\n",
       "      <td>2676.0</td>\n",
       "      <td>0.0</td>\n",
       "      <td>0.0</td>\n",
       "      <td>0.0</td>\n",
       "      <td>4666.0</td>\n",
       "      <td>0.0</td>\n",
       "      <td>0.0</td>\n",
       "      <td>309966.0</td>\n",
       "      <td>96961.0</td>\n",
       "      <td>248.0</td>\n",
       "      <td>1972.0</td>\n",
       "      <td>288</td>\n",
       "      <td>2</td>\n",
       "      <td>85</td>\n",
       "    </tr>\n",
       "    <tr>\n",
       "      <th>20098</th>\n",
       "      <td>2.0</td>\n",
       "      <td>3.0</td>\n",
       "      <td>2559.0</td>\n",
       "      <td>0.0</td>\n",
       "      <td>0.0</td>\n",
       "      <td>0.0</td>\n",
       "      <td>14969.0</td>\n",
       "      <td>0.0</td>\n",
       "      <td>0.0</td>\n",
       "      <td>316925.0</td>\n",
       "      <td>96424.0</td>\n",
       "      <td>261.0</td>\n",
       "      <td>1950.0</td>\n",
       "      <td>228</td>\n",
       "      <td>4</td>\n",
       "      <td>63</td>\n",
       "    </tr>\n",
       "    <tr>\n",
       "      <th>3086</th>\n",
       "      <td>2.0</td>\n",
       "      <td>4.0</td>\n",
       "      <td>2118.0</td>\n",
       "      <td>0.0</td>\n",
       "      <td>2.0</td>\n",
       "      <td>0.0</td>\n",
       "      <td>7700.0</td>\n",
       "      <td>1.0</td>\n",
       "      <td>9.0</td>\n",
       "      <td>212814.0</td>\n",
       "      <td>96218.0</td>\n",
       "      <td>261.0</td>\n",
       "      <td>1959.0</td>\n",
       "      <td>137</td>\n",
       "      <td>4</td>\n",
       "      <td>72</td>\n",
       "    </tr>\n",
       "    <tr>\n",
       "      <th>9484</th>\n",
       "      <td>1.0</td>\n",
       "      <td>3.0</td>\n",
       "      <td>1590.0</td>\n",
       "      <td>0.0</td>\n",
       "      <td>0.0</td>\n",
       "      <td>0.0</td>\n",
       "      <td>7443.0</td>\n",
       "      <td>0.0</td>\n",
       "      <td>0.0</td>\n",
       "      <td>477113.0</td>\n",
       "      <td>96486.0</td>\n",
       "      <td>261.0</td>\n",
       "      <td>1921.0</td>\n",
       "      <td>251</td>\n",
       "      <td>4</td>\n",
       "      <td>34</td>\n",
       "    </tr>\n",
       "    <tr>\n",
       "      <th>18735</th>\n",
       "      <td>2.0</td>\n",
       "      <td>6.0</td>\n",
       "      <td>1948.0</td>\n",
       "      <td>0.0</td>\n",
       "      <td>0.0</td>\n",
       "      <td>0.0</td>\n",
       "      <td>4981.0</td>\n",
       "      <td>0.0</td>\n",
       "      <td>0.0</td>\n",
       "      <td>103299.0</td>\n",
       "      <td>96117.0</td>\n",
       "      <td>261.0</td>\n",
       "      <td>1952.0</td>\n",
       "      <td>83</td>\n",
       "      <td>4</td>\n",
       "      <td>65</td>\n",
       "    </tr>\n",
       "    <tr>\n",
       "      <th>...</th>\n",
       "      <td>...</td>\n",
       "      <td>...</td>\n",
       "      <td>...</td>\n",
       "      <td>...</td>\n",
       "      <td>...</td>\n",
       "      <td>...</td>\n",
       "      <td>...</td>\n",
       "      <td>...</td>\n",
       "      <td>...</td>\n",
       "      <td>...</td>\n",
       "      <td>...</td>\n",
       "      <td>...</td>\n",
       "      <td>...</td>\n",
       "      <td>...</td>\n",
       "      <td>...</td>\n",
       "      <td>...</td>\n",
       "    </tr>\n",
       "    <tr>\n",
       "      <th>12963</th>\n",
       "      <td>3.0</td>\n",
       "      <td>4.0</td>\n",
       "      <td>3204.0</td>\n",
       "      <td>0.0</td>\n",
       "      <td>2.0</td>\n",
       "      <td>1.0</td>\n",
       "      <td>9750.0</td>\n",
       "      <td>1.0</td>\n",
       "      <td>0.0</td>\n",
       "      <td>1024984.0</td>\n",
       "      <td>96971.0</td>\n",
       "      <td>261.0</td>\n",
       "      <td>1989.0</td>\n",
       "      <td>296</td>\n",
       "      <td>4</td>\n",
       "      <td>102</td>\n",
       "    </tr>\n",
       "    <tr>\n",
       "      <th>15010</th>\n",
       "      <td>2.5</td>\n",
       "      <td>3.0</td>\n",
       "      <td>1492.0</td>\n",
       "      <td>0.0</td>\n",
       "      <td>2.0</td>\n",
       "      <td>0.0</td>\n",
       "      <td>3600.0</td>\n",
       "      <td>0.0</td>\n",
       "      <td>0.0</td>\n",
       "      <td>352440.0</td>\n",
       "      <td>96974.0</td>\n",
       "      <td>261.0</td>\n",
       "      <td>1989.0</td>\n",
       "      <td>298</td>\n",
       "      <td>4</td>\n",
       "      <td>102</td>\n",
       "    </tr>\n",
       "    <tr>\n",
       "      <th>5751</th>\n",
       "      <td>3.0</td>\n",
       "      <td>3.0</td>\n",
       "      <td>2003.0</td>\n",
       "      <td>0.0</td>\n",
       "      <td>0.0</td>\n",
       "      <td>0.0</td>\n",
       "      <td>199789.0</td>\n",
       "      <td>1.0</td>\n",
       "      <td>0.0</td>\n",
       "      <td>1648488.0</td>\n",
       "      <td>96116.0</td>\n",
       "      <td>261.0</td>\n",
       "      <td>1975.0</td>\n",
       "      <td>82</td>\n",
       "      <td>4</td>\n",
       "      <td>88</td>\n",
       "    </tr>\n",
       "    <tr>\n",
       "      <th>13660</th>\n",
       "      <td>2.0</td>\n",
       "      <td>3.0</td>\n",
       "      <td>1571.0</td>\n",
       "      <td>0.0</td>\n",
       "      <td>0.0</td>\n",
       "      <td>0.0</td>\n",
       "      <td>6780.0</td>\n",
       "      <td>0.0</td>\n",
       "      <td>0.0</td>\n",
       "      <td>88385.0</td>\n",
       "      <td>96101.0</td>\n",
       "      <td>261.0</td>\n",
       "      <td>1962.0</td>\n",
       "      <td>71</td>\n",
       "      <td>4</td>\n",
       "      <td>75</td>\n",
       "    </tr>\n",
       "    <tr>\n",
       "      <th>11648</th>\n",
       "      <td>2.0</td>\n",
       "      <td>3.0</td>\n",
       "      <td>1656.0</td>\n",
       "      <td>0.0</td>\n",
       "      <td>0.0</td>\n",
       "      <td>0.0</td>\n",
       "      <td>34547.0</td>\n",
       "      <td>0.0</td>\n",
       "      <td>0.0</td>\n",
       "      <td>654240.0</td>\n",
       "      <td>96289.0</td>\n",
       "      <td>266.0</td>\n",
       "      <td>2003.0</td>\n",
       "      <td>169</td>\n",
       "      <td>8</td>\n",
       "      <td>116</td>\n",
       "    </tr>\n",
       "  </tbody>\n",
       "</table>\n",
       "<p>12217 rows × 16 columns</p>\n",
       "</div>"
      ],
      "text/plain": [
       "       bathroomcnt  bedroomcnt  calculatedfinishedsquarefeet  fireplace  \\\n",
       "4948           0.0         0.0                        2676.0        0.0   \n",
       "20098          2.0         3.0                        2559.0        0.0   \n",
       "3086           2.0         4.0                        2118.0        0.0   \n",
       "9484           1.0         3.0                        1590.0        0.0   \n",
       "18735          2.0         6.0                        1948.0        0.0   \n",
       "...            ...         ...                           ...        ...   \n",
       "12963          3.0         4.0                        3204.0        0.0   \n",
       "15010          2.5         3.0                        1492.0        0.0   \n",
       "5751           3.0         3.0                        2003.0        0.0   \n",
       "13660          2.0         3.0                        1571.0        0.0   \n",
       "11648          2.0         3.0                        1656.0        0.0   \n",
       "\n",
       "       garage  hottub_spa  lotsizesquarefeet  poolcnt  roomcnt  \\\n",
       "4948      0.0         0.0             4666.0      0.0      0.0   \n",
       "20098     0.0         0.0            14969.0      0.0      0.0   \n",
       "3086      2.0         0.0             7700.0      1.0      9.0   \n",
       "9484      0.0         0.0             7443.0      0.0      0.0   \n",
       "18735     0.0         0.0             4981.0      0.0      0.0   \n",
       "...       ...         ...                ...      ...      ...   \n",
       "12963     2.0         1.0             9750.0      1.0      0.0   \n",
       "15010     2.0         0.0             3600.0      0.0      0.0   \n",
       "5751      0.0         0.0           199789.0      1.0      0.0   \n",
       "13660     0.0         0.0             6780.0      0.0      0.0   \n",
       "11648     0.0         0.0            34547.0      0.0      0.0   \n",
       "\n",
       "       taxvaluedollarcnt      zip  useid    year  zip_cc  useid_cc  year_cc  \n",
       "4948            309966.0  96961.0  248.0  1972.0     288         2       85  \n",
       "20098           316925.0  96424.0  261.0  1950.0     228         4       63  \n",
       "3086            212814.0  96218.0  261.0  1959.0     137         4       72  \n",
       "9484            477113.0  96486.0  261.0  1921.0     251         4       34  \n",
       "18735           103299.0  96117.0  261.0  1952.0      83         4       65  \n",
       "...                  ...      ...    ...     ...     ...       ...      ...  \n",
       "12963          1024984.0  96971.0  261.0  1989.0     296         4      102  \n",
       "15010           352440.0  96974.0  261.0  1989.0     298         4      102  \n",
       "5751           1648488.0  96116.0  261.0  1975.0      82         4       88  \n",
       "13660            88385.0  96101.0  261.0  1962.0      71         4       75  \n",
       "11648           654240.0  96289.0  266.0  2003.0     169         8      116  \n",
       "\n",
       "[12217 rows x 16 columns]"
      ]
     },
     "execution_count": 6,
     "metadata": {},
     "output_type": "execute_result"
    }
   ],
   "source": [
    "X_train_explore"
   ]
  },
  {
   "cell_type": "code",
   "execution_count": 7,
   "metadata": {},
   "outputs": [],
   "source": [
    "import pandas as pd\n",
    "import numpy as np\n",
    "import seaborn as sns\n",
    "import matplotlib.pyplot as plt\n",
    "from math import sqrt\n",
    "from scipy import stats\n",
    "\n",
    "import warnings\n",
    "warnings.filterwarnings(\"ignore\")"
   ]
  },
  {
   "cell_type": "markdown",
   "metadata": {},
   "source": [
    "# Explore\n",
    "\n",
    "MVP- 3 Features\n",
    "1. calculatedfinishedsquarefeet\n",
    "2. bedroomcnt\n",
    "3. bathroomcnt\n",
    "\n",
    "Target = taxvaluedollarcnt"
   ]
  },
  {
   "cell_type": "code",
   "execution_count": 8,
   "metadata": {},
   "outputs": [
    {
     "data": {
      "image/png": "[encoded data removed]",
      "text/plain": [
       "<Figure size 432x432 with 3 Axes>"
      ]
     },
     "metadata": {
      "needs_background": "light"
     },
     "output_type": "display_data"
    }
   ],
   "source": [
    "# Visualize relationship between square feet and tax value (Continuous and Continuous)\n",
    "sns.jointplot(x='calculatedfinishedsquarefeet',y='taxvaluedollarcnt', data=X_train_explore)\n",
    "plt.show()"
   ]
  },
  {
   "cell_type": "code",
   "execution_count": 9,
   "metadata": {},
   "outputs": [
    {
     "data": {
      "image/png": "[encoded data removed]",
      "text/plain": [
       "<Figure size 432x288 with 1 Axes>"
      ]
     },
     "metadata": {
      "needs_background": "light"
     },
     "output_type": "display_data"
    }
   ],
   "source": [
    "# Visualize relationship between bedroom count and tax value (Continuous and Categorical)\n",
    "X_train_explore['bedroom_bin'] = pd.cut(X_train_explore.bedroomcnt, bins=[0, 3, 6, 9, 12], labels=['3', '6', '9', '12'])\n",
    "sns.boxplot(data=X_train_explore, y='taxvaluedollarcnt', x='bedroomcnt')\n",
    "plt.show()"
   ]
  },
  {
   "cell_type": "code",
   "execution_count": 10,
   "metadata": {},
   "outputs": [
    {
     "data": {
      "image/png": "[encoded data removed]",
      "text/plain": [
       "<Figure size 432x288 with 1 Axes>"
      ]
     },
     "metadata": {
      "needs_background": "light"
     },
     "output_type": "display_data"
    }
   ],
   "source": [
    "# Visualize relationship between bathroom count and tax value (Continuous and Categorical)\n",
    "X_train_explore['bathroom_bin'] = pd.cut(X_train_explore.bathroomcnt, bins=[0, 3, 6, 9], labels=['3', '6', '9'])\n",
    "sns.boxplot(data=X_train_explore, y='taxvaluedollarcnt', x='bathroomcnt')\n",
    "plt.show()"
   ]
  },
  {
   "cell_type": "code",
   "execution_count": 11,
   "metadata": {},
   "outputs": [
    {
     "data": {
      "image/png": "[encoded data removed]",
      "text/plain": [
       "<Figure size 432x288 with 1 Axes>"
      ]
     },
     "metadata": {
      "needs_background": "light"
     },
     "output_type": "display_data"
    }
   ],
   "source": [
    "# Histogram of Bedrooms\n",
    "X_train_explore.bedroom_bin.value_counts().sort_index().plot.bar()\n",
    "plt.title('# of Bedrooms')\n",
    "plt.ylabel('Tax Value ($)')\n",
    "plt.xticks(rotation=0)\n",
    "plt.show()"
   ]
  },
  {
   "cell_type": "code",
   "execution_count": 12,
   "metadata": {},
   "outputs": [
    {
     "data": {
      "image/png": "[encoded data removed]",
      "text/plain": [
       "<Figure size 432x288 with 1 Axes>"
      ]
     },
     "metadata": {
      "needs_background": "light"
     },
     "output_type": "display_data"
    }
   ],
   "source": [
    "# Histogram of Bedrooms\n",
    "X_train_explore.bathroom_bin.value_counts().sort_index().plot.bar()\n",
    "plt.title('# of Bathrooms')\n",
    "plt.ylabel('Tax Value ($)')\n",
    "plt.xticks(rotation=0)\n",
    "plt.show()"
   ]
  },
  {
   "cell_type": "code",
   "execution_count": 13,
   "metadata": {},
   "outputs": [
    {
     "ename": "NameError",
     "evalue": "name 'train' is not defined",
     "output_type": "error",
     "traceback": [
      "\u001b[0;31m---------------------------------------------------------------------------\u001b[0m",
      "\u001b[0;31mNameError\u001b[0m                                 Traceback (most recent call last)",
      "\u001b[0;32m<ipython-input-13-e3f8b1f4a96c>\u001b[0m in \u001b[0;36m<module>\u001b[0;34m\u001b[0m\n\u001b[1;32m      1\u001b[0m \u001b[0;31m# Categorical and Categorical\u001b[0m\u001b[0;34m\u001b[0m\u001b[0;34m\u001b[0m\u001b[0;34m\u001b[0m\u001b[0m\n\u001b[1;32m      2\u001b[0m \u001b[0;34m\u001b[0m\u001b[0m\n\u001b[0;32m----> 3\u001b[0;31m \u001b[0mctab\u001b[0m \u001b[0;34m=\u001b[0m \u001b[0mpd\u001b[0m\u001b[0;34m.\u001b[0m\u001b[0mcrosstab\u001b[0m\u001b[0;34m(\u001b[0m\u001b[0mtrain\u001b[0m\u001b[0;34m.\u001b[0m\u001b[0mexam1_letter_grade\u001b[0m\u001b[0;34m,\u001b[0m \u001b[0mtrain\u001b[0m\u001b[0;34m.\u001b[0m\u001b[0mclassroom\u001b[0m\u001b[0;34m,\u001b[0m \u001b[0mnormalize\u001b[0m\u001b[0;34m=\u001b[0m\u001b[0;32mTrue\u001b[0m\u001b[0;34m)\u001b[0m\u001b[0;34m\u001b[0m\u001b[0;34m\u001b[0m\u001b[0m\n\u001b[0m\u001b[1;32m      4\u001b[0m \u001b[0msns\u001b[0m\u001b[0;34m.\u001b[0m\u001b[0mheatmap\u001b[0m\u001b[0;34m(\u001b[0m\u001b[0mctab\u001b[0m\u001b[0;34m,\u001b[0m \u001b[0mcmap\u001b[0m\u001b[0;34m=\u001b[0m\u001b[0;34m'Purples'\u001b[0m\u001b[0;34m,\u001b[0m \u001b[0mannot\u001b[0m\u001b[0;34m=\u001b[0m\u001b[0;32mTrue\u001b[0m\u001b[0;34m,\u001b[0m \u001b[0mfmt\u001b[0m\u001b[0;34m=\u001b[0m\u001b[0;34m'.1%'\u001b[0m\u001b[0;34m)\u001b[0m\u001b[0;34m\u001b[0m\u001b[0;34m\u001b[0m\u001b[0m\n\u001b[1;32m      5\u001b[0m \u001b[0;34m\u001b[0m\u001b[0m\n",
      "\u001b[0;31mNameError\u001b[0m: name 'train' is not defined"
     ]
    }
   ],
   "source": [
    "# Categorical and Categorical\n",
    "\n",
    "ctab = pd.crosstab(train.exam1_letter_grade, train.classroom, normalize=True)\n",
    "sns.heatmap(ctab, cmap='Purples', annot=True, fmt='.1%')\n",
    "\n"
   ]
  },
  {
   "cell_type": "markdown",
   "metadata": {},
   "source": [
    "#### Takeaway:\n",
    "\n",
    "1. The only feature that appears to correlate wth the target in a linear fashion is calculatedfinishedsqure feet\n",
    "2. Most housese have 3 or less bathrooms\n",
    "3. Most houses have 3 or less bedrooms\n",
    "4. Bathroom data has a lot more variance then bedroom data"
   ]
  },
  {
   "cell_type": "markdown",
   "metadata": {},
   "source": [
    "## Evaluate Linear Features"
   ]
  },
  {
   "cell_type": "code",
   "execution_count": null,
   "metadata": {},
   "outputs": [],
   "source": [
    "# This is the code for the Linear Model\n",
    "from statsmodels.formula.api import ols\n",
    "\n",
    "from scipy import stats\n",
    "from sklearn.metrics import mean_squared_error, r2_score, explained_variance_score\n",
    "from sklearn.linear_model import LinearRegression\n",
    "from sklearn.feature_selection import f_regression, SelectKBest, RFE "
   ]
  },
  {
   "cell_type": "code",
   "execution_count": null,
   "metadata": {},
   "outputs": [],
   "source": [
    "# Evaluate squre feet\n",
    "src.model.eval_linear_feature(ols('taxvaluedollarcnt ~ calculatedfinishedsquarefeet', X_train_explore).fit(), X_train_explore.taxvaluedollarcnt, X_train_explore.calculatedfinishedsquarefeet)"
   ]
  },
  {
   "cell_type": "code",
   "execution_count": null,
   "metadata": {},
   "outputs": [],
   "source": [
    "# Evaluate bedroom count\n",
    "src.model.eval_linear_feature(ols('taxvaluedollarcnt ~ bedroomcnt', X_train_explore).fit(), X_train_explore.taxvaluedollarcnt, X_train_explore.bedroomcnt)"
   ]
  },
  {
   "cell_type": "code",
   "execution_count": null,
   "metadata": {},
   "outputs": [],
   "source": [
    "# Evaluate bathroom count\n",
    "\n",
    "src.model.eval_linear_feature(ols('taxvaluedollarcnt ~ bathroomcnt', X_train_explore).fit(), X_train_explore.taxvaluedollarcnt, X_train_explore.bathroomcnt)"
   ]
  },
  {
   "cell_type": "markdown",
   "metadata": {},
   "source": [
    "### Takaway:\n",
    "\n",
    "- All 3 Variables pass F-test and are significant to use in our modeling"
   ]
  },
  {
   "cell_type": "markdown",
   "metadata": {},
   "source": [
    "***\n",
    "\n",
    "## Hypothesis Testing\n",
    "\n",
    "***"
   ]
  },
  {
   "cell_type": "markdown",
   "metadata": {},
   "source": [
    "#### Chi Squared Test For Independence:\n",
    "\n",
    "**Hypothesis: There is a relationship between # of bedrooms and # of bathrooms that would make them a good canidate for future feature engeneering.**\n",
    "\n",
    "Null Hypothesis: $H_{0}$: Number of Bedrooms and Number of Bathrooms are independent\n",
    "\n",
    "Alternative Hypothesis: $H_{a}$: Number of Bedrooms and Number of Bathrooms are dependent\n"
   ]
  },
  {
   "cell_type": "code",
   "execution_count": null,
   "metadata": {},
   "outputs": [],
   "source": [
    "# Hypothesis Test\n",
    "\n",
    "alpha = 0.05\n",
    "contingency_table = pd.crosstab(X_train_explore.bedroomcnt, X_train_explore.bathroomcnt)\n",
    "\n",
    "chi2, p, degf, expected = stats.chi2_contingency(contingency_table)\n",
    "\n",
    "if p < alpha:\n",
    "    print(\"We reject the null hypothesis\")\n",
    "    print(f'chi^2 = {chi2:.4f}')\n",
    "    print(f'p     = {p:.4f}')\n",
    "else:\n",
    "    print(\"We fail to reject the null hypothesis\")"
   ]
  },
  {
   "cell_type": "markdown",
   "metadata": {},
   "source": [
    "#### Takeaway:\n",
    "\n",
    "- Num. of bathrooms and Num. of bedrooms are related, and most likely would make an effective combined feature"
   ]
  },
  {
   "cell_type": "markdown",
   "metadata": {},
   "source": [
    "***\n",
    "\n",
    "***"
   ]
  },
  {
   "cell_type": "markdown",
   "metadata": {},
   "source": [
    "# Modeling\n",
    "\n",
    "Creating 4 Models to run on train dataset\n",
    "1. Linear Regression\n",
    "2. LassoLars\n",
    "3. Polynomial Features\n",
    "4. TweedieRegressor"
   ]
  },
  {
   "cell_type": "code",
   "execution_count": null,
   "metadata": {},
   "outputs": [],
   "source": [
    "# Models\n",
    "from sklearn.linear_model import LinearRegression, LassoLars, TweedieRegressor\n",
    "from sklearn.preprocessing import PolynomialFeatures\n",
    "\n",
    "import warnings\n",
    "warnings.filterwarnings(\"ignore\")"
   ]
  },
  {
   "cell_type": "markdown",
   "metadata": {},
   "source": [
    "### Create a Baseline"
   ]
  },
  {
   "cell_type": "code",
   "execution_count": null,
   "metadata": {},
   "outputs": [],
   "source": [
    "# Mean Value\n",
    "np.mean(y_train)\n",
    "y_train.shape"
   ]
  },
  {
   "cell_type": "code",
   "execution_count": null,
   "metadata": {},
   "outputs": [],
   "source": [
    "# encode as variable\n",
    "# np.full modiefies shape turns value in to a full series object\n",
    "baseline_rmse = mean_squared_error(y_train, np.full(12224, np.mean(y_train)))**(1/2)\n",
    "baseline_rmse  # Model Error To Beat $665,000"
   ]
  },
  {
   "cell_type": "markdown",
   "metadata": {},
   "source": [
    "***\n",
    "\n",
    "# Train\n",
    "\n",
    "***"
   ]
  },
  {
   "cell_type": "markdown",
   "metadata": {},
   "source": [
    "### Linear Regression"
   ]
  },
  {
   "cell_type": "code",
   "execution_count": null,
   "metadata": {},
   "outputs": [],
   "source": [
    "# Make Model\n",
    "lm = LinearRegression(normalize=True)\n",
    "# Fit Model\n",
    "lm.fit(X_train_scaled, y_train)\n",
    "# Make Predictions\n",
    "lm_pred = lm.predict(X_train_scaled)\n",
    "# Compute root mean squared error\n",
    "lm_rmse = mean_squared_error(y_train, lm_pred)**(1/2)\n",
    "lm_rmse"
   ]
  },
  {
   "cell_type": "markdown",
   "metadata": {},
   "source": [
    "### LassoLars"
   ]
  },
  {
   "cell_type": "code",
   "execution_count": null,
   "metadata": {},
   "outputs": [],
   "source": [
    "# Make a model\n",
    "lars = LassoLars(alpha=1)\n",
    "# Fit a model\n",
    "lars.fit(X_train_scaled, y_train)\n",
    "# Make Predictions\n",
    "lars_pred = lars.predict(X_train_scaled)\n",
    "# Computer root mean squared error\n",
    "lars_rmse = mean_squared_error(y_train, lars_pred)**(1/2)\n",
    "lars_rmse"
   ]
  },
  {
   "cell_type": "markdown",
   "metadata": {},
   "source": [
    "### Ploynomial Features"
   ]
  },
  {
   "cell_type": "code",
   "execution_count": null,
   "metadata": {},
   "outputs": [],
   "source": [
    "# Make a model\n",
    "pf = PolynomialFeatures(degree=2)\n",
    "\n",
    "# Fit and Transform model\n",
    "# to get a new set of features..which are the original features sqauared\n",
    "X_train_squared = pf.fit_transform(X_train_scaled)\n",
    "X_validate_squared = pf.transform(X_validate_scaled)\n",
    "\n",
    "# Feed new features in to linear model. \n",
    "lm_squared = LinearRegression()\n",
    "lm_squared.fit(X_train_squared, y_train)\n",
    "# Make predictions\n",
    "lm_squared_pred = lm_squared.predict(X_train_squared)\n",
    "# Compute root mean squared error\n",
    "lm_squared_rmse = mean_squared_error(y_train, lm_squared_pred)**(1/2)\n",
    "lm_squared_rmse"
   ]
  },
  {
   "cell_type": "markdown",
   "metadata": {},
   "source": [
    "### Tweedie Regressor"
   ]
  },
  {
   "cell_type": "code",
   "execution_count": null,
   "metadata": {},
   "outputs": [],
   "source": [
    "# Make Model\n",
    "tw = TweedieRegressor(power=0, alpha=0.1) # 0 = normal distribution\n",
    "# Fit Model\n",
    "tw.fit(X_train_scaled, y_train)\n",
    "# Make Predictions\n",
    "tw_pred = tw.predict(X_train_scaled)\n",
    "# Compute root mean squared error\n",
    "tw_rmse = mean_squared_error(y_train, tw_pred)**(1/2)\n",
    "tw_rmse"
   ]
  },
  {
   "cell_type": "markdown",
   "metadata": {},
   "source": [
    "***\n",
    "\n",
    "### Takeaway:\n",
    "- Top 3 preforming models are Linear, LassoLars, and Polynomial\n",
    "- These modes will move on to Validate\n",
    "\n",
    "***"
   ]
  },
  {
   "cell_type": "markdown",
   "metadata": {},
   "source": [
    "# Validate"
   ]
  },
  {
   "cell_type": "markdown",
   "metadata": {},
   "source": [
    "### Linear Regression"
   ]
  },
  {
   "cell_type": "code",
   "execution_count": null,
   "metadata": {},
   "outputs": [],
   "source": [
    "# Make Predictions\n",
    "lm_pred_v = lm.predict(X_validate_scaled)\n",
    "# Compute root mean squared error\n",
    "lm_rmse_v = mean_squared_error(y_validate, lm_pred_v)**(1/2)\n",
    "lm_rmse_v"
   ]
  },
  {
   "cell_type": "markdown",
   "metadata": {},
   "source": [
    "### LassoLars"
   ]
  },
  {
   "cell_type": "code",
   "execution_count": null,
   "metadata": {},
   "outputs": [],
   "source": [
    "# Make predictions\n",
    "lars_pred_v = lars.predict(X_validate_scaled)\n",
    "# Compute root mean squared error\n",
    "lars_rmse_v = mean_squared_error(y_validate, lars_pred_v)**(1/2)\n",
    "lars_rmse_v"
   ]
  },
  {
   "cell_type": "markdown",
   "metadata": {},
   "source": [
    "### Ploynomial Features"
   ]
  },
  {
   "cell_type": "code",
   "execution_count": null,
   "metadata": {},
   "outputs": [],
   "source": [
    "# Make predictions\n",
    "lm_squared_pred_v = lm_squared.predict(X_validate_squared)\n",
    "# Compute root mean squared error\n",
    "lm_squared_rmse_v = mean_squared_error(y_validate, lm_squared_pred_v)**(1/2)\n",
    "lm_squared_rmse_v"
   ]
  },
  {
   "cell_type": "markdown",
   "metadata": {},
   "source": [
    "***\n",
    "\n",
    "### Takeaway:\n",
    "- On unseen data Linear and  LassoLars preformed the test, error decreases indicates no overfitting\n",
    "- Polynomial model error skyrocketed, indicates overfitt\n",
    "- Evaluate LassoLars on Test\n",
    "\n",
    "***"
   ]
  },
  {
   "cell_type": "markdown",
   "metadata": {},
   "source": [
    "# Test"
   ]
  },
  {
   "cell_type": "markdown",
   "metadata": {},
   "source": [
    "### LassoLars"
   ]
  },
  {
   "cell_type": "code",
   "execution_count": null,
   "metadata": {},
   "outputs": [],
   "source": [
    "# Make Predictions (On best Model)\n",
    "lars_pred_test = lars.predict(X_test_scaled)\n",
    "# Compute root mean squared error\n",
    "lars_rmse_test = mean_squared_error(y_test, lars_pred_test)**(1/2)\n",
    "lars_rmse_test"
   ]
  },
  {
   "cell_type": "markdown",
   "metadata": {},
   "source": [
    "***\n",
    "\n",
    "### Takeaway:\n",
    "- LassoLars is \n",
    "\n",
    "***"
   ]
  }
 ],
 "metadata": {
  "kernelspec": {
   "display_name": "Python 3",
   "language": "python",
   "name": "python3"
  },
  "language_info": {
   "codemirror_mode": {
    "name": "ipython",
    "version": 3
   },
   "file_extension": ".py",
   "mimetype": "text/x-python",
   "name": "python",
   "nbconvert_exporter": "python",
   "pygments_lexer": "ipython3",
   "version": "3.8.3"
  }
 },
 "nbformat": 4,
 "nbformat_minor": 4
}
