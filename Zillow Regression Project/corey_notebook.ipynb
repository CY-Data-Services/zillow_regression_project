{
 "cells": [
  {
   "cell_type": "code",
   "execution_count": 1,
   "metadata": {},
   "outputs": [],
   "source": [
    "import src.acquire\n",
    "import src.prepare\n",
    "import src.explore\n",
    "import src.model\n",
    "import pandas as pd\n",
    "import numpy as np\n",
    "import seaborn as sns\n",
    "import matplotlib.pyplot as plt\n",
    "from math import sqrt\n",
    "from scipy import stats\n",
    "\n",
    "import warnings\n",
    "warnings.filterwarnings(\"ignore\")\n",
    "\n",
    "from statsmodels.formula.api import ols\n",
    "from sklearn.metrics import mean_squared_error, r2_score, explained_variance_score\n",
    "from sklearn.feature_selection import f_regression, SelectKBest, RFE \n",
    "from sklearn.linear_model import LinearRegression, LassoLars, TweedieRegressor\n",
    "from sklearn.preprocessing import PolynomialFeatures\n"
   ]
  },
  {
   "cell_type": "code",
   "execution_count": null,
   "metadata": {},
   "outputs": [],
   "source": []
  },
  {
   "cell_type": "code",
   "execution_count": 2,
   "metadata": {
    "scrolled": true
   },
   "outputs": [
    {
     "data": {
      "text/plain": [
       "((12216, 12), (5236, 12), (4364, 12))"
      ]
     },
     "execution_count": 2,
     "metadata": {},
     "output_type": "execute_result"
    }
   ],
   "source": [
    "path='zillow_df.csv'\n",
    "\n",
    "df, X_train_explore, \\\n",
    "    X_train_scaled, y_train, \\\n",
    "    X_validate_scaled, y_validate, \\\n",
    "    X_test_scaled, y_test = src.prepare.wrangle_zillow(path)\n",
    "\n",
    "X_train_scaled.shape, X_validate_scaled.shape, X_test_scaled.shape"
   ]
  },
  {
   "cell_type": "code",
   "execution_count": 3,
   "metadata": {},
   "outputs": [
    {
     "data": {
      "text/plain": [
       "(12216, 20)"
      ]
     },
     "execution_count": 3,
     "metadata": {},
     "output_type": "execute_result"
    }
   ],
   "source": [
    "X_train_explore.shape"
   ]
  },
  {
   "cell_type": "code",
   "execution_count": 4,
   "metadata": {},
   "outputs": [
    {
     "data": {
      "text/html": [
       "<div>\n",
       "<style scoped>\n",
       "    .dataframe tbody tr th:only-of-type {\n",
       "        vertical-align: middle;\n",
       "    }\n",
       "\n",
       "    .dataframe tbody tr th {\n",
       "        vertical-align: top;\n",
       "    }\n",
       "\n",
       "    .dataframe thead th {\n",
       "        text-align: right;\n",
       "    }\n",
       "</style>\n",
       "<table border=\"1\" class=\"dataframe\">\n",
       "  <thead>\n",
       "    <tr style=\"text-align: right;\">\n",
       "      <th></th>\n",
       "      <th>bathroomcnt</th>\n",
       "      <th>bedroomcnt</th>\n",
       "      <th>calculatedfinishedsquarefeet</th>\n",
       "      <th>fips</th>\n",
       "      <th>fireplace</th>\n",
       "      <th>garage</th>\n",
       "      <th>hottub_spa</th>\n",
       "      <th>latitude</th>\n",
       "      <th>longitude</th>\n",
       "      <th>lotsizesquarefeet</th>\n",
       "      <th>poolcnt</th>\n",
       "      <th>roomcnt</th>\n",
       "      <th>taxvaluedollarcnt</th>\n",
       "      <th>taxamount</th>\n",
       "      <th>zip</th>\n",
       "      <th>useid</th>\n",
       "      <th>year</th>\n",
       "      <th>zip_cc</th>\n",
       "      <th>useid_cc</th>\n",
       "      <th>year_cc</th>\n",
       "    </tr>\n",
       "  </thead>\n",
       "  <tbody>\n",
       "    <tr>\n",
       "      <th>4948</th>\n",
       "      <td>0.0</td>\n",
       "      <td>0.0</td>\n",
       "      <td>2676.0</td>\n",
       "      <td>6059.0</td>\n",
       "      <td>0.0</td>\n",
       "      <td>0.0</td>\n",
       "      <td>0.0</td>\n",
       "      <td>33469340.0</td>\n",
       "      <td>-117693487.0</td>\n",
       "      <td>4666.0</td>\n",
       "      <td>0.0</td>\n",
       "      <td>0.0</td>\n",
       "      <td>309966.0</td>\n",
       "      <td>3168.92</td>\n",
       "      <td>96961.0</td>\n",
       "      <td>248.0</td>\n",
       "      <td>1972.0</td>\n",
       "      <td>288</td>\n",
       "      <td>2</td>\n",
       "      <td>85</td>\n",
       "    </tr>\n",
       "    <tr>\n",
       "      <th>20888</th>\n",
       "      <td>4.0</td>\n",
       "      <td>5.0</td>\n",
       "      <td>3434.0</td>\n",
       "      <td>6059.0</td>\n",
       "      <td>0.0</td>\n",
       "      <td>2.0</td>\n",
       "      <td>1.0</td>\n",
       "      <td>33611772.0</td>\n",
       "      <td>-117849046.0</td>\n",
       "      <td>12100.0</td>\n",
       "      <td>1.0</td>\n",
       "      <td>9.0</td>\n",
       "      <td>2272777.0</td>\n",
       "      <td>24201.38</td>\n",
       "      <td>96957.0</td>\n",
       "      <td>261.0</td>\n",
       "      <td>1972.0</td>\n",
       "      <td>285</td>\n",
       "      <td>4</td>\n",
       "      <td>85</td>\n",
       "    </tr>\n",
       "    <tr>\n",
       "      <th>6222</th>\n",
       "      <td>2.0</td>\n",
       "      <td>3.0</td>\n",
       "      <td>1837.0</td>\n",
       "      <td>6037.0</td>\n",
       "      <td>0.0</td>\n",
       "      <td>0.0</td>\n",
       "      <td>0.0</td>\n",
       "      <td>34151817.0</td>\n",
       "      <td>-118404542.0</td>\n",
       "      <td>8312.0</td>\n",
       "      <td>1.0</td>\n",
       "      <td>0.0</td>\n",
       "      <td>953318.0</td>\n",
       "      <td>11535.22</td>\n",
       "      <td>96449.0</td>\n",
       "      <td>261.0</td>\n",
       "      <td>1951.0</td>\n",
       "      <td>237</td>\n",
       "      <td>4</td>\n",
       "      <td>64</td>\n",
       "    </tr>\n",
       "    <tr>\n",
       "      <th>16476</th>\n",
       "      <td>4.0</td>\n",
       "      <td>4.0</td>\n",
       "      <td>2612.0</td>\n",
       "      <td>6037.0</td>\n",
       "      <td>0.0</td>\n",
       "      <td>0.0</td>\n",
       "      <td>0.0</td>\n",
       "      <td>34482284.0</td>\n",
       "      <td>-118159143.0</td>\n",
       "      <td>110539.0</td>\n",
       "      <td>1.0</td>\n",
       "      <td>0.0</td>\n",
       "      <td>526078.0</td>\n",
       "      <td>6194.31</td>\n",
       "      <td>97298.0</td>\n",
       "      <td>261.0</td>\n",
       "      <td>1986.0</td>\n",
       "      <td>370</td>\n",
       "      <td>4</td>\n",
       "      <td>99</td>\n",
       "    </tr>\n",
       "    <tr>\n",
       "      <th>19108</th>\n",
       "      <td>2.0</td>\n",
       "      <td>3.0</td>\n",
       "      <td>1332.0</td>\n",
       "      <td>6037.0</td>\n",
       "      <td>0.0</td>\n",
       "      <td>0.0</td>\n",
       "      <td>0.0</td>\n",
       "      <td>34030260.0</td>\n",
       "      <td>-118363871.0</td>\n",
       "      <td>4798.0</td>\n",
       "      <td>0.0</td>\n",
       "      <td>0.0</td>\n",
       "      <td>193721.0</td>\n",
       "      <td>2488.42</td>\n",
       "      <td>95997.0</td>\n",
       "      <td>246.0</td>\n",
       "      <td>1966.0</td>\n",
       "      <td>14</td>\n",
       "      <td>0</td>\n",
       "      <td>79</td>\n",
       "    </tr>\n",
       "    <tr>\n",
       "      <th>...</th>\n",
       "      <td>...</td>\n",
       "      <td>...</td>\n",
       "      <td>...</td>\n",
       "      <td>...</td>\n",
       "      <td>...</td>\n",
       "      <td>...</td>\n",
       "      <td>...</td>\n",
       "      <td>...</td>\n",
       "      <td>...</td>\n",
       "      <td>...</td>\n",
       "      <td>...</td>\n",
       "      <td>...</td>\n",
       "      <td>...</td>\n",
       "      <td>...</td>\n",
       "      <td>...</td>\n",
       "      <td>...</td>\n",
       "      <td>...</td>\n",
       "      <td>...</td>\n",
       "      <td>...</td>\n",
       "      <td>...</td>\n",
       "    </tr>\n",
       "    <tr>\n",
       "      <th>12963</th>\n",
       "      <td>3.0</td>\n",
       "      <td>4.0</td>\n",
       "      <td>3204.0</td>\n",
       "      <td>6059.0</td>\n",
       "      <td>0.0</td>\n",
       "      <td>2.0</td>\n",
       "      <td>1.0</td>\n",
       "      <td>33573409.0</td>\n",
       "      <td>-117682233.0</td>\n",
       "      <td>9750.0</td>\n",
       "      <td>1.0</td>\n",
       "      <td>0.0</td>\n",
       "      <td>1024984.0</td>\n",
       "      <td>10579.94</td>\n",
       "      <td>96971.0</td>\n",
       "      <td>261.0</td>\n",
       "      <td>1989.0</td>\n",
       "      <td>296</td>\n",
       "      <td>4</td>\n",
       "      <td>102</td>\n",
       "    </tr>\n",
       "    <tr>\n",
       "      <th>8790</th>\n",
       "      <td>2.0</td>\n",
       "      <td>3.0</td>\n",
       "      <td>1774.0</td>\n",
       "      <td>6037.0</td>\n",
       "      <td>0.0</td>\n",
       "      <td>0.0</td>\n",
       "      <td>0.0</td>\n",
       "      <td>33727704.0</td>\n",
       "      <td>-118311665.0</td>\n",
       "      <td>10634.0</td>\n",
       "      <td>0.0</td>\n",
       "      <td>0.0</td>\n",
       "      <td>905025.0</td>\n",
       "      <td>11004.24</td>\n",
       "      <td>96222.0</td>\n",
       "      <td>261.0</td>\n",
       "      <td>1959.0</td>\n",
       "      <td>140</td>\n",
       "      <td>4</td>\n",
       "      <td>72</td>\n",
       "    </tr>\n",
       "    <tr>\n",
       "      <th>13792</th>\n",
       "      <td>1.0</td>\n",
       "      <td>2.0</td>\n",
       "      <td>996.0</td>\n",
       "      <td>6037.0</td>\n",
       "      <td>0.0</td>\n",
       "      <td>0.0</td>\n",
       "      <td>0.0</td>\n",
       "      <td>33992637.0</td>\n",
       "      <td>-118437879.0</td>\n",
       "      <td>5638.0</td>\n",
       "      <td>0.0</td>\n",
       "      <td>0.0</td>\n",
       "      <td>250382.0</td>\n",
       "      <td>3020.60</td>\n",
       "      <td>96047.0</td>\n",
       "      <td>261.0</td>\n",
       "      <td>1947.0</td>\n",
       "      <td>55</td>\n",
       "      <td>4</td>\n",
       "      <td>60</td>\n",
       "    </tr>\n",
       "    <tr>\n",
       "      <th>4440</th>\n",
       "      <td>3.0</td>\n",
       "      <td>4.0</td>\n",
       "      <td>3106.0</td>\n",
       "      <td>6037.0</td>\n",
       "      <td>0.0</td>\n",
       "      <td>0.0</td>\n",
       "      <td>0.0</td>\n",
       "      <td>34153402.0</td>\n",
       "      <td>-118770966.0</td>\n",
       "      <td>6039.0</td>\n",
       "      <td>1.0</td>\n",
       "      <td>0.0</td>\n",
       "      <td>407679.0</td>\n",
       "      <td>4860.18</td>\n",
       "      <td>96336.0</td>\n",
       "      <td>269.0</td>\n",
       "      <td>1986.0</td>\n",
       "      <td>186</td>\n",
       "      <td>9</td>\n",
       "      <td>99</td>\n",
       "    </tr>\n",
       "    <tr>\n",
       "      <th>15981</th>\n",
       "      <td>2.0</td>\n",
       "      <td>3.0</td>\n",
       "      <td>1650.0</td>\n",
       "      <td>6037.0</td>\n",
       "      <td>0.0</td>\n",
       "      <td>0.0</td>\n",
       "      <td>0.0</td>\n",
       "      <td>33972195.0</td>\n",
       "      <td>-118193402.0</td>\n",
       "      <td>6863.0</td>\n",
       "      <td>0.0</td>\n",
       "      <td>0.0</td>\n",
       "      <td>260648.0</td>\n",
       "      <td>4401.48</td>\n",
       "      <td>96083.0</td>\n",
       "      <td>261.0</td>\n",
       "      <td>1928.0</td>\n",
       "      <td>61</td>\n",
       "      <td>4</td>\n",
       "      <td>41</td>\n",
       "    </tr>\n",
       "  </tbody>\n",
       "</table>\n",
       "<p>12216 rows × 20 columns</p>\n",
       "</div>"
      ],
      "text/plain": [
       "       bathroomcnt  bedroomcnt  calculatedfinishedsquarefeet    fips  \\\n",
       "4948           0.0         0.0                        2676.0  6059.0   \n",
       "20888          4.0         5.0                        3434.0  6059.0   \n",
       "6222           2.0         3.0                        1837.0  6037.0   \n",
       "16476          4.0         4.0                        2612.0  6037.0   \n",
       "19108          2.0         3.0                        1332.0  6037.0   \n",
       "...            ...         ...                           ...     ...   \n",
       "12963          3.0         4.0                        3204.0  6059.0   \n",
       "8790           2.0         3.0                        1774.0  6037.0   \n",
       "13792          1.0         2.0                         996.0  6037.0   \n",
       "4440           3.0         4.0                        3106.0  6037.0   \n",
       "15981          2.0         3.0                        1650.0  6037.0   \n",
       "\n",
       "       fireplace  garage  hottub_spa    latitude    longitude  \\\n",
       "4948         0.0     0.0         0.0  33469340.0 -117693487.0   \n",
       "20888        0.0     2.0         1.0  33611772.0 -117849046.0   \n",
       "6222         0.0     0.0         0.0  34151817.0 -118404542.0   \n",
       "16476        0.0     0.0         0.0  34482284.0 -118159143.0   \n",
       "19108        0.0     0.0         0.0  34030260.0 -118363871.0   \n",
       "...          ...     ...         ...         ...          ...   \n",
       "12963        0.0     2.0         1.0  33573409.0 -117682233.0   \n",
       "8790         0.0     0.0         0.0  33727704.0 -118311665.0   \n",
       "13792        0.0     0.0         0.0  33992637.0 -118437879.0   \n",
       "4440         0.0     0.0         0.0  34153402.0 -118770966.0   \n",
       "15981        0.0     0.0         0.0  33972195.0 -118193402.0   \n",
       "\n",
       "       lotsizesquarefeet  poolcnt  roomcnt  taxvaluedollarcnt  taxamount  \\\n",
       "4948              4666.0      0.0      0.0           309966.0    3168.92   \n",
       "20888            12100.0      1.0      9.0          2272777.0   24201.38   \n",
       "6222              8312.0      1.0      0.0           953318.0   11535.22   \n",
       "16476           110539.0      1.0      0.0           526078.0    6194.31   \n",
       "19108             4798.0      0.0      0.0           193721.0    2488.42   \n",
       "...                  ...      ...      ...                ...        ...   \n",
       "12963             9750.0      1.0      0.0          1024984.0   10579.94   \n",
       "8790             10634.0      0.0      0.0           905025.0   11004.24   \n",
       "13792             5638.0      0.0      0.0           250382.0    3020.60   \n",
       "4440              6039.0      1.0      0.0           407679.0    4860.18   \n",
       "15981             6863.0      0.0      0.0           260648.0    4401.48   \n",
       "\n",
       "           zip  useid    year  zip_cc  useid_cc  year_cc  \n",
       "4948   96961.0  248.0  1972.0     288         2       85  \n",
       "20888  96957.0  261.0  1972.0     285         4       85  \n",
       "6222   96449.0  261.0  1951.0     237         4       64  \n",
       "16476  97298.0  261.0  1986.0     370         4       99  \n",
       "19108  95997.0  246.0  1966.0      14         0       79  \n",
       "...        ...    ...     ...     ...       ...      ...  \n",
       "12963  96971.0  261.0  1989.0     296         4      102  \n",
       "8790   96222.0  261.0  1959.0     140         4       72  \n",
       "13792  96047.0  261.0  1947.0      55         4       60  \n",
       "4440   96336.0  269.0  1986.0     186         9       99  \n",
       "15981  96083.0  261.0  1928.0      61         4       41  \n",
       "\n",
       "[12216 rows x 20 columns]"
      ]
     },
     "execution_count": 4,
     "metadata": {},
     "output_type": "execute_result"
    }
   ],
   "source": [
    "X_train_explore"
   ]
  },
  {
   "cell_type": "code",
   "execution_count": 5,
   "metadata": {},
   "outputs": [
    {
     "data": {
      "text/plain": [
       "Index(['bathroomcnt', 'bedroomcnt', 'calculatedfinishedsquarefeet',\n",
       "       'fireplace', 'garage', 'hottub_spa', 'lotsizesquarefeet', 'poolcnt',\n",
       "       'roomcnt', 'zip_cc', 'useid_cc', 'year_cc'],\n",
       "      dtype='object')"
      ]
     },
     "execution_count": 5,
     "metadata": {},
     "output_type": "execute_result"
    }
   ],
   "source": [
    "X_train_scaled.columns"
   ]
  },
  {
   "cell_type": "code",
   "execution_count": null,
   "metadata": {},
   "outputs": [],
   "source": []
  },
  {
   "cell_type": "code",
   "execution_count": 6,
   "metadata": {},
   "outputs": [],
   "source": [
    "import pandas as pd\n",
    "import numpy as np\n",
    "import seaborn as sns\n",
    "import matplotlib.pyplot as plt\n",
    "from math import sqrt\n",
    "from scipy import stats\n",
    "\n",
    "import warnings\n",
    "warnings.filterwarnings(\"ignore\")"
   ]
  },
  {
   "cell_type": "markdown",
   "metadata": {},
   "source": [
    "<div class=\"alert alert-block alert-success\"></div>"
   ]
  },
  {
   "cell_type": "code",
   "execution_count": null,
   "metadata": {},
   "outputs": [],
   "source": []
  },
  {
   "cell_type": "markdown",
   "metadata": {},
   "source": [
    "# Explore\n",
    "\n",
    "MVP- 3 Features\n",
    "1. calculatedfinishedsquarefeet\n",
    "2. bedroomcnt\n",
    "3. bathroomcnt\n",
    "\n",
    "Target = taxvaluedollarcnt"
   ]
  },
  {
   "cell_type": "code",
   "execution_count": 7,
   "metadata": {},
   "outputs": [
    {
     "data": {
      "image/png": "[encoded data removed]",
      "text/plain": [
       "<Figure size 432x432 with 3 Axes>"
      ]
     },
     "metadata": {
      "needs_background": "light"
     },
     "output_type": "display_data"
    }
   ],
   "source": [
    "# Visualize relationship between square feet and tax value (Continuous and Continuous)\n",
    "sns.jointplot(x='calculatedfinishedsquarefeet',y='taxvaluedollarcnt', data=X_train_explore)\n",
    "plt.show()"
   ]
  },
  {
   "cell_type": "code",
   "execution_count": 8,
   "metadata": {},
   "outputs": [
    {
     "data": {
      "image/png": "[encoded data removed]",
      "text/plain": [
       "<Figure size 432x288 with 1 Axes>"
      ]
     },
     "metadata": {
      "needs_background": "light"
     },
     "output_type": "display_data"
    }
   ],
   "source": [
    "# Visualize relationship between bedroom count and tax value (Continuous and Categorical)\n",
    "X_train_explore['bedroom_bin'] = pd.cut(X_train_explore.bedroomcnt, bins=[0, 4, 8, 12], labels=['4', '8', '12'])\n",
    "sns.boxplot(data=X_train_explore, y='taxvaluedollarcnt', x='bedroom_bin')\n",
    "plt.show()"
   ]
  },
  {
   "cell_type": "code",
   "execution_count": 9,
   "metadata": {},
   "outputs": [
    {
     "data": {
      "image/png": "[encoded data removed]",
      "text/plain": [
       "<Figure size 432x288 with 1 Axes>"
      ]
     },
     "metadata": {
      "needs_background": "light"
     },
     "output_type": "display_data"
    }
   ],
   "source": [
    "# Visualize relationship between bathroom count and tax value (Continuous and Categorical)\n",
    "X_train_explore['bathroom_bin'] = pd.cut(X_train_explore.bathroomcnt, bins=[0, 3, 6, 9], labels=['3', '6', '9'])\n",
    "sns.boxplot(data=X_train_explore, y='taxvaluedollarcnt', x='bathroom_bin')\n",
    "plt.show()"
   ]
  },
  {
   "cell_type": "code",
   "execution_count": 10,
   "metadata": {},
   "outputs": [
    {
     "data": {
      "image/png": "[encoded data removed]",
      "text/plain": [
       "<Figure size 432x288 with 1 Axes>"
      ]
     },
     "metadata": {
      "needs_background": "light"
     },
     "output_type": "display_data"
    }
   ],
   "source": [
    "# Histogram of Bedrooms (Continuous and Categorical)\n",
    "\n",
    "X_train_explore.bedroom_bin.value_counts().sort_index().plot.bar()\n",
    "plt.title('# of Bedrooms')\n",
    "plt.ylabel('Tax Value ($)')\n",
    "plt.xticks(rotation=0)\n",
    "plt.show()"
   ]
  },
  {
   "cell_type": "code",
   "execution_count": 11,
   "metadata": {},
   "outputs": [
    {
     "data": {
      "image/png": "[encoded data removed]",
      "text/plain": [
       "<Figure size 432x288 with 1 Axes>"
      ]
     },
     "metadata": {
      "needs_background": "light"
     },
     "output_type": "display_data"
    }
   ],
   "source": [
    "# Histogram of Bedrooms (Continuous and Categorical)\n",
    "X_train_explore.bathroom_bin.value_counts().sort_index().plot.bar()\n",
    "plt.title('# of Bathrooms')\n",
    "plt.ylabel('Tax Value ($)')\n",
    "plt.xticks(rotation=0)\n",
    "plt.show()"
   ]
  },
  {
   "cell_type": "code",
   "execution_count": 12,
   "metadata": {},
   "outputs": [
    {
     "data": {
      "text/plain": [
       "<matplotlib.axes._subplots.AxesSubplot at 0x7ff59b7d5460>"
      ]
     },
     "execution_count": 12,
     "metadata": {},
     "output_type": "execute_result"
    },
    {
     "data": {
      "image/png": "[encoded data removed]",
      "text/plain": [
       "<Figure size 432x288 with 2 Axes>"
      ]
     },
     "metadata": {
      "needs_background": "light"
     },
     "output_type": "display_data"
    }
   ],
   "source": [
    "# Heatmap of bined values (Categorical and Categorical)\n",
    "ctab = pd.crosstab(X_train_explore.bathroom_bin, X_train_explore.bedroom_bin, normalize=True)\n",
    "sns.heatmap(ctab, cmap='Purples', annot=True, fmt='.1%')"
   ]
  },
  {
   "cell_type": "markdown",
   "metadata": {},
   "source": [
    "#### Takeaway:\n",
    "\n",
    "1. The only feature that appears to correlate wth the target in a linear fashion is calculatedfinishedsqure feet\n",
    "2. Most housese have 3 or less bathrooms\n",
    "3. Most houses have 3 or less bedrooms\n",
    "4. High degree of correlation between bedrooms and bathrooms (in lower range of values), relationship to explore"
   ]
  },
  {
   "cell_type": "markdown",
   "metadata": {},
   "source": [
    "## Evaluate Linear Features"
   ]
  },
  {
   "cell_type": "code",
   "execution_count": 13,
   "metadata": {},
   "outputs": [],
   "source": [
    "# This is the code for the Linear Model\n",
    "from statsmodels.formula.api import ols\n",
    "\n",
    "from scipy import stats\n",
    "from sklearn.metrics import mean_squared_error, r2_score, explained_variance_score\n",
    "from sklearn.linear_model import LinearRegression\n",
    "from sklearn.feature_selection import f_regression, SelectKBest, RFE "
   ]
  },
  {
   "cell_type": "code",
   "execution_count": 14,
   "metadata": {},
   "outputs": [
    {
     "name": "stdout",
     "output_type": "stream",
     "text": [
      "Our model beats the baseline\n",
      "It makes sense to evaluate this model more deeply.\n",
      "Baseline SSE 5305276391009041.0\n",
      "Model SSE 3462582594573496.0\n",
      "SSE is 3462582594573496.0  which is the sum sf squared errors\n",
      "MSE is 283446512325.9247  which is the average squared error\n",
      "RMSE is 532396.9499592618  which is the square root of the MSE\n",
      "R-squared =  0.347\n",
      "p-value for model significance =  0.0\n",
      "Reject Null: The model bulit on indipendent variables explains the relationship, validates $r^2$\n"
     ]
    },
    {
     "data": {
      "image/png": "[encoded data removed]",
      "text/plain": [
       "<Figure size 432x288 with 1 Axes>"
      ]
     },
     "metadata": {
      "needs_background": "light"
     },
     "output_type": "display_data"
    }
   ],
   "source": [
    "# Evaluate squre feet\n",
    "src.model.eval_linear_feature(ols('taxvaluedollarcnt ~ calculatedfinishedsquarefeet', X_train_explore).fit(), X_train_explore.taxvaluedollarcnt, X_train_explore.calculatedfinishedsquarefeet)"
   ]
  },
  {
   "cell_type": "code",
   "execution_count": 15,
   "metadata": {},
   "outputs": [
    {
     "name": "stdout",
     "output_type": "stream",
     "text": [
      "Our model beats the baseline\n",
      "It makes sense to evaluate this model more deeply.\n",
      "Baseline SSE 5305276391009041.0\n",
      "Model SSE 4963878034789110.0\n",
      "SSE is 4963878034789110.0  which is the sum sf squared errors\n",
      "MSE is 406342340765.3168  which is the average squared error\n",
      "RMSE is 637449.8731393056  which is the square root of the MSE\n",
      "R-squared =  0.064\n",
      "p-value for model significance =  1.0998577971646184e-178\n",
      "Reject Null: The model bulit on indipendent variables explains the relationship, validates $r^2$\n"
     ]
    },
    {
     "data": {
      "image/png": "[encoded data removed]",
      "text/plain": [
       "<Figure size 432x288 with 1 Axes>"
      ]
     },
     "metadata": {
      "needs_background": "light"
     },
     "output_type": "display_data"
    }
   ],
   "source": [
    "# Evaluate bedroom count\n",
    "src.model.eval_linear_feature(ols('taxvaluedollarcnt ~ bedroomcnt', X_train_explore).fit(), X_train_explore.taxvaluedollarcnt, X_train_explore.bedroomcnt)"
   ]
  },
  {
   "cell_type": "code",
   "execution_count": 16,
   "metadata": {},
   "outputs": [
    {
     "name": "stdout",
     "output_type": "stream",
     "text": [
      "Our model beats the baseline\n",
      "It makes sense to evaluate this model more deeply.\n",
      "Baseline SSE 5305276391009041.0\n",
      "Model SSE 4136701538742535.0\n",
      "SSE is 4136701538742535.0  which is the sum sf squared errors\n",
      "MSE is 338629791973.03  which is the average squared error\n",
      "RMSE is 581919.0596406256  which is the square root of the MSE\n",
      "R-squared =  0.22\n",
      "p-value for model significance =  0.0\n",
      "Reject Null: The model bulit on indipendent variables explains the relationship, validates $r^2$\n"
     ]
    },
    {
     "data": {
      "image/png": "[encoded data removed]",
      "text/plain": [
       "<Figure size 432x288 with 1 Axes>"
      ]
     },
     "metadata": {
      "needs_background": "light"
     },
     "output_type": "display_data"
    }
   ],
   "source": [
    "# Evaluate bathroom count\n",
    "\n",
    "src.model.eval_linear_feature(ols('taxvaluedollarcnt ~ bathroomcnt', X_train_explore).fit(), X_train_explore.taxvaluedollarcnt, X_train_explore.bathroomcnt)"
   ]
  },
  {
   "cell_type": "markdown",
   "metadata": {},
   "source": [
    "### Takaway:\n",
    "\n",
    "- All 3 Variables pass F-test and are significant to use in our modeling"
   ]
  },
  {
   "cell_type": "markdown",
   "metadata": {},
   "source": [
    "***\n",
    "\n",
    "## Hypothesis Testing\n",
    "\n",
    "***"
   ]
  },
  {
   "cell_type": "markdown",
   "metadata": {},
   "source": [
    "#### Chi Squared Test For Independence:\n",
    "\n",
    "**Hypothesis: There is a relationship between # of bedrooms and # of bathrooms that would make them a good canidate for future feature engeneering.**\n",
    "\n",
    "Null Hypothesis: $H_{0}$: Number of Bedrooms and Number of Bathrooms are independent\n",
    "\n",
    "Alternative Hypothesis: $H_{a}$: Number of Bedrooms and Number of Bathrooms are dependent\n"
   ]
  },
  {
   "cell_type": "code",
   "execution_count": 17,
   "metadata": {},
   "outputs": [
    {
     "name": "stdout",
     "output_type": "stream",
     "text": [
      "We reject the null hypothesis\n",
      "chi^2 = 16327.1250\n",
      "p     = 0.0000\n"
     ]
    }
   ],
   "source": [
    "# Hypothesis Test\n",
    "\n",
    "alpha = 0.05\n",
    "contingency_table = pd.crosstab(X_train_explore.bedroomcnt, X_train_explore.bathroomcnt)\n",
    "\n",
    "chi2, p, degf, expected = stats.chi2_contingency(contingency_table)\n",
    "\n",
    "if p < alpha:\n",
    "    print(\"We reject the null hypothesis\")\n",
    "    print(f'chi^2 = {chi2:.4f}')\n",
    "    print(f'p     = {p:.4f}')\n",
    "else:\n",
    "    print(\"We fail to reject the null hypothesis\")"
   ]
  },
  {
   "cell_type": "markdown",
   "metadata": {},
   "source": [
    "#### Takeaway:\n",
    "\n",
    "- Num. of bathrooms and Num. of bedrooms are related, and most likely would make an effective combined feature"
   ]
  },
  {
   "cell_type": "markdown",
   "metadata": {},
   "source": [
    "<div class=\"alert alert-block alert-success\"></div>"
   ]
  },
  {
   "cell_type": "markdown",
   "metadata": {},
   "source": [
    "# Modeling\n",
    "\n",
    "Creating 4 Models to run on train dataset\n",
    "1. Linear Regression\n",
    "2. LassoLars\n",
    "3. Polynomial Features\n",
    "4. TweedieRegressor"
   ]
  },
  {
   "cell_type": "code",
   "execution_count": 18,
   "metadata": {},
   "outputs": [],
   "source": [
    "# Models\n",
    "from sklearn.linear_model import LinearRegression, LassoLars, TweedieRegressor\n",
    "from sklearn.preprocessing import PolynomialFeatures\n",
    "\n",
    "import warnings\n",
    "warnings.filterwarnings(\"ignore\")"
   ]
  },
  {
   "cell_type": "markdown",
   "metadata": {},
   "source": [
    "### Create a Baseline"
   ]
  },
  {
   "cell_type": "code",
   "execution_count": 19,
   "metadata": {},
   "outputs": [
    {
     "data": {
      "text/plain": [
       "(12216, 1)"
      ]
     },
     "execution_count": 19,
     "metadata": {},
     "output_type": "execute_result"
    }
   ],
   "source": [
    "# Mean Value\n",
    "np.mean(y_train)\n",
    "y_train.shape"
   ]
  },
  {
   "cell_type": "code",
   "execution_count": 20,
   "metadata": {},
   "outputs": [
    {
     "data": {
      "text/plain": [
       "659006.1919428958"
      ]
     },
     "execution_count": 20,
     "metadata": {},
     "output_type": "execute_result"
    }
   ],
   "source": [
    "# encode as variable\n",
    "# np.full modiefies shape turns value in to a full series object\n",
    "baseline_rmse = mean_squared_error(y_train, np.full(12216, np.mean(y_train)))**(1/2)\n",
    "baseline_rmse  # Model Error To Beat $659,000"
   ]
  },
  {
   "cell_type": "markdown",
   "metadata": {},
   "source": [
    "### Specify Variables for Modeling"
   ]
  },
  {
   "cell_type": "code",
   "execution_count": 6,
   "metadata": {},
   "outputs": [
    {
     "data": {
      "text/plain": [
       "Index(['bathroomcnt', 'bedroomcnt', 'calculatedfinishedsquarefeet',\n",
       "       'fireplace', 'garage', 'hottub_spa', 'lotsizesquarefeet', 'poolcnt',\n",
       "       'roomcnt', 'zip_cc', 'useid_cc', 'year_cc'],\n",
       "      dtype='object')"
      ]
     },
     "execution_count": 6,
     "metadata": {},
     "output_type": "execute_result"
    }
   ],
   "source": [
    "X_train_scaled.columns\n"
   ]
  },
  {
   "cell_type": "code",
   "execution_count": 21,
   "metadata": {},
   "outputs": [],
   "source": [
    "# Only use bedroomcnt, bathroomcnt, and calculatedfinishedsquarefeet\n",
    "# x df's are all numeric cols except tip\n",
    "X_train_scaled = X_train_scaled.drop(columns=['fireplace', 'garage', 'hottub_spa', 'lotsizesquarefeet', 'poolcnt',\n",
    "       'roomcnt', 'zip_cc', 'useid_cc', 'year_cc'])\n",
    "X_validate_scaled = X_validate_scaled.drop(columns=['fireplace', 'garage', 'hottub_spa', 'lotsizesquarefeet', 'poolcnt',\n",
    "       'roomcnt', 'zip_cc', 'useid_cc', 'year_cc'])\n",
    "X_test_scaled = X_test_scaled.drop(columns=['fireplace', 'garage', 'hottub_spa', 'lotsizesquarefeet', 'poolcnt',\n",
    "       'roomcnt', 'zip_cc', 'useid_cc', 'year_cc'])"
   ]
  },
  {
   "cell_type": "code",
   "execution_count": 22,
   "metadata": {},
   "outputs": [
    {
     "data": {
      "text/plain": [
       "Index(['bathroomcnt', 'bedroomcnt', 'calculatedfinishedsquarefeet'], dtype='object')"
      ]
     },
     "execution_count": 22,
     "metadata": {},
     "output_type": "execute_result"
    }
   ],
   "source": [
    "X_train_scaled.columns"
   ]
  },
  {
   "cell_type": "markdown",
   "metadata": {},
   "source": [
    "***\n",
    "\n",
    "# Train\n",
    "\n",
    "***"
   ]
  },
  {
   "cell_type": "markdown",
   "metadata": {},
   "source": [
    "### Linear Regression"
   ]
  },
  {
   "cell_type": "code",
   "execution_count": 23,
   "metadata": {},
   "outputs": [
    {
     "data": {
      "text/plain": [
       "520634.5005526053"
      ]
     },
     "execution_count": 23,
     "metadata": {},
     "output_type": "execute_result"
    }
   ],
   "source": [
    "# Make Model\n",
    "lm = LinearRegression(normalize=True)\n",
    "# Fit Model\n",
    "lm.fit(X_train_scaled, y_train)\n",
    "# Make Predictions\n",
    "lm_pred = lm.predict(X_train_scaled)\n",
    "# Compute root mean squared error\n",
    "lm_rmse = mean_squared_error(y_train, lm_pred)**(1/2)\n",
    "lm_rmse"
   ]
  },
  {
   "cell_type": "markdown",
   "metadata": {},
   "source": [
    "### LassoLars"
   ]
  },
  {
   "cell_type": "code",
   "execution_count": 24,
   "metadata": {},
   "outputs": [
    {
     "data": {
      "text/plain": [
       "520634.57558119384"
      ]
     },
     "execution_count": 24,
     "metadata": {},
     "output_type": "execute_result"
    }
   ],
   "source": [
    "# Make a model\n",
    "lars = LassoLars(alpha=1)\n",
    "# Fit a model\n",
    "lars.fit(X_train_scaled, y_train)\n",
    "# Make Predictions\n",
    "lars_pred = lars.predict(X_train_scaled)\n",
    "# Computer root mean squared error\n",
    "lars_rmse = mean_squared_error(y_train, lars_pred)**(1/2)\n",
    "lars_rmse"
   ]
  },
  {
   "cell_type": "markdown",
   "metadata": {},
   "source": [
    "### Ploynomial Features"
   ]
  },
  {
   "cell_type": "code",
   "execution_count": 43,
   "metadata": {},
   "outputs": [
    {
     "data": {
      "text/plain": [
       "503340.82626955677"
      ]
     },
     "execution_count": 43,
     "metadata": {},
     "output_type": "execute_result"
    }
   ],
   "source": [
    "# Make a model\n",
    "pf = PolynomialFeatures(degree=2)\n",
    "\n",
    "# Fit and Transform model\n",
    "# to get a new set of features..which are the original features sqauared\n",
    "X_train_squared = pf.fit_transform(X_train_scaled)\n",
    "X_validate_squared = pf.transform(X_validate_scaled)\n",
    "X_test_squared = pf.transform(X_test_scaled)\n",
    "\n",
    "# Feed new features in to linear model. \n",
    "lm_squared = LinearRegression()\n",
    "lm_squared.fit(X_train_squared, y_train)\n",
    "# Make predictions\n",
    "lm_squared_pred = lm_squared.predict(X_train_squared)\n",
    "# Compute root mean squared error\n",
    "lm_squared_rmse = mean_squared_error(y_train, lm_squared_pred)**(1/2)\n",
    "lm_squared_rmse"
   ]
  },
  {
   "cell_type": "markdown",
   "metadata": {},
   "source": [
    "### Tweedie Regressor"
   ]
  },
  {
   "cell_type": "code",
   "execution_count": 26,
   "metadata": {},
   "outputs": [
    {
     "data": {
      "text/plain": [
       "635035.2731805356"
      ]
     },
     "execution_count": 26,
     "metadata": {},
     "output_type": "execute_result"
    }
   ],
   "source": [
    "# Make Model\n",
    "tw = TweedieRegressor(power=0, alpha=0.1) # 0 = normal distribution\n",
    "# Fit Model\n",
    "tw.fit(X_train_scaled, y_train)\n",
    "# Make Predictions\n",
    "tw_pred = tw.predict(X_train_scaled)\n",
    "# Compute root mean squared error\n",
    "tw_rmse = mean_squared_error(y_train, tw_pred)**(1/2)\n",
    "tw_rmse"
   ]
  },
  {
   "cell_type": "markdown",
   "metadata": {},
   "source": [
    "***\n",
    "\n",
    "### Takeaway:\n",
    "- Top 3 preforming models are Linear, LassoLars, and Polynomial\n",
    "- These modes will move on to Validate\n",
    "\n",
    "***"
   ]
  },
  {
   "cell_type": "markdown",
   "metadata": {},
   "source": [
    "# Validate"
   ]
  },
  {
   "cell_type": "markdown",
   "metadata": {},
   "source": [
    "### Linear Regression"
   ]
  },
  {
   "cell_type": "code",
   "execution_count": 27,
   "metadata": {},
   "outputs": [
    {
     "data": {
      "text/plain": [
       "486307.6079205688"
      ]
     },
     "execution_count": 27,
     "metadata": {},
     "output_type": "execute_result"
    }
   ],
   "source": [
    "# Make Predictions\n",
    "lm_pred_v = lm.predict(X_validate_scaled)\n",
    "# Compute root mean squared error\n",
    "lm_rmse_v = mean_squared_error(y_validate, lm_pred_v)**(1/2)\n",
    "lm_rmse_v"
   ]
  },
  {
   "cell_type": "markdown",
   "metadata": {},
   "source": [
    "### LassoLars"
   ]
  },
  {
   "cell_type": "code",
   "execution_count": 28,
   "metadata": {},
   "outputs": [
    {
     "data": {
      "text/plain": [
       "486303.12943566113"
      ]
     },
     "execution_count": 28,
     "metadata": {},
     "output_type": "execute_result"
    }
   ],
   "source": [
    "# Make predictions\n",
    "lars_pred_v = lars.predict(X_validate_scaled)\n",
    "# Compute root mean squared error\n",
    "lars_rmse_v = mean_squared_error(y_validate, lars_pred_v)**(1/2)\n",
    "lars_rmse_v"
   ]
  },
  {
   "cell_type": "markdown",
   "metadata": {},
   "source": [
    "### Ploynomial Features"
   ]
  },
  {
   "cell_type": "code",
   "execution_count": 49,
   "metadata": {},
   "outputs": [
    {
     "data": {
      "text/plain": [
       "466010.993109916"
      ]
     },
     "execution_count": 49,
     "metadata": {},
     "output_type": "execute_result"
    }
   ],
   "source": [
    "# Feed new features in to linear model. \n",
    "lm_squared = LinearRegression()\n",
    "lm_squared.fit(X_validate_squared, y_validate)\n",
    "# Make predictions\n",
    "lm_squared_pred = lm_squared.predict(X_validate_squared)\n",
    "# Compute root mean squared error\n",
    "lm_squared_rmse = mean_squared_error(y_validate, lm_squared_pred)**(1/2)\n",
    "lm_squared_rmse_v"
   ]
  },
  {
   "cell_type": "markdown",
   "metadata": {},
   "source": [
    "***\n",
    "\n",
    "### Takeaway:\n",
    "- On unseen data Linear and  LassoLars preformed the test, error decreases indicates no overfitting\n",
    "- Polynomial model error skyrocketed, indicates overfitt\n",
    "- Evaluate LassoLars on Test\n",
    "\n",
    "***"
   ]
  },
  {
   "cell_type": "markdown",
   "metadata": {},
   "source": [
    "# Test"
   ]
  },
  {
   "cell_type": "markdown",
   "metadata": {},
   "source": [
    "### LassoLars"
   ]
  },
  {
   "cell_type": "code",
   "execution_count": 30,
   "metadata": {},
   "outputs": [
    {
     "data": {
      "text/plain": [
       "496243.1254316465"
      ]
     },
     "execution_count": 30,
     "metadata": {},
     "output_type": "execute_result"
    }
   ],
   "source": [
    "# Make Predictions (On best Model)\n",
    "lars_pred_test = lars.predict(X_test_scaled)\n",
    "# Compute root mean squared error\n",
    "lars_rmse_test = mean_squared_error(y_test, lars_pred_test)**(1/2)\n",
    "lars_rmse_test"
   ]
  },
  {
   "cell_type": "markdown",
   "metadata": {},
   "source": [
    "### Ploynomial Features"
   ]
  },
  {
   "cell_type": "code",
   "execution_count": 50,
   "metadata": {},
   "outputs": [
    {
     "data": {
      "text/plain": [
       "469438.1656676475"
      ]
     },
     "execution_count": 50,
     "metadata": {},
     "output_type": "execute_result"
    }
   ],
   "source": [
    "# Feed new features in to linear model. \n",
    "lm_squared = LinearRegression()\n",
    "lm_squared.fit(X_test_squared, y_test)\n",
    "# Make predictions\n",
    "lm_squared_pred = lm_squared.predict(X_test_squared)\n",
    "# Compute root mean squared error\n",
    "lm_squared_rmse_t = mean_squared_error(y_test, lm_squared_pred)**(1/2)\n",
    "lm_squared_rmse_t"
   ]
  },
  {
   "cell_type": "markdown",
   "metadata": {},
   "source": [
    "#### Average Model Error (Validate + Test) / 2"
   ]
  },
  {
   "cell_type": "code",
   "execution_count": 31,
   "metadata": {},
   "outputs": [
    {
     "name": "stdout",
     "output_type": "stream",
     "text": [
      "The average error for our model is $491273.127\n"
     ]
    }
   ],
   "source": [
    "# Avg. Error = (Validate Error + Test Error) /2 - Average preformance of model works on unseen data\n",
    "model_error = round((lars_rmse_v + lars_rmse_test) / 2 , 3)\n",
    "print(f'The average error for our model is ${model_error}')"
   ]
  },
  {
   "cell_type": "code",
   "execution_count": 51,
   "metadata": {},
   "outputs": [
    {
     "name": "stdout",
     "output_type": "stream",
     "text": [
      "The average error for our model is $467724.579\n"
     ]
    }
   ],
   "source": [
    "# Avg. Error = (Validate Error + Test Error) /2 - Average preformance of model works on unseen data\n",
    "model_error = round((lm_squared_rmse_v + lm_squared_rmse_t) / 2 , 3)\n",
    "print(f'The average error for our model is ${model_error}')"
   ]
  },
  {
   "cell_type": "code",
   "execution_count": 32,
   "metadata": {},
   "outputs": [
    {
     "name": "stdout",
     "output_type": "stream",
     "text": [
      "The % improvement for our model is %24.698\n"
     ]
    }
   ],
   "source": [
    "# Calcuating % improvement\n",
    "# First: work out the difference (increase) between the two numbers you are comparing\n",
    "difference = (baseline_rmse - lars_rmse_test)\n",
    "# Then: divide the increase by the original number and multiply the answer by 100\n",
    "percent_improve = round((difference / baseline_rmse) * 100, 3)\n",
    "print(f'The % improvement for our model is %{percent_improve}')"
   ]
  },
  {
   "cell_type": "markdown",
   "metadata": {},
   "source": [
    "***\n",
    "\n",
    "### Takeaway:\n",
    "- LassoLars is the model that best predicts tax assessed value\n",
    "- This model produces an average error of $484,311.61 \n",
    "- This represents a 26% improvement over baseline\n",
    "\n",
    "***"
   ]
  },
  {
   "cell_type": "markdown",
   "metadata": {},
   "source": [
    "<div class=\"alert alert-block alert-success\"></div>"
   ]
  },
  {
   "cell_type": "markdown",
   "metadata": {},
   "source": [
    "# Conclusion"
   ]
  },
  {
   "cell_type": "markdown",
   "metadata": {},
   "source": [
    "### Summary:\n",
    "\n",
    "\n",
    "1. Constructed model to predict single unit property tax assessment value\n",
    "  - Explored 3 variables for modeling (bedroomcnt, bathroomcnt, and calculatedfinishedsquarefeet)\n",
    "  - Variables passed F-Test with p-value < 0.05, indicating 95% certainty the indipendent variables explains the relationship (r-value)\n",
    "  - Chi Squared Test for Independence was preformed on bedroomcnt and bathroomcnt\n",
    "    - Rejected Null, variables are not independent and may be usefull in feature engineering\n",
    "    \n",
    "    \n",
    "2. Model was able to predict home values within an error of $484,301.60\n",
    "  - This represents a **26% improvement over baseline**"
   ]
  },
  {
   "cell_type": "markdown",
   "metadata": {},
   "source": [
    "### Recommendations\n",
    "\n",
    "1. New features for Model: \n",
    "\n",
    "   - bedroomcnt, bathroomcnt, and calculatedfinishedsquarefeet all pass F-test with p-value < 0.05, however they are not all great features for developing linear models\n",
    "\n",
    "   - r-squared values for features ranged between 0.35 (calculatedfinishedsquarefeet) and 0.06 (bedroomcnt), indicating that different features from the dataset might have greater linear correlations and help to build a better model.\n",
    "\n",
    "   - using a heatmap we were able to identify a high degree of correlation between bedroomcnt and bathroom cnt that was confirmed by our Chi Squared Test of Independence.  Combining these two featues in to a single feature might improve models predictive ability.  "
   ]
  },
  {
   "cell_type": "markdown",
   "metadata": {},
   "source": [
    "<div class=\"alert alert-block alert-success\"></div>"
   ]
  },
  {
   "cell_type": "markdown",
   "metadata": {},
   "source": [
    "# Round 2 - Iterations on Model"
   ]
  },
  {
   "cell_type": "code",
   "execution_count": 33,
   "metadata": {},
   "outputs": [
    {
     "data": {
      "text/plain": [
       "bathroomcnt                     0.469326\n",
       "bedroomcnt                      0.253674\n",
       "calculatedfinishedsquarefeet    0.589349\n",
       "fips                           -0.001361\n",
       "fireplace                       0.043943\n",
       "garage                          0.094503\n",
       "hottub_spa                      0.161438\n",
       "latitude                       -0.114307\n",
       "longitude                      -0.019203\n",
       "lotsizesquarefeet              -0.014053\n",
       "poolcnt                         0.168562\n",
       "roomcnt                         0.000719\n",
       "taxvaluedollarcnt               1.000000\n",
       "taxamount                       0.989916\n",
       "zip_cc                         -0.097189\n",
       "useid_cc                       -0.073533\n",
       "year_cc                         0.114001\n",
       "Name: taxvaluedollarcnt, dtype: float64"
      ]
     },
     "execution_count": 33,
     "metadata": {},
     "output_type": "execute_result"
    }
   ],
   "source": [
    "# Just looking for correlations (.iloc[-5] is location of target)\n",
    "\n",
    "X_train_explore.corr().iloc[-5]"
   ]
  },
  {
   "cell_type": "markdown",
   "metadata": {},
   "source": [
    "#### Takaway:\n",
    "- Variables with greatest correlation to target\n",
    "  - bathroomcnt\n",
    "  - calculatedfinishedsquarefeet\n",
    "  - hottub_spa\n",
    "  - poolcnt\n",
    "  - year_cc"
   ]
  },
  {
   "cell_type": "markdown",
   "metadata": {},
   "source": [
    "### Evaluate Linear Features (does correlation pass F-Test?)"
   ]
  },
  {
   "cell_type": "code",
   "execution_count": 34,
   "metadata": {},
   "outputs": [
    {
     "name": "stdout",
     "output_type": "stream",
     "text": [
      "Our model beats the baseline\n",
      "It makes sense to evaluate this model more deeply.\n",
      "Baseline SSE 5305276391009041.0\n",
      "Model SSE 4136701538742535.0\n",
      "SSE is 4136701538742535.0  which is the sum sf squared errors\n",
      "MSE is 338629791973.03  which is the average squared error\n",
      "RMSE is 581919.0596406256  which is the square root of the MSE\n",
      "R-squared =  0.22\n",
      "p-value for model significance =  0.0\n",
      "Reject Null: The model bulit on indipendent variables explains the relationship, validates $r^2$\n"
     ]
    },
    {
     "data": {
      "image/png": "[encoded data removed]",
      "text/plain": [
       "<Figure size 432x288 with 1 Axes>"
      ]
     },
     "metadata": {
      "needs_background": "light"
     },
     "output_type": "display_data"
    }
   ],
   "source": [
    "# Evaluate bathroomcnt\n",
    "src.model.eval_linear_feature(ols('taxvaluedollarcnt ~ bathroomcnt', X_train_explore).fit(), X_train_explore.taxvaluedollarcnt, X_train_explore.bathroomcnt)"
   ]
  },
  {
   "cell_type": "code",
   "execution_count": 35,
   "metadata": {},
   "outputs": [
    {
     "name": "stdout",
     "output_type": "stream",
     "text": [
      "Our model beats the baseline\n",
      "It makes sense to evaluate this model more deeply.\n",
      "Baseline SSE 5305276391009041.0\n",
      "Model SSE 3462582594573496.0\n",
      "SSE is 3462582594573496.0  which is the sum sf squared errors\n",
      "MSE is 283446512325.9247  which is the average squared error\n",
      "RMSE is 532396.9499592618  which is the square root of the MSE\n",
      "R-squared =  0.347\n",
      "p-value for model significance =  0.0\n",
      "Reject Null: The model bulit on indipendent variables explains the relationship, validates $r^2$\n"
     ]
    },
    {
     "data": {
      "image/png": "[encoded data removed]",
      "text/plain": [
       "<Figure size 432x288 with 1 Axes>"
      ]
     },
     "metadata": {
      "needs_background": "light"
     },
     "output_type": "display_data"
    }
   ],
   "source": [
    "# Evaluate calculatedfinishedsquarefeet\n",
    "src.model.eval_linear_feature(ols('taxvaluedollarcnt ~ calculatedfinishedsquarefeet', X_train_explore).fit(), X_train_explore.taxvaluedollarcnt, X_train_explore.calculatedfinishedsquarefeet)"
   ]
  },
  {
   "cell_type": "code",
   "execution_count": 36,
   "metadata": {},
   "outputs": [
    {
     "name": "stdout",
     "output_type": "stream",
     "text": [
      "Our model beats the baseline\n",
      "It makes sense to evaluate this model more deeply.\n",
      "Baseline SSE 5305276391009041.0\n",
      "Model SSE 5167009711001330.0\n",
      "SSE is 5167009711001330.0  which is the sum sf squared errors\n",
      "MSE is 422970670514.1888  which is the average squared error\n",
      "RMSE is 650361.9534645218  which is the square root of the MSE\n",
      "R-squared =  0.026\n",
      "p-value for model significance =  4.070090992567426e-72\n",
      "Reject Null: The model bulit on indipendent variables explains the relationship, validates $r^2$\n"
     ]
    },
    {
     "data": {
      "image/png": "[encoded data removed]",
      "text/plain": [
       "<Figure size 432x288 with 1 Axes>"
      ]
     },
     "metadata": {
      "needs_background": "light"
     },
     "output_type": "display_data"
    }
   ],
   "source": [
    "# Evaluate hottub_spa\n",
    "src.model.eval_linear_feature(ols('taxvaluedollarcnt ~ hottub_spa', X_train_explore).fit(), X_train_explore.taxvaluedollarcnt, X_train_explore.hottub_spa)"
   ]
  },
  {
   "cell_type": "code",
   "execution_count": 37,
   "metadata": {},
   "outputs": [
    {
     "name": "stdout",
     "output_type": "stream",
     "text": [
      "Our model beats the baseline\n",
      "It makes sense to evaluate this model more deeply.\n",
      "Baseline SSE 5305276391009041.0\n",
      "Model SSE 5154537184452093.0\n",
      "SSE is 5154537184452093.0  which is the sum sf squared errors\n",
      "MSE is 421949671287.82684  which is the average squared error\n",
      "RMSE is 649576.5322791664  which is the square root of the MSE\n",
      "R-squared =  0.028\n",
      "p-value for model significance =  1.5172206952763014e-78\n",
      "Reject Null: The model bulit on indipendent variables explains the relationship, validates $r^2$\n"
     ]
    },
    {
     "data": {
      "image/png": "[encoded data removed]",
      "text/plain": [
       "<Figure size 432x288 with 1 Axes>"
      ]
     },
     "metadata": {
      "needs_background": "light"
     },
     "output_type": "display_data"
    }
   ],
   "source": [
    "# Evaluate poolcnt\n",
    "src.model.eval_linear_feature(ols('taxvaluedollarcnt ~ poolcnt', X_train_explore).fit(), X_train_explore.taxvaluedollarcnt, X_train_explore.poolcnt)"
   ]
  },
  {
   "cell_type": "code",
   "execution_count": 38,
   "metadata": {},
   "outputs": [
    {
     "name": "stdout",
     "output_type": "stream",
     "text": [
      "Our model beats the baseline\n",
      "It makes sense to evaluate this model more deeply.\n",
      "Baseline SSE 5305276391009041.0\n",
      "Model SSE 5236327303370102.0\n",
      "SSE is 5236327303370102.0  which is the sum sf squared errors\n",
      "MSE is 428644998638.67896  which is the average squared error\n",
      "RMSE is 654709.858363748  which is the square root of the MSE\n",
      "R-squared =  0.013\n",
      "p-value for model significance =  1.2695907840530403e-36\n",
      "Reject Null: The model bulit on indipendent variables explains the relationship, validates $r^2$\n"
     ]
    },
    {
     "data": {
      "image/png": "[encoded data removed]",
      "text/plain": [
       "<Figure size 432x288 with 1 Axes>"
      ]
     },
     "metadata": {
      "needs_background": "light"
     },
     "output_type": "display_data"
    }
   ],
   "source": [
    "# Evaluate year_cc\n",
    "src.model.eval_linear_feature(ols('taxvaluedollarcnt ~ year_cc', X_train_explore).fit(), X_train_explore.taxvaluedollarcnt, X_train_explore.year_cc)"
   ]
  },
  {
   "cell_type": "markdown",
   "metadata": {},
   "source": [
    "#### Takaway:\n",
    "- All models pass F-Test w/ p-value of < 0.05 and can be used for modeling, however most features just barely beat the model, suggesting they may not improve model preformance\n",
    "\n",
    "- Even variables with hight correlation, have low r-squred values.  Indicates they are not great fits for building a linear model.\n",
    "\n",
    "- Points toward feature engineering as way forward, combination of bedroom/bathroom"
   ]
  },
  {
   "cell_type": "markdown",
   "metadata": {},
   "source": [
    " # Modeling"
   ]
  },
  {
   "cell_type": "code",
   "execution_count": null,
   "metadata": {},
   "outputs": [],
   "source": []
  },
  {
   "cell_type": "code",
   "execution_count": null,
   "metadata": {},
   "outputs": [],
   "source": []
  },
  {
   "cell_type": "code",
   "execution_count": null,
   "metadata": {},
   "outputs": [],
   "source": []
  },
  {
   "cell_type": "code",
   "execution_count": null,
   "metadata": {},
   "outputs": [],
   "source": []
  },
  {
   "cell_type": "code",
   "execution_count": null,
   "metadata": {},
   "outputs": [],
   "source": []
  }
 ],
 "metadata": {
  "kernelspec": {
   "display_name": "Python 3",
   "language": "python",
   "name": "python3"
  },
  "language_info": {
   "codemirror_mode": {
    "name": "ipython",
    "version": 3
   },
   "file_extension": ".py",
   "mimetype": "text/x-python",
   "name": "python",
   "nbconvert_exporter": "python",
   "pygments_lexer": "ipython3",
   "version": "3.7.6"
  }
 },
 "nbformat": 4,
 "nbformat_minor": 4
}
