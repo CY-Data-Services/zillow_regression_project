{
 "cells": [
  {
   "cell_type": "code",
   "execution_count": 1,
   "metadata": {},
   "outputs": [],
   "source": [
    "import src.acquire\n",
    "import src.prepare\n",
    "import src.explore\n",
    "import src.model"
   ]
  },
  {
   "cell_type": "code",
   "execution_count": 2,
   "metadata": {},
   "outputs": [
    {
     "data": {
      "text/plain": [
       "((12224, 15), (5240, 15), (4366, 15))"
      ]
     },
     "execution_count": 2,
     "metadata": {},
     "output_type": "execute_result"
    }
   ],
   "source": [
    "path='zillow_df.csv'\n",
    "\n",
    "df, X_train_explore, \\\n",
    "    X_train_scaled, y_train, \\\n",
    "    X_validate_scaled, y_validate, \\\n",
    "    X_test_scaled, y_test = src.prepare.wrangle_zillow(path)\n",
    "\n",
    "X_train_scaled.shape, X_validate_scaled.shape, X_test_scaled.shape"
   ]
  },
  {
   "cell_type": "code",
   "execution_count": 3,
   "metadata": {},
   "outputs": [],
   "source": [
    "# Code to run before explore and modeling\n",
    "\n",
    "X_train_explore.rename(columns = {'Unnamed: 0':'delete', 'id.1':'delete1'}, inplace = True)\n",
    "X_train_explore.drop(columns = ['delete','delete1','yearbuilt'], inplace = True)\n",
    "X_train_scaled.rename(columns = {'Unnamed: 0':'delete', 'id.1':'delete1'}, inplace = True)\n",
    "X_train_scaled.drop(columns = ['delete','delete1'], inplace = True)\n",
    "X_validate_scaled.rename(columns = {'Unnamed: 0':'delete', 'id.1':'delete1'}, inplace = True)\n",
    "X_validate_scaled.drop(columns = ['delete','delete1'], inplace = True)\n",
    "X_test_scaled.rename(columns = {'Unnamed: 0':'delete', 'id.1':'delete1'}, inplace = True)\n",
    "X_test_scaled.drop(columns = ['delete','delete1'], inplace = True)"
   ]
  },
  {
   "cell_type": "code",
   "execution_count": 4,
   "metadata": {},
   "outputs": [
    {
     "data": {
      "text/html": [
       "<div>\n",
       "<style scoped>\n",
       "    .dataframe tbody tr th:only-of-type {\n",
       "        vertical-align: middle;\n",
       "    }\n",
       "\n",
       "    .dataframe tbody tr th {\n",
       "        vertical-align: top;\n",
       "    }\n",
       "\n",
       "    .dataframe thead th {\n",
       "        text-align: right;\n",
       "    }\n",
       "</style>\n",
       "<table border=\"1\" class=\"dataframe\">\n",
       "  <thead>\n",
       "    <tr style=\"text-align: right;\">\n",
       "      <th></th>\n",
       "      <th>bathroomcnt</th>\n",
       "      <th>bedroomcnt</th>\n",
       "      <th>calculatedfinishedsquarefeet</th>\n",
       "      <th>fireplace</th>\n",
       "      <th>garage</th>\n",
       "      <th>hottub_spa</th>\n",
       "      <th>lotsizesquarefeet</th>\n",
       "      <th>poolcnt</th>\n",
       "      <th>roomcnt</th>\n",
       "      <th>taxvaluedollarcnt</th>\n",
       "      <th>zip</th>\n",
       "      <th>useid</th>\n",
       "      <th>year</th>\n",
       "      <th>zip_cc</th>\n",
       "      <th>useid_cc</th>\n",
       "      <th>year_cc</th>\n",
       "    </tr>\n",
       "  </thead>\n",
       "  <tbody>\n",
       "    <tr>\n",
       "      <th>11961</th>\n",
       "      <td>1.0</td>\n",
       "      <td>3.0</td>\n",
       "      <td>1480.0</td>\n",
       "      <td>1.0</td>\n",
       "      <td>1.0</td>\n",
       "      <td>0.0</td>\n",
       "      <td>6500.0</td>\n",
       "      <td>0.0</td>\n",
       "      <td>6.0</td>\n",
       "      <td>209045.0</td>\n",
       "      <td>97101.0</td>\n",
       "      <td>261.0</td>\n",
       "      <td>1938.0</td>\n",
       "      <td>360</td>\n",
       "      <td>4</td>\n",
       "      <td>51</td>\n",
       "    </tr>\n",
       "    <tr>\n",
       "      <th>13861</th>\n",
       "      <td>2.0</td>\n",
       "      <td>2.0</td>\n",
       "      <td>880.0</td>\n",
       "      <td>0.0</td>\n",
       "      <td>1.0</td>\n",
       "      <td>0.0</td>\n",
       "      <td>0.0</td>\n",
       "      <td>0.0</td>\n",
       "      <td>0.0</td>\n",
       "      <td>263933.0</td>\n",
       "      <td>97068.0</td>\n",
       "      <td>266.0</td>\n",
       "      <td>1997.0</td>\n",
       "      <td>348</td>\n",
       "      <td>8</td>\n",
       "      <td>110</td>\n",
       "    </tr>\n",
       "    <tr>\n",
       "      <th>17463</th>\n",
       "      <td>2.0</td>\n",
       "      <td>2.0</td>\n",
       "      <td>891.0</td>\n",
       "      <td>0.0</td>\n",
       "      <td>0.0</td>\n",
       "      <td>0.0</td>\n",
       "      <td>32915.0</td>\n",
       "      <td>0.0</td>\n",
       "      <td>0.0</td>\n",
       "      <td>223000.0</td>\n",
       "      <td>96341.0</td>\n",
       "      <td>266.0</td>\n",
       "      <td>1987.0</td>\n",
       "      <td>190</td>\n",
       "      <td>8</td>\n",
       "      <td>100</td>\n",
       "    </tr>\n",
       "    <tr>\n",
       "      <th>10288</th>\n",
       "      <td>1.0</td>\n",
       "      <td>2.0</td>\n",
       "      <td>819.0</td>\n",
       "      <td>0.0</td>\n",
       "      <td>0.0</td>\n",
       "      <td>0.0</td>\n",
       "      <td>6299.0</td>\n",
       "      <td>0.0</td>\n",
       "      <td>0.0</td>\n",
       "      <td>367511.0</td>\n",
       "      <td>96023.0</td>\n",
       "      <td>261.0</td>\n",
       "      <td>1922.0</td>\n",
       "      <td>38</td>\n",
       "      <td>4</td>\n",
       "      <td>35</td>\n",
       "    </tr>\n",
       "    <tr>\n",
       "      <th>11486</th>\n",
       "      <td>2.0</td>\n",
       "      <td>4.0</td>\n",
       "      <td>1614.0</td>\n",
       "      <td>0.0</td>\n",
       "      <td>0.0</td>\n",
       "      <td>0.0</td>\n",
       "      <td>5008.0</td>\n",
       "      <td>0.0</td>\n",
       "      <td>0.0</td>\n",
       "      <td>67469.0</td>\n",
       "      <td>96111.0</td>\n",
       "      <td>261.0</td>\n",
       "      <td>1956.0</td>\n",
       "      <td>80</td>\n",
       "      <td>4</td>\n",
       "      <td>69</td>\n",
       "    </tr>\n",
       "    <tr>\n",
       "      <th>...</th>\n",
       "      <td>...</td>\n",
       "      <td>...</td>\n",
       "      <td>...</td>\n",
       "      <td>...</td>\n",
       "      <td>...</td>\n",
       "      <td>...</td>\n",
       "      <td>...</td>\n",
       "      <td>...</td>\n",
       "      <td>...</td>\n",
       "      <td>...</td>\n",
       "      <td>...</td>\n",
       "      <td>...</td>\n",
       "      <td>...</td>\n",
       "      <td>...</td>\n",
       "      <td>...</td>\n",
       "      <td>...</td>\n",
       "    </tr>\n",
       "    <tr>\n",
       "      <th>15223</th>\n",
       "      <td>3.0</td>\n",
       "      <td>5.0</td>\n",
       "      <td>2712.0</td>\n",
       "      <td>0.0</td>\n",
       "      <td>0.0</td>\n",
       "      <td>0.0</td>\n",
       "      <td>6142.0</td>\n",
       "      <td>0.0</td>\n",
       "      <td>0.0</td>\n",
       "      <td>509851.0</td>\n",
       "      <td>96356.0</td>\n",
       "      <td>269.0</td>\n",
       "      <td>1998.0</td>\n",
       "      <td>198</td>\n",
       "      <td>9</td>\n",
       "      <td>111</td>\n",
       "    </tr>\n",
       "    <tr>\n",
       "      <th>9390</th>\n",
       "      <td>3.0</td>\n",
       "      <td>4.0</td>\n",
       "      <td>2966.0</td>\n",
       "      <td>2.0</td>\n",
       "      <td>2.0</td>\n",
       "      <td>0.0</td>\n",
       "      <td>8050.0</td>\n",
       "      <td>1.0</td>\n",
       "      <td>9.0</td>\n",
       "      <td>638507.0</td>\n",
       "      <td>96987.0</td>\n",
       "      <td>261.0</td>\n",
       "      <td>1978.0</td>\n",
       "      <td>308</td>\n",
       "      <td>4</td>\n",
       "      <td>91</td>\n",
       "    </tr>\n",
       "    <tr>\n",
       "      <th>7485</th>\n",
       "      <td>3.0</td>\n",
       "      <td>3.0</td>\n",
       "      <td>2204.0</td>\n",
       "      <td>2.0</td>\n",
       "      <td>2.0</td>\n",
       "      <td>0.0</td>\n",
       "      <td>6000.0</td>\n",
       "      <td>0.0</td>\n",
       "      <td>6.0</td>\n",
       "      <td>598000.0</td>\n",
       "      <td>97107.0</td>\n",
       "      <td>261.0</td>\n",
       "      <td>1989.0</td>\n",
       "      <td>363</td>\n",
       "      <td>4</td>\n",
       "      <td>102</td>\n",
       "    </tr>\n",
       "    <tr>\n",
       "      <th>20811</th>\n",
       "      <td>3.0</td>\n",
       "      <td>3.0</td>\n",
       "      <td>1217.0</td>\n",
       "      <td>0.0</td>\n",
       "      <td>0.0</td>\n",
       "      <td>0.0</td>\n",
       "      <td>1351.0</td>\n",
       "      <td>0.0</td>\n",
       "      <td>0.0</td>\n",
       "      <td>275835.0</td>\n",
       "      <td>96378.0</td>\n",
       "      <td>269.0</td>\n",
       "      <td>1972.0</td>\n",
       "      <td>210</td>\n",
       "      <td>9</td>\n",
       "      <td>85</td>\n",
       "    </tr>\n",
       "    <tr>\n",
       "      <th>10870</th>\n",
       "      <td>2.5</td>\n",
       "      <td>2.0</td>\n",
       "      <td>1320.0</td>\n",
       "      <td>0.0</td>\n",
       "      <td>3.0</td>\n",
       "      <td>0.0</td>\n",
       "      <td>9999.0</td>\n",
       "      <td>0.0</td>\n",
       "      <td>0.0</td>\n",
       "      <td>284327.0</td>\n",
       "      <td>96966.0</td>\n",
       "      <td>266.0</td>\n",
       "      <td>1989.0</td>\n",
       "      <td>293</td>\n",
       "      <td>8</td>\n",
       "      <td>102</td>\n",
       "    </tr>\n",
       "  </tbody>\n",
       "</table>\n",
       "<p>12224 rows × 16 columns</p>\n",
       "</div>"
      ],
      "text/plain": [
       "       bathroomcnt  bedroomcnt  calculatedfinishedsquarefeet  fireplace  \\\n",
       "11961          1.0         3.0                        1480.0        1.0   \n",
       "13861          2.0         2.0                         880.0        0.0   \n",
       "17463          2.0         2.0                         891.0        0.0   \n",
       "10288          1.0         2.0                         819.0        0.0   \n",
       "11486          2.0         4.0                        1614.0        0.0   \n",
       "...            ...         ...                           ...        ...   \n",
       "15223          3.0         5.0                        2712.0        0.0   \n",
       "9390           3.0         4.0                        2966.0        2.0   \n",
       "7485           3.0         3.0                        2204.0        2.0   \n",
       "20811          3.0         3.0                        1217.0        0.0   \n",
       "10870          2.5         2.0                        1320.0        0.0   \n",
       "\n",
       "       garage  hottub_spa  lotsizesquarefeet  poolcnt  roomcnt  \\\n",
       "11961     1.0         0.0             6500.0      0.0      6.0   \n",
       "13861     1.0         0.0                0.0      0.0      0.0   \n",
       "17463     0.0         0.0            32915.0      0.0      0.0   \n",
       "10288     0.0         0.0             6299.0      0.0      0.0   \n",
       "11486     0.0         0.0             5008.0      0.0      0.0   \n",
       "...       ...         ...                ...      ...      ...   \n",
       "15223     0.0         0.0             6142.0      0.0      0.0   \n",
       "9390      2.0         0.0             8050.0      1.0      9.0   \n",
       "7485      2.0         0.0             6000.0      0.0      6.0   \n",
       "20811     0.0         0.0             1351.0      0.0      0.0   \n",
       "10870     3.0         0.0             9999.0      0.0      0.0   \n",
       "\n",
       "       taxvaluedollarcnt      zip  useid    year  zip_cc  useid_cc  year_cc  \n",
       "11961           209045.0  97101.0  261.0  1938.0     360         4       51  \n",
       "13861           263933.0  97068.0  266.0  1997.0     348         8      110  \n",
       "17463           223000.0  96341.0  266.0  1987.0     190         8      100  \n",
       "10288           367511.0  96023.0  261.0  1922.0      38         4       35  \n",
       "11486            67469.0  96111.0  261.0  1956.0      80         4       69  \n",
       "...                  ...      ...    ...     ...     ...       ...      ...  \n",
       "15223           509851.0  96356.0  269.0  1998.0     198         9      111  \n",
       "9390            638507.0  96987.0  261.0  1978.0     308         4       91  \n",
       "7485            598000.0  97107.0  261.0  1989.0     363         4      102  \n",
       "20811           275835.0  96378.0  269.0  1972.0     210         9       85  \n",
       "10870           284327.0  96966.0  266.0  1989.0     293         8      102  \n",
       "\n",
       "[12224 rows x 16 columns]"
      ]
     },
     "execution_count": 4,
     "metadata": {},
     "output_type": "execute_result"
    }
   ],
   "source": [
    "X_train_explore"
   ]
  },
  {
   "cell_type": "code",
   "execution_count": 8,
   "metadata": {},
   "outputs": [],
   "source": [
    "import pandas as pd\n",
    "import numpy as np\n",
    "import seaborn as sns\n",
    "import matplotlib.pyplot as plt\n",
    "from math import sqrt\n",
    "from scipy import stats\n",
    "\n",
    "import warnings\n",
    "warnings.filterwarnings(\"ignore\")"
   ]
  },
  {
   "cell_type": "markdown",
   "metadata": {},
   "source": [
    "# Explore\n",
    "\n",
    "MVP- 3 Features\n",
    "1. calculatedfinishedsquarefeet\n",
    "2. bedroomcnt\n",
    "3. bathroomcnt\n",
    "\n",
    "Target = taxvaluedollarcnt"
   ]
  },
  {
   "cell_type": "code",
   "execution_count": 10,
   "metadata": {},
   "outputs": [
    {
     "data": {
      "image/png": "[encoded data removed]",
      "text/plain": [
       "<Figure size 432x432 with 3 Axes>"
      ]
     },
     "metadata": {
      "needs_background": "light"
     },
     "output_type": "display_data"
    }
   ],
   "source": [
    "sns.jointplot(x='calculatedfinishedsquarefeet',y='taxvaluedollarcnt', data=X_train_explore)\n",
    "plt.show()"
   ]
  },
  {
   "cell_type": "code",
   "execution_count": 11,
   "metadata": {},
   "outputs": [
    {
     "data": {
      "image/png": "[encoded data removed]",
      "text/plain": [
       "<Figure size 432x432 with 3 Axes>"
      ]
     },
     "metadata": {
      "needs_background": "light"
     },
     "output_type": "display_data"
    }
   ],
   "source": [
    "sns.jointplot(x='bedroomcnt',y='taxvaluedollarcnt', data=X_train_explore)\n",
    "plt.show()"
   ]
  },
  {
   "cell_type": "code",
   "execution_count": 12,
   "metadata": {},
   "outputs": [
    {
     "data": {
      "image/png": "[encoded data removed]",
      "text/plain": [
       "<Figure size 432x432 with 3 Axes>"
      ]
     },
     "metadata": {
      "needs_background": "light"
     },
     "output_type": "display_data"
    }
   ],
   "source": [
    "sns.jointplot(x='bathroomcnt',y='taxvaluedollarcnt', data=X_train_explore)\n",
    "plt.show()"
   ]
  },
  {
   "cell_type": "markdown",
   "metadata": {},
   "source": [
    "#### Takeaway:\n",
    "\n",
    "1. The only feature that appears to correlate wth the target in a linear fashion is calculatedfinishedsqure feet\n",
    "2. Lets test if the featues are statistically significant to use"
   ]
  },
  {
   "cell_type": "code",
   "execution_count": null,
   "metadata": {},
   "outputs": [],
   "source": []
  },
  {
   "cell_type": "code",
   "execution_count": null,
   "metadata": {},
   "outputs": [],
   "source": []
  },
  {
   "cell_type": "markdown",
   "metadata": {},
   "source": [
    "## Notes"
   ]
  },
  {
   "cell_type": "markdown",
   "metadata": {},
   "source": [
    "1. I already uploaded my env.py file so need need to upload yours.  We only need one to access the data.\n",
    "\n",
    "\n",
    "2. I already uploaded a .gitignore so also no worries there\n",
    "\n",
    "\n",
    "3. Data is ready to go, i want to engeneer a feature that combines bed and bath, but get a weird error when I try.    we can trouble shoot after mvp, but code can be found in .prepare file\n",
    "\n",
    "\n",
    "4. I want to leave 2 categorical variables after transforming them to numeric but I also need help with that\n",
    "   - \"regionidzip\"\n",
    "   - \"propertylandusetypeid\"\n",
    "   - They need to be made in to categories before we can do any testing on them (Cat to Numeric)\n",
    "\n",
    "\n",
    "5. id.1 and Unmaed:0 showd up we also need to delete them"
   ]
  },
  {
   "cell_type": "code",
   "execution_count": null,
   "metadata": {},
   "outputs": [],
   "source": []
  }
 ],
 "metadata": {
  "kernelspec": {
   "display_name": "Python 3",
   "language": "python",
   "name": "python3"
  },
  "language_info": {
   "codemirror_mode": {
    "name": "ipython",
    "version": 3
   },
   "file_extension": ".py",
   "mimetype": "text/x-python",
   "name": "python",
   "nbconvert_exporter": "python",
   "pygments_lexer": "ipython3",
   "version": "3.8.3"
  }
 },
 "nbformat": 4,
 "nbformat_minor": 4
}
